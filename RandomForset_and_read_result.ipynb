{
 "cells": [
  {
   "cell_type": "code",
   "execution_count": 1,
   "metadata": {},
   "outputs": [
    {
     "name": "stderr",
     "output_type": "stream",
     "text": [
      "Using TensorFlow backend.\n"
     ]
    }
   ],
   "source": [
    "from sklearn.model_selection import cross_val_score\n",
    "from sklearn.ensemble import RandomForestClassifier\n",
    "from sklearn.model_selection import KFold\n",
    "from sklearn.model_selection import StratifiedKFold\n",
    "from sklearn import cluster\n",
    "from sklearn.model_selection import train_test_split,GridSearchCV\n",
    "#from sklearn.metrics import classification_report\n",
    "#from sklearn.metrics import roc_curve,auc,roc_auc_score\n",
    "from sklearn.metrics import *\n",
    "import matplotlib.pyplot as plt \n",
    "from sklearn.externals import joblib\n",
    "import pandas as pd\n",
    "import numpy as np\n",
    "import os, sys, re,math,time\n",
    "from keras.models import *\n",
    "#显示所有列\n",
    "pd.set_option('display.max_columns', None)\n",
    "#显示所有行\n",
    "pd.set_option('display.max_rows', None)\n",
    "#设置value的显示长度为100，默认为50\n",
    "pd.set_option('max_colwidth',200)"
   ]
  },
  {
   "cell_type": "code",
   "execution_count": 2,
   "metadata": {},
   "outputs": [],
   "source": [
    "\n",
    "\n",
    "from keras import backend as K\n",
    "\n",
    "from keras.optimizers import Adam\n",
    "from keras.models import *\n",
    "from keras.layers import *\n",
    "from keras.utils.np_utils import to_categorical\n",
    "\n",
    "from keras.callbacks import ModelCheckpoint"
   ]
  },
  {
   "cell_type": "code",
   "execution_count": 3,
   "metadata": {},
   "outputs": [],
   "source": [
    "# 分割并序列编码\n",
    "AA = 'GAVLIFWYDNEKQMSTCPHR'\n",
    "def pep(path, seq_len):\n",
    "    seqs = open(path).readlines()\n",
    "    cut = (len(seqs[0].split()[0]) - 1 - seq_len) // 2\n",
    "    X = [[AA.index(res.upper()) if res.upper() in AA else 0\n",
    "          for res in (seq.split()[0][cut:-cut] if cut != 0 else seq.split()[0])]\n",
    "        for seq in seqs if seq.strip() != '']\n",
    "    y = [int(seq.split()[-1]) for seq in seqs if seq.strip() != '']\n",
    "    return np.array(X), np.array(y)"
   ]
  },
  {
   "cell_type": "code",
   "execution_count": 4,
   "metadata": {},
   "outputs": [],
   "source": [
    "def mean(a):\n",
    "    return sum(a) / len(a)"
   ]
  },
  {
   "cell_type": "code",
   "execution_count": 5,
   "metadata": {},
   "outputs": [],
   "source": [
    "def read_svm(file):\n",
    "    encodings = []\n",
    "    labels = []\n",
    "    with open(file) as f:\n",
    "        records = f.readlines()\n",
    "\n",
    "    for line in records:\n",
    "        line = re.sub('\\d+:', '', line)\n",
    "        array = line.strip().split() if line.strip() != '' else None\n",
    "        encodings.append(array[1:])\n",
    "        labels.append(int(array[0]))\n",
    "\n",
    "    return np.array(encodings).astype(float), np.array(labels).astype(int)"
   ]
  },
  {
   "cell_type": "code",
   "execution_count": 6,
   "metadata": {},
   "outputs": [],
   "source": [
    "def performance(labelArr, predictArr):\n",
    "    #labelArr[i] is actual value,predictArr[i] is predict value\n",
    "    TP = 0.; TN = 0.; FP = 0.; FN = 0.\n",
    "    for i in range(len(labelArr)):\n",
    "        if labelArr[i] == 1 and predictArr[i] == 1:\n",
    "            TP += 1.\n",
    "        if labelArr[i] == 1 and predictArr[i] == 0:\n",
    "            FN += 1.\n",
    "        if labelArr[i] == 0 and predictArr[i] == 1:\n",
    "            FP += 1.\n",
    "        if labelArr[i] == 0 and predictArr[i] == 0:\n",
    "            TN += 1.\n",
    "    if (TP + FN)==0:\n",
    "        SN=0\n",
    "    else:\n",
    "        SN = TP/(TP + FN) #Sensitivity = TP/P  and P = TP + FN\n",
    "    if (FP+TN)==0:\n",
    "        SP=0\n",
    "    else:\n",
    "        SP = TN/(FP + TN) #Specificity = TN/N  and N = TN + FP\n",
    "    if (TP+FP)==0:\n",
    "        precision=0\n",
    "    else:\n",
    "        precision=TP/(TP+FP)\n",
    "    if (TP+FN)==0:\n",
    "        recall=0\n",
    "    else:\n",
    "        recall=TP/(TP+FN)\n",
    "    GM=math.sqrt(recall*SP)\n",
    "    #MCC = (TP*TN-FP*FN)/math.sqrt((TP+FP)*(TP+FN)*(TN+FP)*(TN+FN))\n",
    "    return precision,recall,SN,SP,GM,TP,TN,FP,FN"
   ]
  },
  {
   "cell_type": "code",
   "execution_count": 7,
   "metadata": {},
   "outputs": [],
   "source": [
    "def draw_ROC_curve(y_test,y_predict,savepath):\n",
    "    '''\n",
    "    画ROC曲线\n",
    "    '''\n",
    "    false_positive_rate,true_positive_rate,thresholds=roc_curve(y_test, y_predict)\n",
    "    roc_auc=auc(false_positive_rate, true_positive_rate)\n",
    "    plt.title('ROC')\n",
    "    plt.plot(false_positive_rate, true_positive_rate,'b',label='AUC = %0.2f'% roc_auc)\n",
    "    plt.legend(loc='lower right')\n",
    "    plt.plot([0,1],[0,1],'r--')\n",
    "    plt.ylabel('TPR')\n",
    "    plt.xlabel('FPR')\n",
    "    plt.savefig(savepath)\n",
    "    plt.close(0)\n"
   ]
  },
  {
   "cell_type": "code",
   "execution_count": 8,
   "metadata": {},
   "outputs": [],
   "source": [
    "def write_score(path,pre,label):\n",
    "    fw = open(path, 'w')\n",
    "\n",
    "    for i in range(0,len(pre)):\n",
    "        fw.write(str(pre[i]).replace('[','').replace(']',''))\n",
    "        fw.write('\\t')\n",
    "        fw.write(str(label[i]))\n",
    "        fw.write('\\n')\n",
    "\n",
    "    fw.close()"
   ]
  },
  {
   "cell_type": "code",
   "execution_count": 9,
   "metadata": {},
   "outputs": [],
   "source": [
    "def read_result(path):\n",
    "    result = pd.read_table(path)\n",
    "    for i in range(0,len(result)):\n",
    "        if result['Sp'][i] >= 0.9 and result['Sp'][i+1] <0.9:\n",
    "            print(\"Sp:  %f \"  %result['Sp'][i])\n",
    "            print(\"Cutoff:  %f \"  %result['<<Cutoff'][i])"
   ]
  },
  {
   "cell_type": "code",
   "execution_count": 9,
   "metadata": {},
   "outputs": [],
   "source": [
    "# human data 25\n",
    "\n",
    "# EGAAC gap4\n",
    "path_train = 'C:/Users/Crow/Desktop/human_data/Step_11_CV/Train_25_EGAAC_gap4.fasta'\n",
    "path_test = 'C:/Users/Crow/Desktop/human_data/Step_11_IND/Test_25_EGAAC_gap4.fasta'\n"
   ]
  },
  {
   "cell_type": "code",
   "execution_count": null,
   "metadata": {},
   "outputs": [],
   "source": [
    "train = read_svm(path_train)\n",
    "test = read_svm(path_test)\n",
    "\n",
    "train_data = train[0]\n",
    "train_label = train[1]\n",
    "\n",
    "test_data = test[0]\n",
    "test_label = test[1]"
   ]
  },
  {
   "cell_type": "code",
   "execution_count": null,
   "metadata": {
    "scrolled": true
   },
   "outputs": [],
   "source": [
    "# 对n_estimators 网格搜索\n",
    "from sklearn.model_selection import GridSearchCV\n",
    "param_test1 = {'n_estimators': range(100,2000,500)}\n",
    "gsearch1 = GridSearchCV(estimator=RandomForestClassifier(max_depth=8, max_features='sqrt', oob_score=True, random_state=10,n_jobs=-1),param_grid=param_test1, scoring='roc_auc', cv=5)\n",
    "gsearch1.fit(train_data, train_label)\n",
    "print(gsearch1.cv_results_, gsearch1.best_params_, gsearch1.best_score_)\n",
    "\n"
   ]
  },
  {
   "cell_type": "code",
   "execution_count": null,
   "metadata": {},
   "outputs": [],
   "source": [
    "# 最大深度max_depth进行网格搜索内部节点再划分所需最小样本数min_samples_split进行网格搜索\n",
    "\n",
    "param_test2 = {'max_depth':range(3,14,1), 'min_samples_split':range(5,51,5)}\n",
    "gsearch2 = GridSearchCV(estimator=RandomForestClassifier(n_estimators=100, max_features='sqrt', oob_score=True, random_state=10,n_jobs=-1),param_grid=param_test2, scoring='roc_auc',iid=False, cv=5)\n",
    "gsearch2.fit(train_data, train_label)\n",
    "print(gsearch2.cv_results_, gsearch2.best_params_, gsearch2.best_score_)\n",
    "\n",
    "\n",
    "\n"
   ]
  },
  {
   "cell_type": "code",
   "execution_count": null,
   "metadata": {},
   "outputs": [],
   "source": [
    "# 对内部节点再划分所需最小样本数min_samples_split和叶子节点最少样本数min_samples_leaf一起调参\n",
    "param_test3 = {'min_samples_split':range(30,150,20), 'min_samples_leaf':range(1,60,10)}\n",
    "gsearch3 = GridSearchCV(estimator = RandomForestClassifier(n_estimators= 100, max_depth=11,max_features='sqrt' ,oob_score=True, random_state=10),param_grid = param_test3, scoring='roc_auc',iid=False, cv=5)\n",
    "gsearch3.fit(train_data, train_label)\n",
    "gsearch3.cv_results_, gsearch3.best_params_, gsearch3.best_score_\n",
    "\n"
   ]
  },
  {
   "cell_type": "code",
   "execution_count": null,
   "metadata": {},
   "outputs": [],
   "source": [
    "print(gsearch3.best_params_, gsearch3.best_score_)"
   ]
  },
  {
   "cell_type": "code",
   "execution_count": null,
   "metadata": {},
   "outputs": [],
   "source": [
    "# 对最大特征数max_features做调参\n",
    "param_test4 = {'max_features':range(3,20,2)}\n",
    "gsearch4 = GridSearchCV(estimator = RandomForestClassifier(n_estimators= 100, max_depth=11, min_samples_split=30,min_samples_leaf=20,oob_score=True,random_state=10),param_grid = param_test4, scoring='roc_auc',iid=False, cv=5)\n",
    "gsearch4.fit(train_data, train_label)\n",
    "\n",
    "\n"
   ]
  },
  {
   "cell_type": "code",
   "execution_count": null,
   "metadata": {},
   "outputs": [],
   "source": [
    "print(gsearch1.best_params_, gsearch4.best_score_)\n",
    "#0.7736780121285872"
   ]
  },
  {
   "cell_type": "code",
   "execution_count": null,
   "metadata": {},
   "outputs": [],
   "source": [
    "clf = RandomForestClassifier(n_estimators=1600,oob_score=True,n_jobs=-1,random_state=50,max_depth=11,min_samples_split=30,max_features=19,min_samples_leaf=20)\n",
    "clf.fit(train_data,train_label)\n",
    "test_pred_proba = clf.predict_proba(test_data)[:, 1]\n",
    "fpr, tpr, thresholds = roc_curve(test_label,test_pred_proba,pos_label=1)\n",
    "print(auc(fpr, tpr))"
   ]
  },
  {
   "cell_type": "code",
   "execution_count": null,
   "metadata": {
    "scrolled": true
   },
   "outputs": [],
   "source": [
    "\n",
    "leaf_option =[1,5,10,50,100,200,500]\n",
    "\n",
    "for leaf_size in leaf_option:\n",
    "    clf = RandomForestClassifier(n_estimators=100,oob_score=True,n_jobs=-1,random_state=50,max_features='auto',min_samples_leaf=leaf_size)\n",
    "    # 使用训练集训练分类器\n",
    "    clf.fit(train_data,train_label)\n",
    "    #print(clf.score(test_data,test_label))\n",
    "    #print(\"AUC - ROC : \", roc_auc_score(train_label,clf.oob_decision_function_))\n",
    "    print(clf.oob_score_)\n",
    "\n",
    "\n",
    "\n",
    "\n",
    "# 使用测试集预测\n",
    "#test_pred = clf.predict(test_data)\n",
    "\n",
    "#print(classification_report(test_label,test_pred))\n",
    "\n",
    "#scores = cross_val_score(clf,train_data,train_label)\n",
    "\n",
    "\n",
    "#print(scores.mean())"
   ]
  },
  {
   "cell_type": "code",
   "execution_count": null,
   "metadata": {},
   "outputs": [],
   "source": [
    "# TPR = TP/P\n",
    "# FPR = FP/N\n",
    "\n",
    "test_pred_proba = clf.predict_proba(test_data)[:, 1]\n",
    "fpr, tpr, thresholds = roc_curve(test_label,test_pred_proba,pos_label=1)\n",
    "print(auc(fpr, tpr))\n",
    "\n",
    "\n",
    "draw_ROC_curve(test_label,test_pred_proba,savepath='C:/Users/Crow/Desktop/human_data/result/EGAAC_31_gap1.png')\n",
    "#feature_weight=clf.feature_importances_\n",
    "\n"
   ]
  },
  {
   "cell_type": "code",
   "execution_count": null,
   "metadata": {},
   "outputs": [],
   "source": [
    "\n",
    "\n"
   ]
  },
  {
   "cell_type": "code",
   "execution_count": 8,
   "metadata": {
    "scrolled": true
   },
   "outputs": [
    {
     "name": "stdout",
     "output_type": "stream",
     "text": [
      "29\n",
      "test:\n",
      "ACC:  0.917519 \n",
      "Sn: 0.000000\n",
      "Sp: 1.000000\n",
      "MCC: 0.000000 \n",
      "AUC: 0.751157\n",
      "AUC: 0.751157\n"
     ]
    },
    {
     "name": "stderr",
     "output_type": "stream",
     "text": [
      "C:\\Users\\Crow\\AppData\\Local\\conda\\conda\\envs\\deeplearning\\lib\\site-packages\\sklearn\\metrics\\classification.py:543: RuntimeWarning: invalid value encountered in double_scalars\n",
      "  mcc = cov_ytyp / np.sqrt(cov_ytyt * cov_ypyp)\n"
     ]
    },
    {
     "name": "stdout",
     "output_type": "stream",
     "text": [
      "29\n",
      "train:\n",
      "ACC:  0.909382 \n",
      "Sn: 0.000000\n",
      "Sp: 1.000000\n",
      "MCC: 0.000000 \n",
      "AUC: 0.926690\n",
      "AUC: 0.926690\n"
     ]
    },
    {
     "name": "stderr",
     "output_type": "stream",
     "text": [
      "C:\\Users\\Crow\\AppData\\Local\\conda\\conda\\envs\\deeplearning\\lib\\site-packages\\sklearn\\metrics\\classification.py:543: RuntimeWarning: invalid value encountered in double_scalars\n",
      "  mcc = cov_ytyp / np.sqrt(cov_ytyt * cov_ypyp)\n"
     ]
    }
   ],
   "source": [
    "name = 'ZSCALE'\n",
    "gap = ''\n",
    "#q = [21,23,25,27,29,31,35,37]\n",
    "#q = [21,23,25]\n",
    "#q = [29,31,35,37]\n",
    "#test_cutoff = [0.102923,0.103041,0.103168]\n",
    "#train_cutoff = [0.102351,0.102568,0.102647]\n",
    "# test_cutoff = [0.102923,0.103041,0.103168,0.103248,0.103337,0.10367,0.103878,0.103768]\n",
    "# train_cutoff = [0.102351,0.102568,0.102647,0.102768,0.102879,0.103028,0.103232,0.10335]\n",
    "\n",
    "q=[29]\n",
    "test_cutoff = [0.103337,0.10367,0.103878,0.103768]\n",
    "train_cutoff = [0.102879,0.103028,0.103232,0.10335]\n",
    "\n",
    "\n",
    "c = 0\n",
    "for t in q :\n",
    "    \n",
    "    path_train = 'C:/Users/Crow/Desktop/human_data_12.12/Step_11_CV/'+ name +'/Train_'+str(t)+'_'+ name +  gap +'.txt'\n",
    "    path_test = 'C:/Users/Crow/Desktop/human_data_12.12/Step_11_IND/'+ name +'/Test_'+str(t)+'_'+ name + gap +'.txt'\n",
    "    train = read_svm(path_train)\n",
    "    test = read_svm(path_test)\n",
    "\n",
    "    x_train = train[0]\n",
    "    y_train = train[1]\n",
    "\n",
    "    x_test = test[0]\n",
    "    y_test = test[1]\n",
    "    clf = RandomForestClassifier(n_estimators=1000,oob_score=False,n_jobs=4,\n",
    "                                random_state=50,max_depth=11,min_samples_split=30,max_features=19,min_samples_leaf=20)\n",
    "\n",
    "#     clf = RandomForestClassifier(n_estimators=1000,oob_score=False,n_jobs=3, class_weight='balanced')\n",
    "#     clf = RandomForestClassifier(bootstrap=True, class_weight=None, criterion='gini',\n",
    "#             max_depth=10, max_features='auto', max_leaf_nodes=None,\n",
    "#             min_impurity_decrease=0.0, min_impurity_split=None,\n",
    "#             min_samples_leaf=1, min_samples_split=2,\n",
    "#             min_weight_fraction_leaf=0.0, n_estimators=1000, n_jobs=3,\n",
    "#             oob_score=False, random_state=0, verbose=0, warm_start=False)\n",
    "    # 使用训练集训练分类器\n",
    "    clf.fit(x_train,y_train)\n",
    "    \n",
    "\n",
    "    \n",
    "    # 使用测试集预测\n",
    "    test_pred = clf.predict(x_test)\n",
    "    \n",
    "    #print(classification_report(test_label,test_pred))\n",
    "    \n",
    "    test_pred_proba = clf.predict_proba(x_test)[:, 1]\n",
    "#     for i in range(0,len(test_pred_proba)):\n",
    "#         if test_pred_proba[i] > test_cutoff[c]:       \n",
    "#             test_pred[i] = 1\n",
    "#         else:\n",
    "#             test_pred[i] = 0\n",
    "    fpr, tpr, thresholds = roc_curve(y_test,test_pred_proba,pos_label=1)\n",
    "    precision,recall,SN,SP,GM,TP,TN,FP,FN = performance(y_test,test_pred)\n",
    "    print(t)\n",
    "    print('test:')\n",
    "    print(\"ACC:  %f \"  %accuracy_score(y_test,test_pred))\n",
    "    print(\"Sn: %f\" %SN)\n",
    "    print(\"Sp: %f\" %SP)\n",
    "    print(\"MCC: %f \" %matthews_corrcoef(y_test,test_pred))\n",
    "    print(\"AUC: %f\" % auc(fpr, tpr))\n",
    "    print(\"AUC: %f\" % roc_auc_score(y_test,test_pred_proba))\n",
    "    \n",
    "    \n",
    "    #write_score('C:/Users/Crow/Desktop/human_data_12.12/Step_11_IND/'+ name +'/Test_'+str(t)+'_'+ name + gap +'_result.txt',test_pred_proba,y_test)\n",
    "    \n",
    "    #draw_ROC_curve(test_label,test_pred_proba,savepath='C:/Users/Crow/Desktop/'+ name +'/result/EGAAC_'+str(i)+'_gap4')\n",
    "    \n",
    "    \n",
    "    \n",
    "    # 使用训练集预测\n",
    "    train_pred = clf.predict(x_train)\n",
    "    \n",
    "    #print(classification_report(test_label,test_pred))\n",
    "    train_pred_proba = clf.predict_proba(x_train)[:, 1]\n",
    "#     for i in range(0,len(train_pred_proba)):\n",
    "#         if train_pred_proba[i] > train_cutoff[c]:       \n",
    "#             train_pred[i] = 1\n",
    "#         else:\n",
    "#             train_pred[i] = 0\n",
    "    fpr, tpr, thresholds = roc_curve(y_train,train_pred_proba,pos_label=1)\n",
    "    precision,recall,SN,SP,GM,TP,TN,FP,FN = performance(y_train,train_pred)\n",
    "    print(t)\n",
    "    print('train:')\n",
    "    print(\"ACC:  %f \"  %accuracy_score(y_train,train_pred))\n",
    "    print(\"Sn: %f\" %SN)\n",
    "    print(\"Sp: %f\" %SP)\n",
    "    print(\"MCC: %f \" %matthews_corrcoef(y_train,train_pred))\n",
    "    print(\"AUC: %f\" % auc(fpr, tpr))\n",
    "    print(\"AUC: %f\" % roc_auc_score(y_train,train_pred_proba))\n",
    "    \n",
    "    \n",
    "    #write_score('C:/Users/Crow/Desktop/human_data_12.12/Step_11_CV/'+ name +'/Train_'+str(t)+'_'+ name +  gap +'_result.txt',train_pred_proba,y_train)\n",
    "    c+=1"
   ]
  },
  {
   "cell_type": "code",
   "execution_count": 14,
   "metadata": {},
   "outputs": [
    {
     "data": {
      "text/plain": [
       "array([0, 0, 0, ..., 0, 0, 0])"
      ]
     },
     "execution_count": 14,
     "metadata": {},
     "output_type": "execute_result"
    }
   ],
   "source": [
    "train_pred"
   ]
  },
  {
   "cell_type": "code",
   "execution_count": 15,
   "metadata": {},
   "outputs": [],
   "source": [
    "train_result = pd.read_table(path_train_result, header=None)\n",
    "test_pred2 = test_result[1]"
   ]
  },
  {
   "cell_type": "code",
   "execution_count": 26,
   "metadata": {},
   "outputs": [
    {
     "ename": "SyntaxError",
     "evalue": "invalid syntax (<ipython-input-26-7d33d097537d>, line 1)",
     "output_type": "error",
     "traceback": [
      "\u001b[1;36m  File \u001b[1;32m\"<ipython-input-26-7d33d097537d>\"\u001b[1;36m, line \u001b[1;32m1\u001b[0m\n\u001b[1;33m    test_pred2.as\u001b[0m\n\u001b[1;37m                ^\u001b[0m\n\u001b[1;31mSyntaxError\u001b[0m\u001b[1;31m:\u001b[0m invalid syntax\n"
     ]
    }
   ],
   "source": [
    "test_pred2.as"
   ]
  },
  {
   "cell_type": "code",
   "execution_count": 20,
   "metadata": {},
   "outputs": [
    {
     "data": {
      "text/plain": [
       "array([1, 0, 0, ..., 0, 0, 0], dtype=int64)"
      ]
     },
     "execution_count": 20,
     "metadata": {},
     "output_type": "execute_result"
    }
   ],
   "source": [
    "np.array(test_pred2)"
   ]
  },
  {
   "cell_type": "code",
   "execution_count": null,
   "metadata": {
    "scrolled": true
   },
   "outputs": [],
   "source": [
    "name = 'CKSAAP'\n",
    "gap = '_gap4'\n",
    "#q = [21,23,25]\n",
    "q = [21,23,25,27,29,31,35,37]\n",
    "test_cutoff = [0.158416,0.205074,0.218044,0.25931,0.209263,0.145426,0.128209,0.177769]\n",
    "train_cutoff = [0.154102,0.198037,0.207043,0.242956,0.199374,0.14083,0.128083,0.174991]\n",
    "c = 0\n",
    "for t in q :\n",
    "    path_train = 'C:/Users/Crow/Desktop/human_data_12.12/Step_11_CV/'+ name +'/Train_'+str(t)+'_'+ name + gap +'.txt'\n",
    "    path_test = 'C:/Users/Crow/Desktop/human_data_12.12/Step_11_IND/'+ name +'/Test_'+str(t)+'_'+ name + gap +'.txt'\n",
    "    train = read_svm(path_train)\n",
    "    test = read_svm(path_test)\n",
    "\n",
    "\n",
    "    x_train = train[0]\n",
    "    y_train = train[1]\n",
    "\n",
    "    x_test = test[0]\n",
    "    y_test = test[1]\n",
    "    \n",
    "    path_test_result = 'C:/Users/Crow/Desktop/human_data_12.12/Step_11_IND/'+ name +'/Test_keras_'+ str(t) + '_'+ name+ gap+'_result.txt'\n",
    "    path_train_result = 'C:/Users/Crow/Desktop/human_data_12.12/Step_11_CV/'+ name +'/Train_keras_'+ str(t) + '_'+ name + gap+'_result.txt'\n",
    "    \n",
    "    test_result = pd.read_table(path_test_result, header=None)\n",
    "\n",
    "    train_result = pd.read_table(path_train_result, header=None)\n",
    "    \n",
    "    test_result_score = test_result[0]\n",
    "    test_pred = np.array(test_result[1])\n",
    "    \n",
    "    train_result_score = train_result[0]\n",
    "    train_pred = np.array(train_result[1]\n",
    "    \n",
    "    \n",
    "    for i in range(0,len(test_result_score)):\n",
    "        if test_result_score[i] > test_cutoff[c]:       \n",
    "            test_pred[i] = 1\n",
    "        else:\n",
    "            test_pred[i] = 0\n",
    "    fpr, tpr, thresholds = roc_curve(y_test,test_result_score,pos_label=1)\n",
    "    precision,recall,SN,SP,GM,TP,TN,FP,FN = performance(y_test,test_pred)\n",
    "    print(t)\n",
    "    print('test:')\n",
    "    print(\"ACC:  %f \"  %accuracy_score(y_test,test_pred))\n",
    "    print(\"Sn: %f\" %SN)\n",
    "    print(\"Sp: %f\" %SP)\n",
    "    print(\"MCC: %f \" %matthews_corrcoef(y_test,test_pred))\n",
    "    print(\"AUC: %f\" % auc(fpr, tpr))\n",
    "    print(\"AUC: %f\" % roc_auc_score(y_test,test_result_score))\n",
    "    \n",
    "    \n",
    "    for i in range(0,len(train_result_score)):\n",
    "        if train_result_score[i] > train_cutoff[c]:       \n",
    "            train_pred[i] = 1\n",
    "        else:\n",
    "            train_pred[i] = 0\n",
    "    fpr, tpr, thresholds = roc_curve(y_train,train_result_score,pos_label=1)\n",
    "    precision,recall,SN,SP,GM,TP,TN,FP,FN = performance(y_train,train_pred)\n",
    "    print(t)\n",
    "    print('train:')\n",
    "    print(\"ACC:  %f \"  %accuracy_score(y_train,train_pred))\n",
    "    print(\"Sn: %f\" %SN)\n",
    "    print(\"Sp: %f\" %SP)\n",
    "    print(\"MCC: %f \" %matthews_corrcoef(y_train,train_pred))\n",
    "    print(\"AUC: %f\" % auc(fpr, tpr))\n",
    "    print(\"AUC: %f\" % roc_auc_score(y_train,train_result_score))\n",
    "    \n",
    "    c+=1"
   ]
  },
  {
   "cell_type": "code",
   "execution_count": 22,
   "metadata": {},
   "outputs": [
    {
     "name": "stdout",
     "output_type": "stream",
     "text": [
      "29\n",
      "test:\n",
      "ACC:  0.583815 \n",
      "Sn: 0.824680\n",
      "Sp: 0.562163\n",
      "MCC: 0.213228 \n",
      "AUC: 0.766018\n",
      "AUC: 0.766018\n"
     ]
    }
   ],
   "source": [
    "test_result = pd.read_table(path_test_result, header=None)\n",
    "\n",
    "train_result = pd.read_table(path_train_result, header=None)\n",
    "    \n",
    "test_result_score = test_result[0]\n",
    "test_pred = np.array(test_result[1])\n",
    "    \n",
    "\n",
    "    \n",
    "    \n",
    "for i in range(0,len(test_result_score)):\n",
    "    if test_result_score[i] > test_cutoff[c]:       \n",
    "        test_pred[i] = 1\n",
    "    else:\n",
    "        test_pred[i] = 0\n",
    "fpr, tpr, thresholds = roc_curve(y_test,test_result_score,pos_label=1)\n",
    "precision,recall,SN,SP,GM,TP,TN,FP,FN = performance(y_test,test_pred)\n",
    "print(t)\n",
    "print('test:')\n",
    "print(\"ACC:  %f \"  %accuracy_score(y_test,test_pred))\n",
    "print(\"Sn: %f\" %SN)\n",
    "print(\"Sp: %f\" %SP)\n",
    "print(\"MCC: %f \" %matthews_corrcoef(y_test,test_pred))\n",
    "print(\"AUC: %f\" % auc(fpr, tpr))\n",
    "print(\"AUC: %f\" % roc_auc_score(y_test,test_result_score))"
   ]
  },
  {
   "cell_type": "code",
   "execution_count": null,
   "metadata": {},
   "outputs": [],
   "source": [
    "test_result = pd.read_table(path_test_result, header=None)\n",
    "\n",
    "train_result = pd.read_table(path_train_result, header=None)\n",
    "    \n",
    "test_result_score = test_result[0]\n",
    "test_pred = test_result[1]\n",
    "    \n",
    "train_result_score = train_result[0]\n",
    "train_pred = train_result[1]"
   ]
  },
  {
   "cell_type": "code",
   "execution_count": 10,
   "metadata": {
    "scrolled": true
   },
   "outputs": [
    {
     "name": "stdout",
     "output_type": "stream",
     "text": [
      "test: 21\n",
      " 0.845928\n",
      "\n",
      " 0.0300941\n",
      "\n",
      "test: 23\n",
      " 0.852033\n",
      "\n",
      " 0.0312155\n",
      "\n",
      "test: 25\n",
      " 0.848026\n",
      "\n",
      " 0.0310371\n",
      "\n",
      "test: 27\n",
      " 0.852014\n",
      "\n",
      " 0.0307481\n",
      "\n",
      "test: 29\n",
      " 0.853252\n",
      "\n",
      " 0.0307755\n",
      "\n",
      "test: 31\n",
      " 0.856425\n",
      "\n",
      " 0.0305413\n",
      "\n",
      "test: 35\n",
      " 0.857675\n",
      "\n",
      " 0.0300732\n",
      "\n",
      "test: 37\n",
      " 0.852523\n",
      "\n",
      " 0.0298446\n",
      "\n",
      "train:  21\n",
      "\n",
      " 0.873488\n",
      "\n",
      " 0.036263\n",
      "\n",
      "train:  23\n",
      "\n",
      " 0.911587\n",
      "\n",
      " 0.0477761\n",
      "\n",
      "train:  25\n",
      "\n",
      " 0.872045\n",
      "\n",
      " 0.0368248\n",
      "\n",
      "train:  27\n",
      "\n",
      " 0.920076\n",
      "\n",
      " 0.0526152\n",
      "\n",
      "train:  29\n",
      "\n",
      " 0.912335\n",
      "\n",
      " 0.0487789\n",
      "\n",
      "train:  31\n",
      "\n",
      " 0.916156\n",
      "\n",
      " 0.0503291\n",
      "\n",
      "train:  35\n",
      "\n",
      " 0.918516\n",
      "\n",
      " 0.0513826\n",
      "\n",
      "train:  37\n",
      "\n",
      " 0.899856\n",
      "\n",
      " 0.0434944\n",
      "\n"
     ]
    }
   ],
   "source": [
    "# 读取 AUC AUC01\n",
    "name = 'Embedding'\n",
    "gap = ''\n",
    "model = '_keras'\n",
    "q = [21,23,25,27,29,31,35,37]\n",
    "#q = [29]\n",
    "for t in q :\n",
    "    path_test='C:/Users/Crow/Desktop/human_data_12.12/result/'+ name +'/Test'+ model +'_' +str(t)+'_'+ name + gap +'_ROC01_result.txt'\n",
    "    print('test: %i'%t)\n",
    "    #read_result(path_test)\n",
    "    fr = open(path_test,'r')\n",
    "    for i in range(2):\n",
    "        print(fr.readline().split(':')[1])\n",
    "    fr.close() \n",
    "\n",
    "    \n",
    "for t in q :\n",
    "    path_train='C:/Users/Crow/Desktop/human_data_12.12/result/'+ name +'/Train'+ model +'_'+str(t)+'_'+ name +  gap +'_ROC01_result.txt'\n",
    "    print('train:  %i'%t)\n",
    "    #read_result(path_train)\n",
    "    print('')\n",
    "    fr = open(path_train,'r')\n",
    "    for i in range(2):\n",
    "        print(fr.readline().split(':')[1])\n",
    "    fr.close() \n",
    "    "
   ]
  },
  {
   "cell_type": "code",
   "execution_count": 9,
   "metadata": {
    "scrolled": true
   },
   "outputs": [
    {
     "name": "stdout",
     "output_type": "stream",
     "text": [
      "test: 21\n",
      "Sp:  0.900042 \n",
      "Cutoff:  0.273422 \n",
      "\n",
      "test: 23\n",
      "Sp:  0.900042 \n",
      "Cutoff:  0.268753 \n",
      "\n",
      "test: 25\n",
      "Sp:  0.900042 \n",
      "Cutoff:  0.210156 \n",
      "\n",
      "test: 27\n",
      "Sp:  0.900042 \n",
      "Cutoff:  0.272848 \n",
      "\n",
      "test: 29\n",
      "Sp:  0.900042 \n",
      "Cutoff:  0.258505 \n",
      "\n",
      "test: 31\n",
      "Sp:  0.900042 \n",
      "Cutoff:  0.300157 \n",
      "\n",
      "test: 35\n",
      "Sp:  0.900042 \n",
      "Cutoff:  0.310499 \n",
      "\n",
      "test: 37\n",
      "Sp:  0.900042 \n",
      "Cutoff:  0.201006 \n",
      "\n",
      "train:  21\n",
      "Sp:  0.900009 \n",
      "Cutoff:  0.265360 \n",
      "\n",
      "train:  23\n",
      "Sp:  0.900009 \n",
      "Cutoff:  0.250230 \n",
      "\n",
      "train:  25\n",
      "Sp:  0.900009 \n",
      "Cutoff:  0.203575 \n",
      "\n",
      "train:  27\n",
      "Sp:  0.900009 \n",
      "Cutoff:  0.250609 \n",
      "\n",
      "train:  29\n",
      "Sp:  0.900009 \n",
      "Cutoff:  0.235935 \n",
      "\n",
      "train:  31\n",
      "Sp:  0.900009 \n",
      "Cutoff:  0.274660 \n",
      "\n",
      "train:  35\n",
      "Sp:  0.900009 \n",
      "Cutoff:  0.287076 \n",
      "\n",
      "train:  37\n",
      "Sp:  0.900009 \n",
      "Cutoff:  0.184949 \n",
      "\n"
     ]
    }
   ],
   "source": [
    "# 读取 Sp Cutoff\n",
    "name = 'Embedding'\n",
    "gap = ''\n",
    "model = '_keras'\n",
    "q = [21,23,25,27,29,31,35,37]\n",
    "#q = [29]\n",
    "for t in q :\n",
    "    path_test='C:/Users/Crow/Desktop/human_data_12.12/result/'+ name +'/Test'+ model +'_' +str(t)+'_'+ name + gap +'_roc_result.txt'\n",
    "    print('test: %i'%t)\n",
    "    read_result(path_test)\n",
    "    \n",
    "    print('')\n",
    "\n",
    "    \n",
    "for t in q :\n",
    "    path_train='C:/Users/Crow/Desktop/human_data_12.12/result/'+ name +'/Train'+ model +'_'+str(t)+'_'+ name +  gap +'_roc_result.txt'\n",
    "    print('train:  %i'%t)\n",
    "    read_result(path_train)\n",
    "    print('')\n",
    "    \n",
    "\n",
    "\n"
   ]
  },
  {
   "cell_type": "code",
   "execution_count": null,
   "metadata": {},
   "outputs": [],
   "source": [
    "test_pred_proba"
   ]
  },
  {
   "cell_type": "code",
   "execution_count": null,
   "metadata": {},
   "outputs": [],
   "source": [
    "a = test_pred\n",
    "for i in range(0,len(test_pred_proba)):\n",
    "    if test_pred_proba[i] > 0.28:\n",
    "        a[i] = 1\n",
    "    else:\n",
    "        a[i] = 0"
   ]
  },
  {
   "cell_type": "code",
   "execution_count": null,
   "metadata": {},
   "outputs": [],
   "source": [
    "\n",
    "for i in range(0,len(test_pred_proba)):\n",
    "    if test_pred_proba[i] >= 0.35:\n",
    "        print(i)"
   ]
  },
  {
   "cell_type": "code",
   "execution_count": null,
   "metadata": {},
   "outputs": [],
   "source": [
    "print(\"AUC: %f\" % auc(fpr, tpr))\n",
    "print(\"MCC: %f \" %matthews_corrcoef(test_label,test_pred))"
   ]
  },
  {
   "cell_type": "code",
   "execution_count": null,
   "metadata": {},
   "outputs": [],
   "source": [
    "#clf.predict(test_data)\n",
    "performance(test_label,test_pred)"
   ]
  },
  {
   "cell_type": "code",
   "execution_count": 24,
   "metadata": {},
   "outputs": [
    {
     "data": {
      "text/plain": [
       "array([0, 0, 0, 0, 0, 0, 0, 0, 0, 0, 0, 0, 0, 0, 1, 0, 0, 0, 0, 0, 0, 0,\n",
       "       0, 0, 0, 0, 0, 0, 0, 0, 0, 0, 0, 0, 0, 0, 0, 0, 0, 0, 0, 0, 0, 0,\n",
       "       0, 0, 0, 0, 1, 0, 0, 0, 0, 0, 0, 0, 0, 0, 0, 0, 0, 0, 0, 0, 0, 0,\n",
       "       1, 0, 0, 0, 0, 0, 0, 0, 0, 0, 0, 1, 0, 0, 0, 0, 0, 1, 0, 0, 0, 0,\n",
       "       0, 1, 0, 0, 0, 0, 0, 0, 0, 0, 0, 0, 0, 0, 0, 0, 0, 1, 1, 0, 0, 0,\n",
       "       0, 0, 0, 0, 0, 0, 0, 0, 0, 0, 0, 0, 0, 0, 0, 0, 0, 0, 0, 0, 0, 0,\n",
       "       0, 0, 0, 1, 0, 0, 1, 0, 0, 1, 0, 1, 1, 0, 1, 0, 0, 0, 0, 0, 0, 0,\n",
       "       0, 0, 0, 0, 0, 0, 0, 0, 0, 0, 0, 0, 0, 0, 0, 0, 0, 0, 0, 0, 0, 0,\n",
       "       0, 1, 1, 0, 0, 0, 0, 0, 0, 0, 0, 1, 0, 0, 0, 0, 0, 0, 0, 0, 0, 0,\n",
       "       0, 0], dtype=int64)"
      ]
     },
     "execution_count": 24,
     "metadata": {},
     "output_type": "execute_result"
    }
   ],
   "source": [
    "test_pred[3000:3200]"
   ]
  },
  {
   "cell_type": "code",
   "execution_count": null,
   "metadata": {},
   "outputs": [],
   "source": []
  },
  {
   "cell_type": "code",
   "execution_count": null,
   "metadata": {},
   "outputs": [],
   "source": [
    "X = train\n",
    "y = test\n",
    "indep=None\n",
    "fold=5\n",
    "n_trees=100,\n",
    "out='RF_output'\n",
    "\n",
    "classes = sorted(list(set(y)))\n",
    "if indep.shape[0] != 0:\n",
    "    indep_out = np.zeros((indep.shape[0], len(classes) + 1))\n",
    "    indep_out[:, 0] = indep[:, 0]\n",
    "\n",
    "prediction_result_cv = []\n",
    "prediction_result_ind = np.array([])\n",
    "if indep.shape[0] != 0:\n",
    "    prediction_result_ind = np.zeros((len(indep), len(classes) + 1))\n",
    "    prediction_result_ind[:, 0] = indep[:, 0]\n",
    "\n",
    "folds = StratifiedKFold(fold).split(X, y)\n",
    "for i, (trained, valided) in enumerate(folds):\n",
    "    train_y, train_X = y[trained], X[trained]\n",
    "    valid_y, valid_X = y[valided], X[valided]\n",
    "    model = RandomForestClassifier(n_estimators=n_trees, bootstrap=False)\n",
    "    rfc = model.fit(train_X, train_y)\n",
    "    scores = rfc.predict_proba(valid_X)\n",
    "    tmp_result = np.zeros((len(valid_y), len(classes) + 1))\n",
    "    tmp_result[:, 0], tmp_result[:, 1:] = valid_y, scores\n",
    "    prediction_result_cv.append(tmp_result)\n",
    "    # independent\n",
    "    if indep.shape[0] != 0:\n",
    "        prediction_result_ind[:, 1:] += rfc.predict_proba(indep[:, 1:])\n",
    "if indep.shape[0] != 0:\n",
    "     prediction_result_ind[:, 1:] /= fold\n",
    "header = 'n_trees: %d' % n_trees\n",
    "return header, prediction_result_cv, prediction_result_ind"
   ]
  },
  {
   "cell_type": "code",
   "execution_count": null,
   "metadata": {},
   "outputs": [],
   "source": [
    "pd.crosstab(test_label,preds,rownames=['actual'],colnames=['preds'])\n",
    "\n",
    "false_positive_rate,true_positive_rate,thresholds=roc_curve(test_label, test_pred,pos_label=2)\n",
    "roc_auc=auc(false_positive_rate, true_positive_rate)"
   ]
  },
  {
   "cell_type": "code",
   "execution_count": null,
   "metadata": {},
   "outputs": [],
   "source": [
    "path_train = 'C:/Users/Crow/Desktop/human_data_12.12/Step_11_CV/EGAAC/Train_29_EGAAC_gap4.txt'\n",
    "path_test = 'C:/Users/Crow/Desktop/human_data_12.12/Step_11_IND/EGAAC/Test_29_EGAAC_gap4.txt'\n",
    "\n",
    "train = read_svm(path_train)\n",
    "test = read_svm(path_test)\n",
    "\n",
    "\n",
    "x_train = train[0]\n",
    "y_train = train[1]\n",
    "\n",
    "x_test = test[0]\n",
    "y_test = test[1]\n"
   ]
  },
  {
   "cell_type": "code",
   "execution_count": null,
   "metadata": {
    "scrolled": true
   },
   "outputs": [],
   "source": [
    "#y_cat = np.argmax(y, axis = 1) # convert one hot array to integers\n",
    "kf = StratifiedKFold(n_splits = 10)\n",
    "\n",
    "for train_index, test_index in kf.split(x_train, y_train):\n",
    "\n",
    "    x_train3, x_test3 = x_train[train_index], x_train[test_index]\n",
    "    y_train3, y_test3 = y_train[train_index], y_train[test_index]\n",
    "    \n",
    "#     clf = RandomForestClassifier(n_estimators=1600,oob_score=True,n_jobs=-1,\n",
    "#                                  random_state=50,max_depth=11,min_samples_split=30,max_features=19,min_samples_leaf=20)\n",
    "    clf = RandomForestClassifier(bootstrap=True, class_weight=None, criterion='gini',\n",
    "            max_depth=10, max_features='auto', max_leaf_nodes=None,\n",
    "            min_impurity_decrease=0.0, min_impurity_split=None,\n",
    "            min_samples_leaf=1, min_samples_split=2,\n",
    "            min_weight_fraction_leaf=0.0, n_estimators=30, n_jobs=4,\n",
    "            oob_score=False, random_state=0, verbose=0, warm_start=False)\n",
    "    clf.fit(x_train3, y_train3)\n",
    "    test_pred = clf.predict(x_test3)\n",
    "    test_pred_proba = clf.predict_proba(x_test3)[:, 1]\n",
    "    fpr, tpr, thresholds = roc_curve(y_test3,test_pred_proba,pos_label=1)\n",
    "    print(\"ACC:  %f \"  %accuracy_score(y_test3,test_pred))\n",
    "    print(\"AUC: %f\" % auc(fpr, tpr))\n",
    "    print(\"MCC: %f \" %matthews_corrcoef(y_test3,test_pred))"
   ]
  },
  {
   "cell_type": "code",
   "execution_count": null,
   "metadata": {},
   "outputs": [],
   "source": [
    "test_pred = clf.predict(x_test)\n",
    "test_pred_proba = clf.predict_proba(x_test)[:, 1]\n",
    "fpr, tpr, thresholds = roc_curve(y_test,test_pred_proba,pos_label=1)\n",
    "print(\"ACC:  %f \"  %accuracy_score(y_test,test_pred))\n",
    "print(\"AUC: %f\" % auc(fpr, tpr))\n",
    "print(\"MCC: %f \" %matthews_corrcoef(y_test,test_pred))"
   ]
  },
  {
   "cell_type": "code",
   "execution_count": null,
   "metadata": {},
   "outputs": [],
   "source": [
    "start = time.time()\n",
    " \n",
    "\n",
    "rf = RandomForestClassifier(n_jobs = 4,random_state=0)\n",
    "param_1 = {'n_estimators': list(range(30,91,10)),\n",
    "           'max_depth':[10,50,100,200],\n",
    "           'min_samples_split':[2,5,10],\n",
    "           'min_weight_fraction_leaf':[0.0,0.1,0.2,0.3,0.4,0.5]}\n",
    "gs = GridSearchCV(rf,param_grid=param_1,n_jobs = 3)\n",
    "gs.fit(x_train,y_train)\n",
    "print(gs.scorer_)\n",
    "print(gs.best_params_,gs.best_score_)\n",
    "print(gs.best_estimator_)\n",
    " \n",
    "end = time.time()\n",
    "print (\"时间:\"+str((end-start)/60))\n"
   ]
  },
  {
   "cell_type": "code",
   "execution_count": null,
   "metadata": {},
   "outputs": [],
   "source": [
    "result = pd.read_table('c:/Users/Crow/Desktop/human_data_12.12/result/EAAC/Test_21_EAAC_gap5_roc_result.txt')"
   ]
  },
  {
   "cell_type": "code",
   "execution_count": null,
   "metadata": {},
   "outputs": [],
   "source": [
    "result.head(5)"
   ]
  },
  {
   "cell_type": "code",
   "execution_count": null,
   "metadata": {},
   "outputs": [],
   "source": [
    "result['Sp'][5]"
   ]
  },
  {
   "cell_type": "code",
   "execution_count": null,
   "metadata": {},
   "outputs": [],
   "source": [
    "result = pd.read_table('c:/Users/Crow/Desktop/human_data_12.12/result/EAAC/Test_21_EAAC_gap5_roc_result.txt')\n",
    "for i in range(0,len(result)):\n",
    "    if result['Sp'][i] >= 0.9 and result['Sp'][i+1] <0.9:\n",
    "        print(\"Sp:  %f \"  %result['Sp'][i])\n",
    "        print(\"Cutoff:  %f \"  %result['<<Cutoff'][i])"
   ]
  },
  {
   "cell_type": "code",
   "execution_count": 21,
   "metadata": {},
   "outputs": [],
   "source": []
  },
  {
   "cell_type": "code",
   "execution_count": 51,
   "metadata": {
    "scrolled": true
   },
   "outputs": [
    {
     "name": "stdout",
     "output_type": "stream",
     "text": [
      "AUC: 0.811513\n",
      "AUC: 0.771521\n",
      "AUC: 0.788787\n",
      "AUC: 0.787945\n",
      "AUC: 0.757533\n",
      "AUC: 0.783576\n",
      "AUC: 0.785209\n",
      "AUC: 0.790319\n"
     ]
    },
    {
     "ename": "KeyboardInterrupt",
     "evalue": "",
     "output_type": "error",
     "traceback": [
      "\u001b[1;31m---------------------------------------------------------------------------\u001b[0m",
      "\u001b[1;31mKeyboardInterrupt\u001b[0m                         Traceback (most recent call last)",
      "\u001b[1;32m<ipython-input-51-1c2ab3786ef5>\u001b[0m in \u001b[0;36m<module>\u001b[1;34m\u001b[0m\n\u001b[0;32m     36\u001b[0m \u001b[1;31m#             min_weight_fraction_leaf=0.0, n_estimators=30, n_jobs=4,\u001b[0m\u001b[1;33m\u001b[0m\u001b[1;33m\u001b[0m\u001b[1;33m\u001b[0m\u001b[0m\n\u001b[0;32m     37\u001b[0m \u001b[1;31m#             oob_score=False, random_state=0, verbose=0, warm_start=False)\u001b[0m\u001b[1;33m\u001b[0m\u001b[1;33m\u001b[0m\u001b[1;33m\u001b[0m\u001b[0m\n\u001b[1;32m---> 38\u001b[1;33m     \u001b[0mclf\u001b[0m\u001b[1;33m.\u001b[0m\u001b[0mfit\u001b[0m\u001b[1;33m(\u001b[0m\u001b[0mx_train3\u001b[0m\u001b[1;33m,\u001b[0m \u001b[0my_train3\u001b[0m\u001b[1;33m)\u001b[0m\u001b[1;33m\u001b[0m\u001b[1;33m\u001b[0m\u001b[0m\n\u001b[0m\u001b[0;32m     39\u001b[0m     \u001b[0mtest_pred\u001b[0m \u001b[1;33m=\u001b[0m \u001b[0mclf\u001b[0m\u001b[1;33m.\u001b[0m\u001b[0mpredict\u001b[0m\u001b[1;33m(\u001b[0m\u001b[0mx_test3\u001b[0m\u001b[1;33m)\u001b[0m\u001b[1;33m\u001b[0m\u001b[1;33m\u001b[0m\u001b[0m\n\u001b[0;32m     40\u001b[0m     \u001b[0mtest_pred_proba\u001b[0m \u001b[1;33m=\u001b[0m \u001b[0mclf\u001b[0m\u001b[1;33m.\u001b[0m\u001b[0mpredict_proba\u001b[0m\u001b[1;33m(\u001b[0m\u001b[0mx_test3\u001b[0m\u001b[1;33m)\u001b[0m\u001b[1;33m[\u001b[0m\u001b[1;33m:\u001b[0m\u001b[1;33m,\u001b[0m \u001b[1;36m1\u001b[0m\u001b[1;33m]\u001b[0m\u001b[1;33m\u001b[0m\u001b[1;33m\u001b[0m\u001b[0m\n",
      "\u001b[1;32m~\\AppData\\Local\\conda\\conda\\envs\\deeplearning\\lib\\site-packages\\sklearn\\ensemble\\forest.py\u001b[0m in \u001b[0;36mfit\u001b[1;34m(self, X, y, sample_weight)\u001b[0m\n\u001b[0;32m    331\u001b[0m                     \u001b[0mt\u001b[0m\u001b[1;33m,\u001b[0m \u001b[0mself\u001b[0m\u001b[1;33m,\u001b[0m \u001b[0mX\u001b[0m\u001b[1;33m,\u001b[0m \u001b[0my\u001b[0m\u001b[1;33m,\u001b[0m \u001b[0msample_weight\u001b[0m\u001b[1;33m,\u001b[0m \u001b[0mi\u001b[0m\u001b[1;33m,\u001b[0m \u001b[0mlen\u001b[0m\u001b[1;33m(\u001b[0m\u001b[0mtrees\u001b[0m\u001b[1;33m)\u001b[0m\u001b[1;33m,\u001b[0m\u001b[1;33m\u001b[0m\u001b[1;33m\u001b[0m\u001b[0m\n\u001b[0;32m    332\u001b[0m                     verbose=self.verbose, class_weight=self.class_weight)\n\u001b[1;32m--> 333\u001b[1;33m                 for i, t in enumerate(trees))\n\u001b[0m\u001b[0;32m    334\u001b[0m \u001b[1;33m\u001b[0m\u001b[0m\n\u001b[0;32m    335\u001b[0m             \u001b[1;31m# Collect newly grown trees\u001b[0m\u001b[1;33m\u001b[0m\u001b[1;33m\u001b[0m\u001b[1;33m\u001b[0m\u001b[0m\n",
      "\u001b[1;32m~\\AppData\\Local\\conda\\conda\\envs\\deeplearning\\lib\\site-packages\\sklearn\\externals\\joblib\\parallel.py\u001b[0m in \u001b[0;36m__call__\u001b[1;34m(self, iterable)\u001b[0m\n\u001b[0;32m    928\u001b[0m \u001b[1;33m\u001b[0m\u001b[0m\n\u001b[0;32m    929\u001b[0m             \u001b[1;32mwith\u001b[0m \u001b[0mself\u001b[0m\u001b[1;33m.\u001b[0m\u001b[0m_backend\u001b[0m\u001b[1;33m.\u001b[0m\u001b[0mretrieval_context\u001b[0m\u001b[1;33m(\u001b[0m\u001b[1;33m)\u001b[0m\u001b[1;33m:\u001b[0m\u001b[1;33m\u001b[0m\u001b[1;33m\u001b[0m\u001b[0m\n\u001b[1;32m--> 930\u001b[1;33m                 \u001b[0mself\u001b[0m\u001b[1;33m.\u001b[0m\u001b[0mretrieve\u001b[0m\u001b[1;33m(\u001b[0m\u001b[1;33m)\u001b[0m\u001b[1;33m\u001b[0m\u001b[1;33m\u001b[0m\u001b[0m\n\u001b[0m\u001b[0;32m    931\u001b[0m             \u001b[1;31m# Make sure that we get a last message telling us we are done\u001b[0m\u001b[1;33m\u001b[0m\u001b[1;33m\u001b[0m\u001b[1;33m\u001b[0m\u001b[0m\n\u001b[0;32m    932\u001b[0m             \u001b[0melapsed_time\u001b[0m \u001b[1;33m=\u001b[0m \u001b[0mtime\u001b[0m\u001b[1;33m.\u001b[0m\u001b[0mtime\u001b[0m\u001b[1;33m(\u001b[0m\u001b[1;33m)\u001b[0m \u001b[1;33m-\u001b[0m \u001b[0mself\u001b[0m\u001b[1;33m.\u001b[0m\u001b[0m_start_time\u001b[0m\u001b[1;33m\u001b[0m\u001b[1;33m\u001b[0m\u001b[0m\n",
      "\u001b[1;32m~\\AppData\\Local\\conda\\conda\\envs\\deeplearning\\lib\\site-packages\\sklearn\\externals\\joblib\\parallel.py\u001b[0m in \u001b[0;36mretrieve\u001b[1;34m(self)\u001b[0m\n\u001b[0;32m    831\u001b[0m             \u001b[1;32mtry\u001b[0m\u001b[1;33m:\u001b[0m\u001b[1;33m\u001b[0m\u001b[1;33m\u001b[0m\u001b[0m\n\u001b[0;32m    832\u001b[0m                 \u001b[1;32mif\u001b[0m \u001b[0mgetattr\u001b[0m\u001b[1;33m(\u001b[0m\u001b[0mself\u001b[0m\u001b[1;33m.\u001b[0m\u001b[0m_backend\u001b[0m\u001b[1;33m,\u001b[0m \u001b[1;34m'supports_timeout'\u001b[0m\u001b[1;33m,\u001b[0m \u001b[1;32mFalse\u001b[0m\u001b[1;33m)\u001b[0m\u001b[1;33m:\u001b[0m\u001b[1;33m\u001b[0m\u001b[1;33m\u001b[0m\u001b[0m\n\u001b[1;32m--> 833\u001b[1;33m                     \u001b[0mself\u001b[0m\u001b[1;33m.\u001b[0m\u001b[0m_output\u001b[0m\u001b[1;33m.\u001b[0m\u001b[0mextend\u001b[0m\u001b[1;33m(\u001b[0m\u001b[0mjob\u001b[0m\u001b[1;33m.\u001b[0m\u001b[0mget\u001b[0m\u001b[1;33m(\u001b[0m\u001b[0mtimeout\u001b[0m\u001b[1;33m=\u001b[0m\u001b[0mself\u001b[0m\u001b[1;33m.\u001b[0m\u001b[0mtimeout\u001b[0m\u001b[1;33m)\u001b[0m\u001b[1;33m)\u001b[0m\u001b[1;33m\u001b[0m\u001b[1;33m\u001b[0m\u001b[0m\n\u001b[0m\u001b[0;32m    834\u001b[0m                 \u001b[1;32melse\u001b[0m\u001b[1;33m:\u001b[0m\u001b[1;33m\u001b[0m\u001b[1;33m\u001b[0m\u001b[0m\n\u001b[0;32m    835\u001b[0m                     \u001b[0mself\u001b[0m\u001b[1;33m.\u001b[0m\u001b[0m_output\u001b[0m\u001b[1;33m.\u001b[0m\u001b[0mextend\u001b[0m\u001b[1;33m(\u001b[0m\u001b[0mjob\u001b[0m\u001b[1;33m.\u001b[0m\u001b[0mget\u001b[0m\u001b[1;33m(\u001b[0m\u001b[1;33m)\u001b[0m\u001b[1;33m)\u001b[0m\u001b[1;33m\u001b[0m\u001b[1;33m\u001b[0m\u001b[0m\n",
      "\u001b[1;32m~\\AppData\\Local\\conda\\conda\\envs\\deeplearning\\lib\\multiprocessing\\pool.py\u001b[0m in \u001b[0;36mget\u001b[1;34m(self, timeout)\u001b[0m\n\u001b[0;32m    662\u001b[0m \u001b[1;33m\u001b[0m\u001b[0m\n\u001b[0;32m    663\u001b[0m     \u001b[1;32mdef\u001b[0m \u001b[0mget\u001b[0m\u001b[1;33m(\u001b[0m\u001b[0mself\u001b[0m\u001b[1;33m,\u001b[0m \u001b[0mtimeout\u001b[0m\u001b[1;33m=\u001b[0m\u001b[1;32mNone\u001b[0m\u001b[1;33m)\u001b[0m\u001b[1;33m:\u001b[0m\u001b[1;33m\u001b[0m\u001b[1;33m\u001b[0m\u001b[0m\n\u001b[1;32m--> 664\u001b[1;33m         \u001b[0mself\u001b[0m\u001b[1;33m.\u001b[0m\u001b[0mwait\u001b[0m\u001b[1;33m(\u001b[0m\u001b[0mtimeout\u001b[0m\u001b[1;33m)\u001b[0m\u001b[1;33m\u001b[0m\u001b[1;33m\u001b[0m\u001b[0m\n\u001b[0m\u001b[0;32m    665\u001b[0m         \u001b[1;32mif\u001b[0m \u001b[1;32mnot\u001b[0m \u001b[0mself\u001b[0m\u001b[1;33m.\u001b[0m\u001b[0mready\u001b[0m\u001b[1;33m(\u001b[0m\u001b[1;33m)\u001b[0m\u001b[1;33m:\u001b[0m\u001b[1;33m\u001b[0m\u001b[1;33m\u001b[0m\u001b[0m\n\u001b[0;32m    666\u001b[0m             \u001b[1;32mraise\u001b[0m \u001b[0mTimeoutError\u001b[0m\u001b[1;33m\u001b[0m\u001b[1;33m\u001b[0m\u001b[0m\n",
      "\u001b[1;32m~\\AppData\\Local\\conda\\conda\\envs\\deeplearning\\lib\\multiprocessing\\pool.py\u001b[0m in \u001b[0;36mwait\u001b[1;34m(self, timeout)\u001b[0m\n\u001b[0;32m    659\u001b[0m \u001b[1;33m\u001b[0m\u001b[0m\n\u001b[0;32m    660\u001b[0m     \u001b[1;32mdef\u001b[0m \u001b[0mwait\u001b[0m\u001b[1;33m(\u001b[0m\u001b[0mself\u001b[0m\u001b[1;33m,\u001b[0m \u001b[0mtimeout\u001b[0m\u001b[1;33m=\u001b[0m\u001b[1;32mNone\u001b[0m\u001b[1;33m)\u001b[0m\u001b[1;33m:\u001b[0m\u001b[1;33m\u001b[0m\u001b[1;33m\u001b[0m\u001b[0m\n\u001b[1;32m--> 661\u001b[1;33m         \u001b[0mself\u001b[0m\u001b[1;33m.\u001b[0m\u001b[0m_event\u001b[0m\u001b[1;33m.\u001b[0m\u001b[0mwait\u001b[0m\u001b[1;33m(\u001b[0m\u001b[0mtimeout\u001b[0m\u001b[1;33m)\u001b[0m\u001b[1;33m\u001b[0m\u001b[1;33m\u001b[0m\u001b[0m\n\u001b[0m\u001b[0;32m    662\u001b[0m \u001b[1;33m\u001b[0m\u001b[0m\n\u001b[0;32m    663\u001b[0m     \u001b[1;32mdef\u001b[0m \u001b[0mget\u001b[0m\u001b[1;33m(\u001b[0m\u001b[0mself\u001b[0m\u001b[1;33m,\u001b[0m \u001b[0mtimeout\u001b[0m\u001b[1;33m=\u001b[0m\u001b[1;32mNone\u001b[0m\u001b[1;33m)\u001b[0m\u001b[1;33m:\u001b[0m\u001b[1;33m\u001b[0m\u001b[1;33m\u001b[0m\u001b[0m\n",
      "\u001b[1;32m~\\AppData\\Local\\conda\\conda\\envs\\deeplearning\\lib\\threading.py\u001b[0m in \u001b[0;36mwait\u001b[1;34m(self, timeout)\u001b[0m\n\u001b[0;32m    549\u001b[0m             \u001b[0msignaled\u001b[0m \u001b[1;33m=\u001b[0m \u001b[0mself\u001b[0m\u001b[1;33m.\u001b[0m\u001b[0m_flag\u001b[0m\u001b[1;33m\u001b[0m\u001b[1;33m\u001b[0m\u001b[0m\n\u001b[0;32m    550\u001b[0m             \u001b[1;32mif\u001b[0m \u001b[1;32mnot\u001b[0m \u001b[0msignaled\u001b[0m\u001b[1;33m:\u001b[0m\u001b[1;33m\u001b[0m\u001b[1;33m\u001b[0m\u001b[0m\n\u001b[1;32m--> 551\u001b[1;33m                 \u001b[0msignaled\u001b[0m \u001b[1;33m=\u001b[0m \u001b[0mself\u001b[0m\u001b[1;33m.\u001b[0m\u001b[0m_cond\u001b[0m\u001b[1;33m.\u001b[0m\u001b[0mwait\u001b[0m\u001b[1;33m(\u001b[0m\u001b[0mtimeout\u001b[0m\u001b[1;33m)\u001b[0m\u001b[1;33m\u001b[0m\u001b[1;33m\u001b[0m\u001b[0m\n\u001b[0m\u001b[0;32m    552\u001b[0m             \u001b[1;32mreturn\u001b[0m \u001b[0msignaled\u001b[0m\u001b[1;33m\u001b[0m\u001b[1;33m\u001b[0m\u001b[0m\n\u001b[0;32m    553\u001b[0m \u001b[1;33m\u001b[0m\u001b[0m\n",
      "\u001b[1;32m~\\AppData\\Local\\conda\\conda\\envs\\deeplearning\\lib\\threading.py\u001b[0m in \u001b[0;36mwait\u001b[1;34m(self, timeout)\u001b[0m\n\u001b[0;32m    293\u001b[0m         \u001b[1;32mtry\u001b[0m\u001b[1;33m:\u001b[0m    \u001b[1;31m# restore state no matter what (e.g., KeyboardInterrupt)\u001b[0m\u001b[1;33m\u001b[0m\u001b[1;33m\u001b[0m\u001b[0m\n\u001b[0;32m    294\u001b[0m             \u001b[1;32mif\u001b[0m \u001b[0mtimeout\u001b[0m \u001b[1;32mis\u001b[0m \u001b[1;32mNone\u001b[0m\u001b[1;33m:\u001b[0m\u001b[1;33m\u001b[0m\u001b[1;33m\u001b[0m\u001b[0m\n\u001b[1;32m--> 295\u001b[1;33m                 \u001b[0mwaiter\u001b[0m\u001b[1;33m.\u001b[0m\u001b[0macquire\u001b[0m\u001b[1;33m(\u001b[0m\u001b[1;33m)\u001b[0m\u001b[1;33m\u001b[0m\u001b[1;33m\u001b[0m\u001b[0m\n\u001b[0m\u001b[0;32m    296\u001b[0m                 \u001b[0mgotit\u001b[0m \u001b[1;33m=\u001b[0m \u001b[1;32mTrue\u001b[0m\u001b[1;33m\u001b[0m\u001b[1;33m\u001b[0m\u001b[0m\n\u001b[0;32m    297\u001b[0m             \u001b[1;32melse\u001b[0m\u001b[1;33m:\u001b[0m\u001b[1;33m\u001b[0m\u001b[1;33m\u001b[0m\u001b[0m\n",
      "\u001b[1;31mKeyboardInterrupt\u001b[0m: "
     ]
    }
   ],
   "source": [
    "# RF 10-StratifiedKFold\n",
    "\n",
    "name = 'EGAAC'\n",
    "gap = '_gap4'\n",
    "# 读取数据\n",
    "\n",
    "\n",
    "path_train = 'C:/Users/Crow/Desktop/human_data_12.12/Step_11_CV/'+ name +'/Train_29_'+ name + gap +'.txt'\n",
    "path_test = 'C:/Users/Crow/Desktop/human_data_12.12/Step_11_IND/'+ name +'/Test_29_'+ name + gap +'.txt'\n",
    "\n",
    "train = read_svm(path_train)\n",
    "test = read_svm(path_test)\n",
    "\n",
    "\n",
    "x_train = train[0]\n",
    "y_train = train[1]\n",
    "\n",
    "x_test = test[0]\n",
    "y_test = test[1]\n",
    "\n",
    "\n",
    "\n",
    "kf = StratifiedKFold(n_splits = 10)\n",
    "j=1\n",
    "for train_index, test_index in kf.split(x_train, y_train):\n",
    "\n",
    "    x_train3, x_test3 = x_train[train_index], x_train[test_index]\n",
    "    y_train3, y_test3 = y_train[train_index], y_train[test_index]\n",
    "    \n",
    "    clf = RandomForestClassifier(n_estimators=1600,oob_score=True,n_jobs=3,\n",
    "                                 random_state=50,max_depth=11,min_samples_split=30,max_features=19,min_samples_leaf=20)\n",
    "#     clf = RandomForestClassifier(bootstrap=True, class_weight=None, criterion='gini',\n",
    "#             max_depth=10, max_features='auto', max_leaf_nodes=None,\n",
    "#             min_impurity_decrease=0.0, min_impurity_split=None,\n",
    "#             min_samples_leaf=1, min_samples_split=2,\n",
    "#             min_weight_fraction_leaf=0.0, n_estimators=30, n_jobs=4,\n",
    "#             oob_score=False, random_state=0, verbose=0, warm_start=False)\n",
    "    clf.fit(x_train3, y_train3)\n",
    "    test_pred = clf.predict(x_test3)\n",
    "    test_pred_proba = clf.predict_proba(x_test3)[:, 1]\n",
    "    fpr, tpr, thresholds = roc_curve(y_test3,test_pred_proba,pos_label=1)\n",
    "    #print(\"ACC:  %f \"  %accuracy_score(y_test3,test_pred))\n",
    "    print(\"AUC: %f\" % auc(fpr, tpr))\n",
    "    #print(\"MCC: %f \" %matthews_corrcoef(y_test3,test_pred))\n",
    "    fw = open('C:/Users/Crow/Desktop/result/29_'+ name + gap+'_result_'+ str(j) +'.txt','w')\n",
    "   \n",
    "    for t in range(0,len(test_pred_proba)):\n",
    "        fw.write(str(test_pred_proba[t]))\n",
    "        fw.write('\\t')\n",
    "        fw.write(str(y_test3[t]))\n",
    "        fw.write('\\n')\n",
    "    fw.close()\n",
    "\n",
    "    \n",
    "    if j == 10:        \n",
    "        joblib.dump(clf, 'C:/Users/Crow/Desktop/result/model/clf_'+ name + gap +'.pkl')\n",
    "    \n",
    "        \n",
    "        test_pred_proba = clf.predict_proba(x_test)[:, 1]\n",
    "        fpr, tpr, thresholds = roc_curve(y_test,test_pred_proba,pos_label=1)\n",
    "        print(\"总AUC: %f\" % auc(fpr, tpr))\n",
    "        fw = open('C:/Users/Crow/Desktop/result/29_'+ name + gap +'_result.txt','w')\n",
    "        for t in range(0,len(test_pred_proba)):\n",
    "            fw.write(str(test_pred_proba[t]))\n",
    "            fw.write('\\t')\n",
    "            fw.write(str(y_test[t]))\n",
    "            fw.write('\\n')\n",
    "        fw.close()\n",
    "    j+=1"
   ]
  },
  {
   "cell_type": "code",
   "execution_count": 29,
   "metadata": {},
   "outputs": [
    {
     "name": "stdout",
     "output_type": "stream",
     "text": [
      "AUC: 0.670007\n",
      "AUC: 0.652903\n",
      "AUC: 0.649646\n",
      "AUC: 0.671636\n",
      "AUC: 0.663266\n",
      "AUC: 0.656327\n",
      "AUC: 0.664542\n",
      "AUC: 0.676117\n",
      "AUC: 0.665206\n",
      "AUC: 0.645943\n",
      "[0.6700068544212552, 0.6529032647567828, 0.6496459950619481, 0.671635805641935, 0.6632655026346949, 0.6563270918754676, 0.6645422261072667, 0.6761168533159851, 0.665206448373615, 0.6459425584292935]\n",
      "CV AUC: 0.661559\n",
      "None\n"
     ]
    }
   ],
   "source": [
    "# RF 10-KFold\n",
    "# 重新计算，单独输出各个k的predict结果，取平均值，选出最优模型\n",
    "\n",
    "name = 'GAAC'\n",
    "gap = ''\n",
    "# 读取数据\n",
    "\n",
    " \n",
    "path_train = 'C:/Users/Crow/Desktop/human_data_12.12/Step_11_CV/'+ name +'/Train_29_'+ name + gap +'.txt'\n",
    "path_test = 'C:/Users/Crow/Desktop/human_data_12.12/Step_11_IND/'+ name +'/Test_29_'+ name + gap +'.txt'\n",
    "\n",
    "train = read_svm(path_train)\n",
    "test = read_svm(path_test)\n",
    "\n",
    "\n",
    "x_train = train[0]\n",
    "y_train = train[1]\n",
    "\n",
    "x_test = test[0]\n",
    "y_test = test[1]\n",
    "\n",
    "\n",
    "\n",
    "kf = KFold(n_splits = 10,random_state=5,shuffle=True)\n",
    "j = 1\n",
    "auc_mean = []\n",
    "for train_index, test_index in kf.split(x_train):\n",
    "    x_train3, x_test3 = x_train[train_index], x_train[test_index]\n",
    "    y_train3, y_test3 = y_train[train_index], y_train[test_index]\n",
    "    \n",
    "#     clf = RandomForestClassifier(n_estimators=1600,oob_score=True,n_jobs=3,\n",
    "#                                  random_state=50,max_depth=11,min_samples_split=30,max_features=19,min_samples_leaf=20)\n",
    "    clf = RandomForestClassifier(n_estimators=1600,oob_score=True,n_jobs=3,\n",
    "                                 random_state=50,max_depth=11,min_samples_split=30,min_samples_leaf=20)\n",
    "#     clf = RandomForestClassifier(bootstrap=True, class_weight=None, criterion='gini',\n",
    "#             max_depth=10, max_features='auto', max_leaf_nodes=None,\n",
    "#             min_impurity_decrease=0.0, min_impurity_split=None,\n",
    "#             min_samples_leaf=1, min_samples_split=2,\n",
    "#             min_weight_fraction_leaf=0.0, n_estimators=30, n_jobs=4,\n",
    "#             oob_score=False, random_state=0, verbose=0, warm_start=False)\n",
    "    clf.fit(x_train3, y_train3)\n",
    "    test_pred = clf.predict(x_test3)\n",
    "    test_pred_proba = clf.predict_proba(x_test3)[:, 1]\n",
    "    fpr, tpr, thresholds = roc_curve(y_test3,test_pred_proba,pos_label=1)\n",
    "    #print(\"ACC:  %f \"  %accuracy_score(y_test3,test_pred))\n",
    "    print(\"AUC: %f\" % auc(fpr, tpr))\n",
    "\n",
    "    auc_mean.append(auc(fpr, tpr))\n",
    "    #print(\"MCC: %f \" %matthews_corrcoef(y_test3,test_pred))\n",
    "    joblib.dump(clf, 'C:/Users/Crow/Desktop/new_result/model/'+ str(j) +'_clf_kfold_'+ name + gap +'.pkl')\n",
    "    fw = open('C:/Users/Crow/Desktop/new_result/29_kfold_'+ name + gap+'_result_'+ str(j) +'.txt','w')\n",
    "   \n",
    "    for t in range(0,len(test_pred_proba)):\n",
    "        fw.write(str(test_pred_proba[t]))\n",
    "        fw.write('\\t')\n",
    "        fw.write(str(y_test3[t]))\n",
    "        fw.write('\\n')\n",
    "    fw.close()\n",
    "\n",
    "    \n",
    "    if j == 10:        \n",
    "        print(auc_mean)\n",
    "        print(print(\"CV AUC: %f\" % mean(auc_mean)))\n",
    "        \n",
    "        \n",
    "#         test_pred_proba = clf.predict_proba(x_test)[:, 1]\n",
    "#         fpr, tpr, thresholds = roc_curve(y_test,test_pred_proba,pos_label=1)\n",
    "#         print(\"总AUC: %f\" % auc(fpr, tpr))\n",
    "#         fw = open('C:/Users/Crow/Desktop/result/29_kfold_'+ name + gap +'_result.txt','w')\n",
    "#         for t in range(0,len(test_pred_proba)):\n",
    "#             fw.write(str(test_pred_proba[t]))\n",
    "#             fw.write('\\t')\n",
    "#             fw.write(str(y_test[t]))\n",
    "#             fw.write('\\n')\n",
    "#         fw.close()\n",
    "    j+=1"
   ]
  },
  {
   "cell_type": "code",
   "execution_count": 22,
   "metadata": {},
   "outputs": [],
   "source": [
    "# RF 10-KFold\n",
    "# 重新计算，单独输出各个k的predict结果，取平均值，选出最优模型\n",
    "\n",
    "name = 'CKSAAP'\n",
    "gap = '_gap4'\n",
    "# 读取数据\n",
    "\n",
    "\n",
    "path_train = 'C:/Users/Crow/Desktop/human_data_12.12/Step_11_CV/'+ name +'/Train_29_'+ name + gap +'.txt'\n",
    "path_test = 'C:/Users/Crow/Desktop/human_data_12.12/Step_11_IND/'+ name +'/Test_29_'+ name + gap +'.txt'\n",
    "\n",
    "train = read_svm(path_train)\n",
    "test = read_svm(path_test)\n",
    "\n",
    "\n",
    "x_train = train[0]\n",
    "y_train = train[1]\n",
    "\n",
    "x_test = test[0]\n",
    "y_test = test[1]\n",
    "\n",
    "\n",
    "\n",
    "kf = KFold(n_splits = 10,random_state=5,shuffle=True)\n",
    "j = 1\n",
    "auc_mean = []\n",
    "for train_index, test_index in kf.split(x_train):\n",
    "    x_train3, x_test3 = x_train[train_index], x_train[test_index]\n",
    "    y_train3, y_test3 = y_train[train_index], y_train[test_index]\n",
    "    \n",
    "    \n",
    "    fw = open('C:/Users/Crow/Desktop/new_result/29_kfold_'+ name + gap+'_test_result_'+ str(j) +'.txt','w')\n",
    "   \n",
    "    for t in range(0,len(y_test3)):\n",
    "        fw.write(str(y_test3[t]))\n",
    "        fw.write('\\n')\n",
    "    fw.close()\n",
    "#     clf = RandomForestClassifier(n_estimators=1600,oob_score=True,n_jobs=3,\n",
    "#                                  random_state=50,max_depth=11,min_samples_split=30,max_features=19,min_samples_leaf=20)\n",
    "# #     clf = RandomForestClassifier(bootstrap=True, class_weight=None, criterion='gini',\n",
    "# #             max_depth=10, max_features='auto', max_leaf_nodes=None,\n",
    "# #             min_impurity_decrease=0.0, min_impurity_split=None,\n",
    "# #             min_samples_leaf=1, min_samples_split=2,\n",
    "# #             min_weight_fraction_leaf=0.0, n_estimators=30, n_jobs=4,\n",
    "# #             oob_score=False, random_state=0, verbose=0, warm_start=False)\n",
    "#     clf.fit(x_train3, y_train3)\n",
    "#     test_pred = clf.predict(x_test3)\n",
    "#     test_pred_proba = clf.predict_proba(x_test3)[:, 1]\n",
    "#     fpr, tpr, thresholds = roc_curve(y_test3,test_pred_proba,pos_label=1)\n",
    "#     #print(\"ACC:  %f \"  %accuracy_score(y_test3,test_pred))\n",
    "#     print(\"AUC: %f\" % auc(fpr, tpr))\n",
    "\n",
    "#     auc_mean.append(auc(fpr, tpr))\n",
    "#     #print(\"MCC: %f \" %matthews_corrcoef(y_test3,test_pred))\n",
    "#     joblib.dump(clf, 'C:/Users/Crow/Desktop/new_result/model/'+ str(j) +'_clf_kfold_'+ name + gap +'.pkl')\n",
    "#     fw = open('C:/Users/Crow/Desktop/new_result/29_kfold_'+ name + gap+'_result_'+ str(j) +'.txt','w')\n",
    "   \n",
    "#     for t in range(0,len(test_pred_proba)):\n",
    "#         fw.write(str(test_pred_proba[t]))\n",
    "#         fw.write('\\t')\n",
    "#         fw.write(str(y_test3[t]))\n",
    "#         fw.write('\\n')\n",
    "#     fw.close()\n",
    "\n",
    "    \n",
    "#     if j == 10:        \n",
    "#         print(auc_mean)\n",
    "#         print(print(\"CV AUC: %f\" % mean(auc_mean)))\n",
    "        \n",
    "        \n",
    "# #         test_pred_proba = clf.predict_proba(x_test)[:, 1]\n",
    "# #         fpr, tpr, thresholds = roc_curve(y_test,test_pred_proba,pos_label=1)\n",
    "# #         print(\"总AUC: %f\" % auc(fpr, tpr))\n",
    "# #         fw = open('C:/Users/Crow/Desktop/result/29_kfold_'+ name + gap +'_result.txt','w')\n",
    "# #         for t in range(0,len(test_pred_proba)):\n",
    "# #             fw.write(str(test_pred_proba[t]))\n",
    "# #             fw.write('\\t')\n",
    "# #             fw.write(str(y_test[t]))\n",
    "# #             fw.write('\\n')\n",
    "# #         fw.close()\n",
    "    j+=1"
   ]
  },
  {
   "cell_type": "code",
   "execution_count": 16,
   "metadata": {},
   "outputs": [
    {
     "data": {
      "text/plain": [
       "1"
      ]
     },
     "execution_count": 16,
     "metadata": {},
     "output_type": "execute_result"
    }
   ],
   "source": [
    "y_test3[0]"
   ]
  },
  {
   "cell_type": "code",
   "execution_count": 71,
   "metadata": {},
   "outputs": [],
   "source": [
    "clf.fit(x_train3, y_train3)\n",
    "test_pred = clf.predict(x_test3)\n"
   ]
  },
  {
   "cell_type": "code",
   "execution_count": 77,
   "metadata": {},
   "outputs": [],
   "source": [
    "test_pred_proba = clf.predict_proba(x_test3)[:, 1]\n"
   ]
  },
  {
   "cell_type": "code",
   "execution_count": 30,
   "metadata": {},
   "outputs": [
    {
     "name": "stdout",
     "output_type": "stream",
     "text": [
      "[0 0 0 ... 0 0 0]\n"
     ]
    }
   ],
   "source": [
    "from sklearn.externals import joblib\n",
    "\n",
    "\n",
    "joblib.dump(clf, 'clf_binary.pkl')\n",
    "# 加载clf.pkl\n",
    "new_clf = joblib.load('C:/Users/Crow/Desktop/jupyter/clf_binary.pkl')\n",
    "print(new_clf.predict(x_test))\n"
   ]
  },
  {
   "cell_type": "code",
   "execution_count": 37,
   "metadata": {},
   "outputs": [
    {
     "data": {
      "text/plain": [
       "array([0.07732428, 0.01178842, 0.11174138, ..., 0.08296139, 0.01409837,\n",
       "       0.04948206])"
      ]
     },
     "execution_count": 37,
     "metadata": {},
     "output_type": "execute_result"
    }
   ],
   "source": [
    "new_clf.predict_proba(x_test)[:, 1]"
   ]
  },
  {
   "cell_type": "code",
   "execution_count": 47,
   "metadata": {},
   "outputs": [
    {
     "name": "stdout",
     "output_type": "stream",
     "text": [
      "AUC: 0.725808\n"
     ]
    }
   ],
   "source": [
    "test_pred = clf.predict(x_test)\n",
    "test_pred_proba = clf.predict_proba(x_test)[:, 1]\n",
    "fpr, tpr, thresholds = roc_curve(y_test,test_pred_proba,pos_label=1)\n",
    "print(\"AUC: %f\" % auc(fpr, tpr))"
   ]
  },
  {
   "cell_type": "code",
   "execution_count": 85,
   "metadata": {},
   "outputs": [
    {
     "data": {
      "image/png": "[encoded data removed]",
      "text/plain": [
       "<Figure size 432x288 with 1 Axes>"
      ]
     },
     "metadata": {
      "needs_background": "light"
     },
     "output_type": "display_data"
    }
   ],
   "source": [
    "# DL-embedding 与 CKSAAP_CrotSite的性能比较\n",
    "q = ['Embedding','CKSAAP_CrotSite']\n",
    "q2=[0.853252]\n",
    "q3=[0.0307755]\n",
    "\n",
    "\n",
    "data_Embedding = pd.read_table('c:/Users/Crow/Desktop/human_data_12.12/result/DL_result/Test_keras_29_Embedding_ROC01_result.txt')\n",
    "data_CKSAAP_CrotSite = pd.read_table('C:/Users/Crow/Desktop/result/CKSAAP_sites_ROC01_result.txt')\n",
    "\n",
    "#data2 = data[data['x-axie']<=0.1]\n",
    "plt.title('ROC')\n",
    "plt.plot(data_Embedding['x-axie'], data_Embedding['y-axie'],label='DL_Embedding' + ' = %0.3f'%0.853252)\n",
    "\n",
    "plt.plot(data_CKSAAP_CrotSite['x-axie'], data_CKSAAP_CrotSite['y-axie'],label='CKSAAP_CrotSite' + ' = %0.3f'%0.4641598974790915)\n",
    "\n",
    "\n",
    "plt.legend(loc='lower right')\n",
    "#plt.plot([0,0.1],[0,1],'r--')\n",
    "plt.ylabel('TPR')\n",
    "plt.xlabel('FPR')\n",
    "plt.savefig('c:/Users/Crow/Desktop/result/picture/Embedding_CKSAAP_CrotSite_ROC_600.png',dpi=600)\n",
    "plt.close(0)"
   ]
  },
  {
   "cell_type": "code",
   "execution_count": 86,
   "metadata": {},
   "outputs": [
    {
     "data": {
      "image/png": "[encoded data removed]",
      "text/plain": [
       "<Figure size 432x288 with 1 Axes>"
      ]
     },
     "metadata": {
      "needs_background": "light"
     },
     "output_type": "display_data"
    }
   ],
   "source": [
    "# DL-embedding 与 CKSAAP_CrotSite的性能比较\n",
    "q = ['Embedding','CKSAAP_CrotSite']\n",
    "q2=[0.853252]\n",
    "q3=[0.0307755]\n",
    "\n",
    "\n",
    "data_Embedding = pd.read_table('c:/Users/Crow/Desktop/human_data_12.12/result/DL_result/Test_keras_29_Embedding_ROC01_result.txt')\n",
    "data_CKSAAP_CrotSite = pd.read_table('C:/Users/Crow/Desktop/result/CKSAAP_sites_ROC01_result.txt')\n",
    "\n",
    "data_Embedding2 = data_Embedding[data_Embedding['x-axie']<=0.1]\n",
    "data_CKSAAP_CrotSite2 = data_CKSAAP_CrotSite[data_CKSAAP_CrotSite['x-axie']<=0.1]\n",
    "plt.title('ROC01')\n",
    "plt.plot(data_Embedding2['x-axie'], data_Embedding2['y-axie'],label='DL_Embedding' + ' = %0.3f'%0.0307755)\n",
    "\n",
    "plt.plot(data_CKSAAP_CrotSite2['x-axie'], data_CKSAAP_CrotSite2['y-axie'],label='CKSAAP_CrotSite' + ' = %0.3f'%0.003)\n",
    "\n",
    "\n",
    "plt.legend(loc='lower right')\n",
    "#plt.plot([0,0.1],[0,1],'r--')\n",
    "plt.ylabel('TPR')\n",
    "plt.xlabel('FPR')\n",
    "plt.savefig('c:/Users/Crow/Desktop/result/picture/Embedding_CKSAAP_CrotSite_ROC01_600.png',dpi=600)\n",
    "plt.close(0)"
   ]
  },
  {
   "cell_type": "code",
   "execution_count": 11,
   "metadata": {
    "scrolled": true
   },
   "outputs": [
    {
     "name": "stdout",
     "output_type": "stream",
     "text": [
      " 0.706052\n",
      ",\n",
      " 0.0169484\n",
      ",\n",
      " 0.690526\n",
      ",\n",
      " 0.0169848\n",
      ",\n",
      " 0.715062\n",
      ",\n",
      " 0.0179932\n",
      ",\n",
      " 0.713427\n",
      ",\n",
      " 0.0176782\n",
      ",\n",
      " 0.710977\n",
      ",\n",
      " 0.0155117\n",
      ",\n",
      " 0.699106\n",
      ",\n",
      " 0.0163995\n",
      ",\n",
      " 0.713093\n",
      ",\n",
      " 0.0190318\n",
      ",\n",
      " 0.728365\n",
      ",\n",
      " 0.0206726\n",
      ",\n",
      " 0.736651\n",
      ",\n",
      " 0.0184324\n",
      ",\n",
      " 0.705442\n",
      ",\n",
      " 0.0173075\n",
      ",\n"
     ]
    }
   ],
   "source": [
    "# linshi\n",
    "# 2019.3.11\n",
    "# 读取文档 获得 AUC\n",
    "name='CKSAAP'\n",
    "gap='_gap4'\n",
    "a = []\n",
    "b = []\n",
    "for i in range(1,11):\n",
    "    path = 'C:/Users/Crow/Desktop/new_result/CNN/result/29_kfold_CNN_'+name+gap+'_result_ROC01_result_'+str(i)+'.txt'\n",
    "    fr = open(path,'r')\n",
    "    for line in fr.readlines()[0:1]:\n",
    "        print(line.split(':')[1].split('\\n')[0])\n",
    "        a.append(float(line.split(':')[1].split('\\n')[0]))\n",
    "        print(',')\n",
    "    fr.close()\n",
    "    fr = open(path,'r')\n",
    "    for line in fr.readlines()[1:2]:\n",
    "        print(line.split(':')[1].split('\\n')[0])\n",
    "        b.append(float(line.split(':')[1].split('\\n')[0]))\n",
    "        print(',')\n",
    "    fr.close()\n",
    "    #print('\\n')"
   ]
  },
  {
   "cell_type": "code",
   "execution_count": 14,
   "metadata": {},
   "outputs": [
    {
     "data": {
      "text/plain": [
       "[0.706052,\n",
       " 0.690526,\n",
       " 0.715062,\n",
       " 0.713427,\n",
       " 0.710977,\n",
       " 0.699106,\n",
       " 0.713093,\n",
       " 0.728365,\n",
       " 0.736651,\n",
       " 0.705442]"
      ]
     },
     "execution_count": 14,
     "metadata": {},
     "output_type": "execute_result"
    }
   ],
   "source": [
    "a"
   ]
  },
  {
   "cell_type": "code",
   "execution_count": 15,
   "metadata": {},
   "outputs": [
    {
     "data": {
      "text/plain": [
       "[0.0169484,\n",
       " 0.0169848,\n",
       " 0.0179932,\n",
       " 0.0176782,\n",
       " 0.0155117,\n",
       " 0.0163995,\n",
       " 0.0190318,\n",
       " 0.0206726,\n",
       " 0.0184324,\n",
       " 0.0173075]"
      ]
     },
     "execution_count": 15,
     "metadata": {},
     "output_type": "execute_result"
    }
   ],
   "source": [
    "b"
   ]
  },
  {
   "cell_type": "code",
   "execution_count": 16,
   "metadata": {},
   "outputs": [
    {
     "name": "stderr",
     "output_type": "stream",
     "text": [
      "C:\\Users\\Crow\\AppData\\Local\\conda\\conda\\envs\\deeplearning\\lib\\site-packages\\ipykernel_launcher.py:7: FutureWarning: read_table is deprecated, use read_csv instead, passing sep='\\t'.\n",
      "  import sys\n"
     ]
    }
   ],
   "source": [
    "name='CKSAAp'\n",
    "gap='_gap4'\n",
    "a = []\n",
    "b = []\n",
    "for i in range(1,11):\n",
    "    path = 'C:/Users/Crow/Desktop/new_result/CNN/result/29_kfold_CNN_'+name+gap+'_result_ROC_result_'+str(i)+'.txt'\n",
    "    result = pd.read_table(path)\n",
    "    for i in range(0,len(result)):\n",
    "        if result['Sp'][i] >= 0.9 and result['Sp'][i+1] <0.9:\n",
    "            #print(\"Sp:  %f \"  %result['Sp'][i])\n",
    "            a.append(result['Sp'][i])\n",
    "            #print(\"Cutoff:  %f \"  %result['<<Cutoff'][i])\n",
    "            b.append(result['<<Cutoff'][i])"
   ]
  },
  {
   "cell_type": "code",
   "execution_count": 17,
   "metadata": {},
   "outputs": [
    {
     "data": {
      "text/plain": [
       "[0.900134,\n",
       " 0.9000450000000001,\n",
       " 0.9,\n",
       " 0.9,\n",
       " 0.90012,\n",
       " 0.9000450000000001,\n",
       " 0.900015,\n",
       " 0.900075,\n",
       " 0.9000889999999999,\n",
       " 0.900015]"
      ]
     },
     "execution_count": 17,
     "metadata": {},
     "output_type": "execute_result"
    }
   ],
   "source": [
    "a"
   ]
  },
  {
   "cell_type": "code",
   "execution_count": 18,
   "metadata": {},
   "outputs": [
    {
     "data": {
      "text/plain": [
       "[0.19909200000000002,\n",
       " 0.23067,\n",
       " 0.21955100000000002,\n",
       " 0.208021,\n",
       " 0.223388,\n",
       " 0.24653200000000003,\n",
       " 0.22803800000000002,\n",
       " 0.209202,\n",
       " 0.230325,\n",
       " 0.24370300000000003]"
      ]
     },
     "execution_count": 18,
     "metadata": {},
     "output_type": "execute_result"
    }
   ],
   "source": [
    "b"
   ]
  },
  {
   "cell_type": "code",
   "execution_count": 19,
   "metadata": {
    "scrolled": true
   },
   "outputs": [
    {
     "name": "stderr",
     "output_type": "stream",
     "text": [
      "C:\\Users\\Crow\\AppData\\Local\\conda\\conda\\envs\\deeplearning\\lib\\site-packages\\ipykernel_launcher.py:15: FutureWarning: read_table is deprecated, use read_csv instead, passing sep='\\t'.\n",
      "  from ipykernel import kernelapp as app\n",
      "C:\\Users\\Crow\\AppData\\Local\\conda\\conda\\envs\\deeplearning\\lib\\site-packages\\ipykernel_launcher.py:18: FutureWarning: read_table is deprecated, use read_csv instead, passing sep='\\t'.\n"
     ]
    },
    {
     "name": "stdout",
     "output_type": "stream",
     "text": [
      "ACC:  0.843089 \n",
      "Sn: 0.281938\n",
      "Sp: 0.900134\n",
      "MCC: 0.164146 \n",
      "AUC: 0.706052\n",
      "AUC: 0.706052\n",
      "ACC:  0.846070 \n",
      "Sn: 0.284389\n",
      "Sp: 0.900045\n",
      "MCC: 0.162811 \n",
      "AUC: 0.690526\n",
      "AUC: 0.690526\n",
      "ACC:  0.846070 \n",
      "Sn: 0.305970\n",
      "Sp: 0.900000\n",
      "MCC: 0.182962 \n",
      "AUC: 0.715062\n",
      "AUC: 0.715062\n",
      "ACC:  0.844152 \n",
      "Sn: 0.310443\n",
      "Sp: 0.900000\n",
      "MCC: 0.189686 \n",
      "AUC: 0.713427\n",
      "AUC: 0.713427\n",
      "ACC:  0.843881 \n",
      "Sn: 0.298119\n",
      "Sp: 0.900269\n",
      "MCC: 0.178953 \n",
      "AUC: 0.710977\n",
      "AUC: 0.710977\n",
      "ACC:  0.845643 \n",
      "Sn: 0.277090\n",
      "Sp: 0.900193\n",
      "MCC: 0.156867 \n",
      "AUC: 0.699106\n",
      "AUC: 0.699106\n",
      "ACC:  0.846863 \n",
      "Sn: 0.329942\n",
      "Sp: 0.900015\n",
      "MCC: 0.204712 \n",
      "AUC: 0.713093\n",
      "AUC: 0.713093\n",
      "ACC:  0.849031 \n",
      "Sn: 0.341246\n",
      "Sp: 0.900075\n",
      "MCC: 0.212446 \n",
      "AUC: 0.728365\n",
      "AUC: 0.728365\n",
      "ACC:  0.846592 \n",
      "Sn: 0.313522\n",
      "Sp: 0.900089\n",
      "MCC: 0.189664 \n",
      "AUC: 0.736651\n",
      "AUC: 0.736651\n",
      "ACC:  0.850251 \n",
      "Sn: 0.305825\n",
      "Sp: 0.900015\n",
      "MCC: 0.177255 \n",
      "AUC: 0.705442\n",
      "AUC: 0.705442\n"
     ]
    }
   ],
   "source": [
    "# 十折交叉检验 RF 2019.3.11\n",
    "name='CKSAAP'\n",
    "gap='_gap4'\n",
    "test_cutoff = [0.19909200000000002,0.23067,0.21955100000000002,0.208021,0.223388,0.24653200000000003,0.22803800000000002,0.209202,0.230325,0.24370300000000003] \n",
    "\n",
    "\n",
    "acc = []\n",
    "sn = []\n",
    "sp = []\n",
    "mcc = []\n",
    "AUC = []\n",
    "for q in range(1,11):\n",
    "    path = 'C:/Users/Crow/Desktop/new_result/CNN/29_kfold_CNN_'+name+gap+'_result_'+str(q)+'.txt'\n",
    "    test_path = 'C:/Users/Crow/Desktop/new_result/CNN/29_kfold_CNN_'+name+gap+'_test_'+str(q)+'.txt'\n",
    "    y_test = pd.read_table(test_path, header=None)\n",
    "    y_test = list(y_test[0])\n",
    "    \n",
    "    test_result = pd.read_table(path, header=None)\n",
    "    test_result_score = test_result[0]\n",
    "    test_pred = np.array(test_result[1])\n",
    "    \n",
    "    for i in range(0,len(test_result_score)):\n",
    "        if test_result_score[i] > test_cutoff[q-1]:       \n",
    "            test_pred[i] = 1\n",
    "        else:\n",
    "            test_pred[i] = 0\n",
    "    #test_pred = test_pred[1 if test_result_score[i] > test_cutoff[q] else 0 for i in range(0,len(test_result_score))]\n",
    "    fpr, tpr, thresholds = roc_curve(y_test,test_result_score,pos_label=1)\n",
    "    precision,recall,SN,SP,GM,TP,TN,FP,FN = performance(y_test,test_pred)\n",
    "    print(\"ACC:  %f \"  %accuracy_score(y_test,test_pred))\n",
    "    acc.append(accuracy_score(y_test,test_pred))\n",
    "    print(\"Sn: %f\" %SN)\n",
    "    sn.append(SN)\n",
    "    print(\"Sp: %f\" %SP)\n",
    "    sp.append(SP)\n",
    "    print(\"MCC: %f \" %matthews_corrcoef(y_test,test_pred))\n",
    "    mcc.append(matthews_corrcoef(y_test,test_pred))\n",
    "    print(\"AUC: %f\" % auc(fpr, tpr))\n",
    "    print(\"AUC: %f\" % roc_auc_score(y_test,test_result_score))\n",
    "    AUC.append(auc(fpr, tpr))\n",
    "\n"
   ]
  },
  {
   "cell_type": "code",
   "execution_count": 20,
   "metadata": {},
   "outputs": [
    {
     "data": {
      "text/plain": [
       "[0.843089430894309,\n",
       " 0.846070460704607,\n",
       " 0.846070460704607,\n",
       " 0.8441523241631658,\n",
       " 0.8438812847269278,\n",
       " 0.8456430410624746,\n",
       " 0.8468627185255455,\n",
       " 0.8490310340154492,\n",
       " 0.8465916790893075,\n",
       " 0.8502507114785202]"
      ]
     },
     "execution_count": 20,
     "metadata": {},
     "output_type": "execute_result"
    }
   ],
   "source": [
    "acc"
   ]
  },
  {
   "cell_type": "code",
   "execution_count": 21,
   "metadata": {},
   "outputs": [
    {
     "data": {
      "text/plain": [
       "[0.28193832599118945,\n",
       " 0.28438948995363217,\n",
       " 0.30597014925373134,\n",
       " 0.3104434907010014,\n",
       " 0.2981186685962373,\n",
       " 0.2770897832817337,\n",
       " 0.32994186046511625,\n",
       " 0.34124629080118696,\n",
       " 0.3135215453194651,\n",
       " 0.3058252427184466]"
      ]
     },
     "execution_count": 21,
     "metadata": {},
     "output_type": "execute_result"
    }
   ],
   "source": [
    "sn"
   ]
  },
  {
   "cell_type": "code",
   "execution_count": 22,
   "metadata": {},
   "outputs": [
    {
     "data": {
      "text/plain": [
       "[0.16414635754809995,\n",
       " 0.1628108870292547,\n",
       " 0.1829618848879912,\n",
       " 0.1896856768555791,\n",
       " 0.17895258740343364,\n",
       " 0.15686731674561818,\n",
       " 0.2047123228051748,\n",
       " 0.21244619771482817,\n",
       " 0.18966410567140335,\n",
       " 0.17725464239046393]"
      ]
     },
     "execution_count": 22,
     "metadata": {},
     "output_type": "execute_result"
    }
   ],
   "source": [
    "mcc\n"
   ]
  },
  {
   "cell_type": "code",
   "execution_count": 29,
   "metadata": {},
   "outputs": [
    {
     "data": {
      "text/plain": [
       "0.18195019790518469"
      ]
     },
     "execution_count": 29,
     "metadata": {},
     "output_type": "execute_result"
    }
   ],
   "source": [
    "CKSAAP_gap4 = [0.706052,0.690526,0.715062,0.713427,0.710977,0.699106,0.713093,0.728365,0.736651,0.705442]\n",
    "CKSAAP_gap4_01 = [0.0169484,0.0169848,0.0179932,0.0176782,0.0155117,0.0163995,0.0190318,0.0206726,0.0184324,0.0173075]\n",
    "CKSAAP_gap4_sp = [0.900134,0.9000450000000001,0.9,0.9,0.90012,0.9000450000000001,0.900015,0.900075,0.9000889999999999,0.900015]\n",
    "CKSAAP_gap4_cutoff = [0.19909200000000002,0.23067,0.21955100000000002,0.208021,0.223388,0.24653200000000003,0.22803800000000002,0.209202,0.230325,0.24370300000000003] \n",
    "CKSAAP_gap4_acc = [0.843089430894309,0.846070460704607,0.846070460704607,0.8441523241631658,0.8438812847269278,0.8456430410624746,0.8468627185255455,0.8490310340154492,0.8465916790893075,0.8502507114785202]\n",
    "CKSAAP_gap4_sn = [0.28193832599118945,0.28438948995363217,0.30597014925373134,0.3104434907010014,0.2981186685962373,0.2770897832817337,0.32994186046511625,0.34124629080118696,0.3135215453194651,0.3058252427184466]\n",
    "CKSAAP_gap4_mcc = [0.16414635754809995,0.1628108870292547,0.1829618848879912,0.1896856768555791,0.17895258740343364,0.15686731674561818,0.2047123228051748,0.21244619771482817,0.18966410567140335,0.17725464239046393]\n",
    "mean(CKSAAP_gap4_mcc)"
   ]
  },
  {
   "cell_type": "code",
   "execution_count": 29,
   "metadata": {
    "scrolled": true
   },
   "outputs": [
    {
     "name": "stdout",
     "output_type": "stream",
     "text": [
      "index: 4\n"
     ]
    },
    {
     "ename": "UnknownError",
     "evalue": "Failed to get convolution algorithm. This is probably because cuDNN failed to initialize, so try looking to see if a warning log message was printed above.\n\t [[{{node conv1d_55/convolution/Conv2D}} = Conv2D[T=DT_FLOAT, data_format=\"NCHW\", dilations=[1, 1, 1, 1], padding=\"SAME\", strides=[1, 1, 1, 1], use_cudnn_on_gpu=true, _device=\"/job:localhost/replica:0/task:0/device:GPU:0\"](conv1d_55/convolution/Conv2D-0-TransposeNHWCToNCHW-LayoutOptimizer, conv1d_55/convolution/ExpandDims_1)]]\n\t [[{{node dense_19/Sigmoid/_267}} = _Recv[client_terminated=false, recv_device=\"/job:localhost/replica:0/task:0/device:CPU:0\", send_device=\"/job:localhost/replica:0/task:0/device:GPU:0\", send_device_incarnation=1, tensor_name=\"edge_166_dense_19/Sigmoid\", tensor_type=DT_FLOAT, _device=\"/job:localhost/replica:0/task:0/device:CPU:0\"]()]]",
     "output_type": "error",
     "traceback": [
      "\u001b[1;31m---------------------------------------------------------------------------\u001b[0m",
      "\u001b[1;31mUnknownError\u001b[0m                              Traceback (most recent call last)",
      "\u001b[1;32m<ipython-input-29-ba187ac4de3b>\u001b[0m in \u001b[0;36m<module>\u001b[1;34m\u001b[0m\n\u001b[0;32m     38\u001b[0m \u001b[1;33m\u001b[0m\u001b[0m\n\u001b[0;32m     39\u001b[0m \u001b[1;33m\u001b[0m\u001b[0m\n\u001b[1;32m---> 40\u001b[1;33m \u001b[0mtest_pred_proba\u001b[0m \u001b[1;33m=\u001b[0m \u001b[0mmodel\u001b[0m\u001b[1;33m.\u001b[0m\u001b[0mpredict\u001b[0m\u001b[1;33m(\u001b[0m\u001b[0mx_test\u001b[0m\u001b[1;33m)\u001b[0m\u001b[1;33m\u001b[0m\u001b[1;33m\u001b[0m\u001b[0m\n\u001b[0m\u001b[0;32m     41\u001b[0m \u001b[0mtest_pred\u001b[0m \u001b[1;33m=\u001b[0m \u001b[0mmodel\u001b[0m\u001b[1;33m.\u001b[0m\u001b[0mpredict_classes\u001b[0m\u001b[1;33m(\u001b[0m\u001b[0mx_test\u001b[0m\u001b[1;33m)\u001b[0m\u001b[1;33m\u001b[0m\u001b[1;33m\u001b[0m\u001b[0m\n\u001b[0;32m     42\u001b[0m \u001b[0mtest_pred\u001b[0m \u001b[1;33m=\u001b[0m \u001b[0mlist\u001b[0m\u001b[1;33m(\u001b[0m\u001b[0mtest_pred\u001b[0m\u001b[1;33m[\u001b[0m\u001b[1;33m:\u001b[0m\u001b[1;33m,\u001b[0m\u001b[1;36m0\u001b[0m\u001b[1;33m]\u001b[0m\u001b[1;33m)\u001b[0m\u001b[1;33m\u001b[0m\u001b[1;33m\u001b[0m\u001b[0m\n",
      "\u001b[1;32m~\\AppData\\Local\\conda\\conda\\envs\\deeplearning\\lib\\site-packages\\keras\\engine\\training.py\u001b[0m in \u001b[0;36mpredict\u001b[1;34m(self, x, batch_size, verbose, steps)\u001b[0m\n\u001b[0;32m   1167\u001b[0m                                             \u001b[0mbatch_size\u001b[0m\u001b[1;33m=\u001b[0m\u001b[0mbatch_size\u001b[0m\u001b[1;33m,\u001b[0m\u001b[1;33m\u001b[0m\u001b[1;33m\u001b[0m\u001b[0m\n\u001b[0;32m   1168\u001b[0m                                             \u001b[0mverbose\u001b[0m\u001b[1;33m=\u001b[0m\u001b[0mverbose\u001b[0m\u001b[1;33m,\u001b[0m\u001b[1;33m\u001b[0m\u001b[1;33m\u001b[0m\u001b[0m\n\u001b[1;32m-> 1169\u001b[1;33m                                             steps=steps)\n\u001b[0m\u001b[0;32m   1170\u001b[0m \u001b[1;33m\u001b[0m\u001b[0m\n\u001b[0;32m   1171\u001b[0m     def train_on_batch(self, x, y,\n",
      "\u001b[1;32m~\\AppData\\Local\\conda\\conda\\envs\\deeplearning\\lib\\site-packages\\keras\\engine\\training_arrays.py\u001b[0m in \u001b[0;36mpredict_loop\u001b[1;34m(model, f, ins, batch_size, verbose, steps)\u001b[0m\n\u001b[0;32m    292\u001b[0m                 \u001b[0mins_batch\u001b[0m\u001b[1;33m[\u001b[0m\u001b[0mi\u001b[0m\u001b[1;33m]\u001b[0m \u001b[1;33m=\u001b[0m \u001b[0mins_batch\u001b[0m\u001b[1;33m[\u001b[0m\u001b[0mi\u001b[0m\u001b[1;33m]\u001b[0m\u001b[1;33m.\u001b[0m\u001b[0mtoarray\u001b[0m\u001b[1;33m(\u001b[0m\u001b[1;33m)\u001b[0m\u001b[1;33m\u001b[0m\u001b[1;33m\u001b[0m\u001b[0m\n\u001b[0;32m    293\u001b[0m \u001b[1;33m\u001b[0m\u001b[0m\n\u001b[1;32m--> 294\u001b[1;33m             \u001b[0mbatch_outs\u001b[0m \u001b[1;33m=\u001b[0m \u001b[0mf\u001b[0m\u001b[1;33m(\u001b[0m\u001b[0mins_batch\u001b[0m\u001b[1;33m)\u001b[0m\u001b[1;33m\u001b[0m\u001b[1;33m\u001b[0m\u001b[0m\n\u001b[0m\u001b[0;32m    295\u001b[0m             \u001b[0mbatch_outs\u001b[0m \u001b[1;33m=\u001b[0m \u001b[0mto_list\u001b[0m\u001b[1;33m(\u001b[0m\u001b[0mbatch_outs\u001b[0m\u001b[1;33m)\u001b[0m\u001b[1;33m\u001b[0m\u001b[1;33m\u001b[0m\u001b[0m\n\u001b[0;32m    296\u001b[0m             \u001b[1;32mif\u001b[0m \u001b[0mbatch_index\u001b[0m \u001b[1;33m==\u001b[0m \u001b[1;36m0\u001b[0m\u001b[1;33m:\u001b[0m\u001b[1;33m\u001b[0m\u001b[1;33m\u001b[0m\u001b[0m\n",
      "\u001b[1;32m~\\AppData\\Local\\conda\\conda\\envs\\deeplearning\\lib\\site-packages\\keras\\backend\\tensorflow_backend.py\u001b[0m in \u001b[0;36m__call__\u001b[1;34m(self, inputs)\u001b[0m\n\u001b[0;32m   2713\u001b[0m                 \u001b[1;32mreturn\u001b[0m \u001b[0mself\u001b[0m\u001b[1;33m.\u001b[0m\u001b[0m_legacy_call\u001b[0m\u001b[1;33m(\u001b[0m\u001b[0minputs\u001b[0m\u001b[1;33m)\u001b[0m\u001b[1;33m\u001b[0m\u001b[1;33m\u001b[0m\u001b[0m\n\u001b[0;32m   2714\u001b[0m \u001b[1;33m\u001b[0m\u001b[0m\n\u001b[1;32m-> 2715\u001b[1;33m             \u001b[1;32mreturn\u001b[0m \u001b[0mself\u001b[0m\u001b[1;33m.\u001b[0m\u001b[0m_call\u001b[0m\u001b[1;33m(\u001b[0m\u001b[0minputs\u001b[0m\u001b[1;33m)\u001b[0m\u001b[1;33m\u001b[0m\u001b[1;33m\u001b[0m\u001b[0m\n\u001b[0m\u001b[0;32m   2716\u001b[0m         \u001b[1;32melse\u001b[0m\u001b[1;33m:\u001b[0m\u001b[1;33m\u001b[0m\u001b[1;33m\u001b[0m\u001b[0m\n\u001b[0;32m   2717\u001b[0m             \u001b[1;32mif\u001b[0m \u001b[0mpy_any\u001b[0m\u001b[1;33m(\u001b[0m\u001b[0mis_tensor\u001b[0m\u001b[1;33m(\u001b[0m\u001b[0mx\u001b[0m\u001b[1;33m)\u001b[0m \u001b[1;32mfor\u001b[0m \u001b[0mx\u001b[0m \u001b[1;32min\u001b[0m \u001b[0minputs\u001b[0m\u001b[1;33m)\u001b[0m\u001b[1;33m:\u001b[0m\u001b[1;33m\u001b[0m\u001b[1;33m\u001b[0m\u001b[0m\n",
      "\u001b[1;32m~\\AppData\\Local\\conda\\conda\\envs\\deeplearning\\lib\\site-packages\\keras\\backend\\tensorflow_backend.py\u001b[0m in \u001b[0;36m_call\u001b[1;34m(self, inputs)\u001b[0m\n\u001b[0;32m   2673\u001b[0m             \u001b[0mfetched\u001b[0m \u001b[1;33m=\u001b[0m \u001b[0mself\u001b[0m\u001b[1;33m.\u001b[0m\u001b[0m_callable_fn\u001b[0m\u001b[1;33m(\u001b[0m\u001b[1;33m*\u001b[0m\u001b[0marray_vals\u001b[0m\u001b[1;33m,\u001b[0m \u001b[0mrun_metadata\u001b[0m\u001b[1;33m=\u001b[0m\u001b[0mself\u001b[0m\u001b[1;33m.\u001b[0m\u001b[0mrun_metadata\u001b[0m\u001b[1;33m)\u001b[0m\u001b[1;33m\u001b[0m\u001b[1;33m\u001b[0m\u001b[0m\n\u001b[0;32m   2674\u001b[0m         \u001b[1;32melse\u001b[0m\u001b[1;33m:\u001b[0m\u001b[1;33m\u001b[0m\u001b[1;33m\u001b[0m\u001b[0m\n\u001b[1;32m-> 2675\u001b[1;33m             \u001b[0mfetched\u001b[0m \u001b[1;33m=\u001b[0m \u001b[0mself\u001b[0m\u001b[1;33m.\u001b[0m\u001b[0m_callable_fn\u001b[0m\u001b[1;33m(\u001b[0m\u001b[1;33m*\u001b[0m\u001b[0marray_vals\u001b[0m\u001b[1;33m)\u001b[0m\u001b[1;33m\u001b[0m\u001b[1;33m\u001b[0m\u001b[0m\n\u001b[0m\u001b[0;32m   2676\u001b[0m         \u001b[1;32mreturn\u001b[0m \u001b[0mfetched\u001b[0m\u001b[1;33m[\u001b[0m\u001b[1;33m:\u001b[0m\u001b[0mlen\u001b[0m\u001b[1;33m(\u001b[0m\u001b[0mself\u001b[0m\u001b[1;33m.\u001b[0m\u001b[0moutputs\u001b[0m\u001b[1;33m)\u001b[0m\u001b[1;33m]\u001b[0m\u001b[1;33m\u001b[0m\u001b[1;33m\u001b[0m\u001b[0m\n\u001b[0;32m   2677\u001b[0m \u001b[1;33m\u001b[0m\u001b[0m\n",
      "\u001b[1;32m~\\AppData\\Local\\conda\\conda\\envs\\deeplearning\\lib\\site-packages\\tensorflow\\python\\client\\session.py\u001b[0m in \u001b[0;36m__call__\u001b[1;34m(self, *args, **kwargs)\u001b[0m\n\u001b[0;32m   1437\u001b[0m           ret = tf_session.TF_SessionRunCallable(\n\u001b[0;32m   1438\u001b[0m               \u001b[0mself\u001b[0m\u001b[1;33m.\u001b[0m\u001b[0m_session\u001b[0m\u001b[1;33m.\u001b[0m\u001b[0m_session\u001b[0m\u001b[1;33m,\u001b[0m \u001b[0mself\u001b[0m\u001b[1;33m.\u001b[0m\u001b[0m_handle\u001b[0m\u001b[1;33m,\u001b[0m \u001b[0margs\u001b[0m\u001b[1;33m,\u001b[0m \u001b[0mstatus\u001b[0m\u001b[1;33m,\u001b[0m\u001b[1;33m\u001b[0m\u001b[1;33m\u001b[0m\u001b[0m\n\u001b[1;32m-> 1439\u001b[1;33m               run_metadata_ptr)\n\u001b[0m\u001b[0;32m   1440\u001b[0m         \u001b[1;32mif\u001b[0m \u001b[0mrun_metadata\u001b[0m\u001b[1;33m:\u001b[0m\u001b[1;33m\u001b[0m\u001b[1;33m\u001b[0m\u001b[0m\n\u001b[0;32m   1441\u001b[0m           \u001b[0mproto_data\u001b[0m \u001b[1;33m=\u001b[0m \u001b[0mtf_session\u001b[0m\u001b[1;33m.\u001b[0m\u001b[0mTF_GetBuffer\u001b[0m\u001b[1;33m(\u001b[0m\u001b[0mrun_metadata_ptr\u001b[0m\u001b[1;33m)\u001b[0m\u001b[1;33m\u001b[0m\u001b[1;33m\u001b[0m\u001b[0m\n",
      "\u001b[1;32m~\\AppData\\Local\\conda\\conda\\envs\\deeplearning\\lib\\site-packages\\tensorflow\\python\\framework\\errors_impl.py\u001b[0m in \u001b[0;36m__exit__\u001b[1;34m(self, type_arg, value_arg, traceback_arg)\u001b[0m\n\u001b[0;32m    526\u001b[0m             \u001b[1;32mNone\u001b[0m\u001b[1;33m,\u001b[0m \u001b[1;32mNone\u001b[0m\u001b[1;33m,\u001b[0m\u001b[1;33m\u001b[0m\u001b[1;33m\u001b[0m\u001b[0m\n\u001b[0;32m    527\u001b[0m             \u001b[0mcompat\u001b[0m\u001b[1;33m.\u001b[0m\u001b[0mas_text\u001b[0m\u001b[1;33m(\u001b[0m\u001b[0mc_api\u001b[0m\u001b[1;33m.\u001b[0m\u001b[0mTF_Message\u001b[0m\u001b[1;33m(\u001b[0m\u001b[0mself\u001b[0m\u001b[1;33m.\u001b[0m\u001b[0mstatus\u001b[0m\u001b[1;33m.\u001b[0m\u001b[0mstatus\u001b[0m\u001b[1;33m)\u001b[0m\u001b[1;33m)\u001b[0m\u001b[1;33m,\u001b[0m\u001b[1;33m\u001b[0m\u001b[1;33m\u001b[0m\u001b[0m\n\u001b[1;32m--> 528\u001b[1;33m             c_api.TF_GetCode(self.status.status))\n\u001b[0m\u001b[0;32m    529\u001b[0m     \u001b[1;31m# Delete the underlying status object from memory otherwise it stays alive\u001b[0m\u001b[1;33m\u001b[0m\u001b[1;33m\u001b[0m\u001b[1;33m\u001b[0m\u001b[0m\n\u001b[0;32m    530\u001b[0m     \u001b[1;31m# as there is a reference to status from this from the traceback due to\u001b[0m\u001b[1;33m\u001b[0m\u001b[1;33m\u001b[0m\u001b[1;33m\u001b[0m\u001b[0m\n",
      "\u001b[1;31mUnknownError\u001b[0m: Failed to get convolution algorithm. This is probably because cuDNN failed to initialize, so try looking to see if a warning log message was printed above.\n\t [[{{node conv1d_55/convolution/Conv2D}} = Conv2D[T=DT_FLOAT, data_format=\"NCHW\", dilations=[1, 1, 1, 1], padding=\"SAME\", strides=[1, 1, 1, 1], use_cudnn_on_gpu=true, _device=\"/job:localhost/replica:0/task:0/device:GPU:0\"](conv1d_55/convolution/Conv2D-0-TransposeNHWCToNCHW-LayoutOptimizer, conv1d_55/convolution/ExpandDims_1)]]\n\t [[{{node dense_19/Sigmoid/_267}} = _Recv[client_terminated=false, recv_device=\"/job:localhost/replica:0/task:0/device:CPU:0\", send_device=\"/job:localhost/replica:0/task:0/device:GPU:0\", send_device_incarnation=1, tensor_name=\"edge_166_dense_19/Sigmoid\", tensor_type=DT_FLOAT, _device=\"/job:localhost/replica:0/task:0/device:CPU:0\"]()]]"
     ]
    }
   ],
   "source": [
    "BINARY = [0.747689,0.727972,0.735877,0.751765,0.757011,0.717918,0.749022,0.754958,0.74513,0.726439]\n",
    "BINARY_01 = [0.0207467,0.0191619,0.017333,0.0197314,0.0208088,0.0159896,0.0179048,0.0225105,0.0193714,0.0169962]\n",
    "BINARY_sp = [0.900134,0.9000450000000001,0.9,0.9,0.90012,0.9000450000000001,0.900015,0.900075,0.9000889999999999,0.900015]\n",
    "BINARY_cutoff = [0.23305900000000002,0.24557199999999998,0.213236,0.22940100000000002,0.230094,0.239806,0.22403499999999998,0.200758,0.246743,0.24060399999999998]\n",
    "BINARY_acc = [0.8497289972899729,0.8482384823848238,0.8455284552845529,0.8456430410624746,0.8479468762704974,0.8451009621899986,0.8474047973980214,0.851199349505353,0.8476758368342594,0.8494375931698062]\n",
    "BINARY_sn = [0.35389133627019087,0.3075734157650695,0.3,0.32474964234620884,0.3429811866859624,0.2724458204334365,0.33575581395348836,0.36350148367952523,0.32540861812778604,0.2961165048543689]\n",
    "BINARY_mcc = [0.22360594140823942,0.18212339893070464,0.1780109190876035,0.20183257272854002,0.2159051062860445,0.15278298897387252,0.20948572381489533,0.2306341442280707,0.19943847557203126,0.1694049993902506]\n",
    "# 获得十折交叉检验结果模型\n",
    "# 选取AUC最大值的模型，预测全部independent数据集\n",
    "# 输出result.txt =》得到AUC AUC01 cutoff \n",
    "#from keras.models import *\n",
    "name = 'BINARY'\n",
    "gap = ''\n",
    "index = BINARY.index(max(BINARY))\n",
    "\n",
    "print(\"index: %d\" %index)\n",
    "\n",
    "acc = []\n",
    "sn = []\n",
    "sp = []\n",
    "mcc = []\n",
    "AUC = []\n",
    "\n",
    "model = load_model('C:/Users/Crow/Desktop/new_result/CNN/model/29_kfold_CNN_'+ name+gap+'_'+str(index+1)+'.hdf5')\n",
    "\n",
    "# path_test =  'C:/Users/Crow/Desktop/human_data_12.12/Independent.txt'\n",
    "# x_test,y_test = pep(path_test,29-2)\n",
    "\n",
    "path_test = 'C:/Users/Crow/Desktop/human_data_12.12/Step_11_IND/'+ name +'/Test_29_'+ name + gap +'.txt'\n",
    "\n",
    "test = read_svm(path_test)\n",
    "\n",
    "x_test = test[0]\n",
    "y_test = test[1]\n",
    "\n",
    "x_test = np.expand_dims(x_test, axis=2) \n",
    "\n",
    "\n",
    "\n",
    "test_pred_proba = model.predict(x_test)\n",
    "test_pred = model.predict_classes(x_test)\n",
    "test_pred = list(test_pred[:,0])\n",
    "# for i in range(0,len(test_result_score)):\n",
    "#     if test_result_score[i] > 0.185971:       \n",
    "#         test_pred[i] = 1\n",
    "#     else:\n",
    "#         test_pred[i] = 0\n",
    "#test_pred = test_pred[1 if test_result_score[i] > test_cutoff[q] else 0 for i in range(0,len(test_result_score))]\n",
    "\n",
    "fpr, tpr, thresholds = roc_curve(y_test,test_pred_proba,pos_label=1)\n",
    "precision,recall,SN,SP,GM,TP,TN,FP,FN = performance(y_test,test_pred)\n",
    "print(\"ACC:  %f \"  %accuracy_score(y_test,test_pred))\n",
    "#acc.append(accuracy_score(y_test,test_pred))\n",
    "print(\"Sn: %f\" %SN)\n",
    "#sn.append(SN)\n",
    "print(\"Sp: %f\" %SP)\n",
    "#sp.append(SP)\n",
    "print(\"MCC: %f \" %matthews_corrcoef(y_test,test_pred))\n",
    "#mcc.append(matthews_corrcoef(y_test,test_pred))\n",
    "print(\"AUC: %f\" % auc(fpr, tpr))\n",
    "print(\"AUC: %f\" % roc_auc_score(y_test,test_pred_proba))\n",
    "#AUC.append(auc(fpr, tpr))\n",
    "fw = open('C:/Users/Crow/Desktop/new_result/CNN/ind_result/29_kfold_CNN_'+ name + gap +'_result.txt','w')\n",
    "for t in range(0,len(test_pred_proba)):\n",
    "    fw.write(str(test_pred_proba[t][0]))\n",
    "    fw.write('\\t')\n",
    "    fw.write(str(y_test[t]))\n",
    "    fw.write('\\n')\n",
    "fw.close()\n",
    "\n",
    "\n"
   ]
  }
 ],
 "metadata": {
  "kernelspec": {
   "display_name": "Python 3",
   "language": "python",
   "name": "python3"
  },
  "language_info": {
   "codemirror_mode": {
    "name": "ipython",
    "version": 3
   },
   "file_extension": ".py",
   "mimetype": "text/x-python",
   "name": "python",
   "nbconvert_exporter": "python",
   "pygments_lexer": "ipython3",
   "version": "3.6.7"
  }
 },
 "nbformat": 4,
 "nbformat_minor": 2
}
