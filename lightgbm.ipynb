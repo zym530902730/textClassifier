{
 "cells": [
  {
   "cell_type": "code",
   "execution_count": 9,
   "metadata": {},
   "outputs": [],
   "source": [
    "import lightgbm as lgb\n",
    "import pandas as pd\n",
    "import numpy as np\n",
    "from sklearn.metrics import mean_squared_error\n",
    "from sklearn.model_selection import GridSearchCV\n",
    "from sklearn.metrics import classification_report\n",
    "from sklearn.metrics import roc_curve,auc,accuracy_score,matthews_corrcoef,roc_auc_score\n",
    "import matplotlib.pyplot as plt \n",
    "import os,sys,re,math"
   ]
  },
  {
   "cell_type": "code",
   "execution_count": null,
   "metadata": {},
   "outputs": [],
   "source": [
    "estimator = lgb.LGBMRegressor(objective='regression',colsample_bytree=0.8,subsample=0.9,subsample_freq=5)\n",
    "\n",
    "param_grid={\n",
    "    'learning_rate':[0.01,0.02,0.05,0.1],\n",
    "    'n_estimators' :[1000,2000,3000,4000,5000],\n",
    "    'num_leaves':[128,1024,4096]\n",
    "}\n",
    "\n",
    "fit_param={'categorical_feature':[0,1,2,3,4,5]}\n",
    "gbm = GridSearchCV(estimator,param_grid,fit_params=fit_param,n_jobs=5,refit=True)\n",
    "gbm.fit(X_lgb,y_lgb)\n",
    "\n",
    "print('.....................................cv results.......................')\n",
    "print(gbm.cv_results_)"
   ]
  },
  {
   "cell_type": "code",
   "execution_count": 12,
   "metadata": {},
   "outputs": [],
   "source": [
    "path_train = 'C:/Users/Crow/Desktop/human_data/Step_11_CV/Train_29_EGAAC_cv.txt'\n",
    "path_test = 'C:/Users/Crow/Desktop/human_data/Step_11_IND/Test_29_EGAAC_gap4.txt'\n"
   ]
  },
  {
   "cell_type": "code",
   "execution_count": 15,
   "metadata": {},
   "outputs": [],
   "source": [
    "path_train = 'C:/Users/Crow/Desktop/human_data_12.12/Step_11_CV/EGAAC/Train_29_EGAAC_gap4.txt'\n",
    "path_test =  'C:/Users/Crow/Desktop/human_data_12.12/Step_11_IND/EGAAC/Test_29_EGAAC_gap4.txt'"
   ]
  },
  {
   "cell_type": "code",
   "execution_count": 2,
   "metadata": {},
   "outputs": [],
   "source": [
    "def read_svm(file):\n",
    "    encodings = []\n",
    "    labels = []\n",
    "    with open(file) as f:\n",
    "        records = f.readlines()\n",
    "\n",
    "    for line in records:\n",
    "        line = re.sub('\\d+:', '', line)\n",
    "        array = line.strip().split() if line.strip() != '' else None\n",
    "        encodings.append(array[1:])\n",
    "        labels.append(int(array[0]))\n",
    "\n",
    "    return np.array(encodings).astype(float), np.array(labels).astype(int)"
   ]
  },
  {
   "cell_type": "code",
   "execution_count": 3,
   "metadata": {},
   "outputs": [],
   "source": [
    "\n",
    "def draw_ROC_curve(y_test,y_predict,savepath):\n",
    "    '''\n",
    "    画ROC曲线\n",
    "    '''\n",
    "    false_positive_rate,true_positive_rate,thresholds=roc_curve(y_test, y_predict)\n",
    "    roc_auc=auc(false_positive_rate, true_positive_rate)\n",
    "    plt.title('ROC')\n",
    "    plt.plot(false_positive_rate, true_positive_rate,'b',label='AUC = %0.2f'% roc_auc)\n",
    "    plt.legend(loc='lower right')\n",
    "    plt.plot([0,1],[0,1],'r--')\n",
    "    plt.ylabel('TPR')\n",
    "    plt.xlabel('FPR')\n",
    "    plt.savefig(savepath)\n",
    "    plt.close(0)"
   ]
  },
  {
   "cell_type": "code",
   "execution_count": 4,
   "metadata": {},
   "outputs": [],
   "source": [
    "def performance(labelArr, predictArr):\n",
    "    #labelArr[i] is actual value,predictArr[i] is predict value\n",
    "    TP = 0.; TN = 0.; FP = 0.; FN = 0.\n",
    "    for i in range(len(labelArr)):\n",
    "        if labelArr[i] == 1 and predictArr[i] == 1:\n",
    "            TP += 1.\n",
    "        if labelArr[i] == 1 and predictArr[i] == 0:\n",
    "            FN += 1.\n",
    "        if labelArr[i] == 0 and predictArr[i] == 1:\n",
    "            FP += 1.\n",
    "        if labelArr[i] == 0 and predictArr[i] == 0:\n",
    "            TN += 1.\n",
    "    if (TP + FN)==0:\n",
    "        SN=0\n",
    "    else:\n",
    "        SN = TP/(TP + FN) #Sensitivity = TP/P  and P = TP + FN\n",
    "    if (FP+TN)==0:\n",
    "        SP=0\n",
    "    else:\n",
    "        SP = TN/(FP + TN) #Specificity = TN/N  and N = TN + FP\n",
    "    if (TP+FP)==0:\n",
    "        precision=0\n",
    "    else:\n",
    "        precision=TP/(TP+FP)\n",
    "    if (TP+FN)==0:\n",
    "        recall=0\n",
    "    else:\n",
    "        recall=TP/(TP+FN)\n",
    "    GM=math.sqrt(recall*SP)\n",
    "    #MCC = (TP*TN-FP*FN)/math.sqrt((TP+FP)*(TP+FN)*(TN+FP)*(TN+FN))\n",
    "    return precision,recall,SN,SP,GM,TP,TN,FP,FN"
   ]
  },
  {
   "cell_type": "code",
   "execution_count": 5,
   "metadata": {},
   "outputs": [],
   "source": [
    "def write_score(path,pre,label):\n",
    "    fw = open(path, 'w')\n",
    "\n",
    "    for i in range(0,len(pre)):\n",
    "        fw.write(str(pre[i]).replace('[','').replace(']',''))\n",
    "        fw.write('\\t')\n",
    "        fw.write(str(label[i]))\n",
    "        fw.write('\\n')\n",
    "\n",
    "    fw.close()"
   ]
  },
  {
   "cell_type": "code",
   "execution_count": 16,
   "metadata": {},
   "outputs": [],
   "source": [
    "train = read_svm(path_train)\n",
    "test = read_svm(path_test)\n",
    "\n",
    "x_train = train[0]\n",
    "y_train = train[1]\n",
    "\n",
    "x_test = test[0]\n",
    "y_test = test[1]"
   ]
  },
  {
   "cell_type": "code",
   "execution_count": null,
   "metadata": {},
   "outputs": [],
   "source": [
    "print(\"starting first testing......\")  \n",
    "clf = lgb.LGBMClassifier(  \n",
    "        boosting_type='gbdt', num_leaves=50, reg_alpha=0.0, reg_lambda=1,  \n",
    "        max_depth=-1, n_estimators=1500, objective='binary',   \n",
    "        learning_rate=0.05, min_child_weight=50, random_state=2018, n_jobs=-1\n",
    "    )  \n",
    "clf.fit(x_train, y_train, eval_set=[(x_train, y_train)], eval_metric='auc',early_stopping_rounds=1000) \n",
    "\n",
    "testdata = lgb.Dataset(x_test, y_test, silent=True)\n",
    "\n",
    "preds = clf.predict(x_test[:,0:120], num_iteration=clf.best_iteration_)  # 输出的是概率结果\n",
    "y_pred = gbm.predict(x_test, num_iteration=gbm.best_iteration)\n",
    "# eval\n",
    "print(y_pred)\n",
    "print('The roc of prediction is:', roc_auc_score(y_test, y_pred) )\n"
   ]
  },
  {
   "cell_type": "code",
   "execution_count": null,
   "metadata": {},
   "outputs": [],
   "source": [
    "\n"
   ]
  },
  {
   "cell_type": "code",
   "execution_count": null,
   "metadata": {},
   "outputs": [],
   "source": [
    "# Step1. 学习率和估计器及其数目\n",
    "\n",
    "\n",
    "# 设置初始参数\n",
    "params = { \n",
    "    'boosting_type': 'gbdt', \n",
    "    'objective': 'binary', \n",
    "    'learning_rate': 0.01, \n",
    "    'num_leaves': 50, \n",
    "    'max_depth': 6,    \n",
    "    'subsample': 0.8, \n",
    "    'colsample_bytree': 0.8, \n",
    "}\n",
    "\n",
    "# params = {\n",
    "#     'boosting_type': 'gbdt',\n",
    "#     'objective': 'binary',\n",
    "#     'metric': {'binary_logloss', 'auc'},\n",
    "#     'num_leaves': 5,\n",
    "#     'max_depth': 6,\n",
    "#     'min_data_in_leaf': 450,\n",
    "#     'learning_rate': 0.1,\n",
    "#     'feature_fraction': 0.9,\n",
    "#     'bagging_fraction': 0.95,\n",
    "#     'bagging_freq': 5,\n",
    "#     'lambda_l1': 1,  \n",
    "#     'lambda_l2': 0.001,  # 越小l2正则程度越高\n",
    "#     'min_gain_to_split': 0.2,\n",
    "#     'verbose': 5,\n",
    "#     'is_unbalance': True\n",
    "# }\n",
    "\n",
    "\n",
    "data_train = lgb.Dataset(x_train, y_train, silent=True)\n",
    "cv_results = lgb.cv(\n",
    "    params, data_train, num_boost_round=3000, nfold=5, stratified=False, shuffle=True,metrics='auc',\n",
    "    early_stopping_rounds=50, verbose_eval=50, show_stdv=True, seed=0)\n",
    "\n",
    "print('best n_estimators:', len(cv_results['auc-mean']))\n",
    "print('best cv score:', cv_results['auc-mean'][-1])\n",
    "\n"
   ]
  },
  {
   "cell_type": "code",
   "execution_count": null,
   "metadata": {},
   "outputs": [],
   "source": [
    "# Step2. max_depth 和 num_leaves\n",
    "\n",
    "\n",
    "from sklearn.model_selection import GridSearchCV### 我们可以创建lgb的sklearn模型，使用上面选择的(学习率，评估器数目)\n",
    "model_lgb = lgb.LGBMRegressor(objective='binary',num_leaves=50,\n",
    "                              learning_rate=0.1, n_estimators=1254, max_depth=6,\n",
    "                              metric='auc', bagging_fraction = 0.8,feature_fraction = 0.8)\n",
    "\n",
    "params_test1={\n",
    "    'max_depth': range(5,8,1),    \n",
    "    'num_leaves':range(30,170, 30)\n",
    "}\n",
    "gsearch1 = GridSearchCV(estimator=model_lgb, param_grid=params_test1, scoring='roc_auc', cv=5, verbose=1, n_jobs=-1)\n",
    "\n",
    "gsearch1.fit(x_train, y_train)\n",
    "gsearch1.grid_scores_, gsearch1.best_params_, gsearch1.best_score_\n",
    "\n"
   ]
  },
  {
   "cell_type": "code",
   "execution_count": null,
   "metadata": {},
   "outputs": [],
   "source": [
    "param_test = {\n",
    "        'max_depth': range(5,15,2),\n",
    "        'num_leaves': range(10,40,5),\n",
    "}\n",
    "gsearch = GridSearchCV(estimator=model_lgb , param_grid = param_test, scoring='roc_auc', cv=5 )\n",
    "gsearch.fit(x_train, y_train)\n",
    "gsearch.grid_scores_, gsearch.best_params_, gsearch.best_score_\n",
    "print_best_score(gsearch,param_test)\n",
    "\n"
   ]
  },
  {
   "cell_type": "code",
   "execution_count": null,
   "metadata": {},
   "outputs": [],
   "source": [
    "model_lgb = lgb.LGBMRegressor(objective='binary',num_leaves=50,\n",
    "                              learning_rate=0.1, n_estimators=1254, max_depth=6,\n",
    "                              metric='rmse', bagging_fraction = 0.8,feature_fraction = 0.8)\n",
    "model_lgb.fit(x_train,y_train)"
   ]
  },
  {
   "cell_type": "code",
   "execution_count": null,
   "metadata": {},
   "outputs": [],
   "source": [
    "model_lgb.score"
   ]
  },
  {
   "cell_type": "code",
   "execution_count": null,
   "metadata": {},
   "outputs": [],
   "source": [
    "params_test2={ \n",
    "    'max_depth': [6,7,8],    \n",
    "    'num_leaves':[10,20,30,40,50,60]\n",
    "}\n",
    "\n",
    "gsearch2 = GridSearchCV(estimator=model_lgb, param_grid=params_test2, scoring='neg_mean_squared_error', cv=5, verbose=1, n_jobs=-1)\n",
    "gsearch2.fit(x_train, y_train)\n",
    "gsearch2.grid_scores_, gsearch2.best_params_, gsearch2.best_score_\n",
    "\n"
   ]
  },
  {
   "cell_type": "code",
   "execution_count": null,
   "metadata": {},
   "outputs": [],
   "source": [
    "\n",
    "# params = {\n",
    "#     'task': 'train',\n",
    "#     'boosting_type': 'gbdt',  # GBDT算法为基础\n",
    "#     'objective': 'binary',  # 因为要完成预测用户是否买单行为，所以是binary，不买是0，购买是1\n",
    "#     'metric': 'auc',  # 评判指标\n",
    "#     'max_bin': 255,  # 大会有更准的效果,更慢的速度\n",
    "#     'learning_rate': 0.1,  # 学习率\n",
    "#     'num_leaves': 64,  # 大会更准,但可能过拟合\n",
    "#     'max_depth': -1,  # 小数据集下限制最大深度可防止过拟合,小于0表示无限制\n",
    "#     'feature_fraction': 0.8,  # 防止过拟合\n",
    "#     'bagging_freq': 5,  # 防止过拟合\n",
    "#     'bagging_fraction': 0.8,  # 防止过拟合\n",
    "#     'min_data_in_leaf': 21,  # 防止过拟合\n",
    "#     'min_sum_hessian_in_leaf': 3.0,  # 防止过拟合\n",
    "# }\n",
    "\n",
    "params = { \n",
    "    'boosting_type': 'gbdt', \n",
    "    'objective': 'binary', \n",
    "    'metric': {'auc'},\n",
    "    'learning_rate': 0.01, \n",
    "    'num_leaves': 50, \n",
    "    'max_depth': 6,    \n",
    "    'subsample': 0.8, \n",
    "    'colsample_bytree': 0.8, \n",
    "    'max_bin': 255\n",
    "}\n",
    "\n",
    "lgb_train = lgb.Dataset(x_train, y_train)\n",
    "lgb_eval = lgb.Dataset(x_test, y_test, reference=lgb_train)"
   ]
  },
  {
   "cell_type": "code",
   "execution_count": null,
   "metadata": {},
   "outputs": [],
   "source": [
    "\n",
    "print('Start training...')\n",
    "# train\n",
    "model_lgb = lgb.LGBMRegressor(objective='binary',num_leaves=50,\n",
    "                              learning_rate=0.1, n_estimators=1254, max_depth=6,\n",
    "                              metric='rmse', bagging_fraction = 0.8,feature_fraction = 0.8)\n",
    "model_lgb.fit(x_train,y_train)\n",
    "# gbm = lgb.train(params,\n",
    "#     lgb_train,\n",
    "#     num_boost_round=20,\n",
    "#     valid_sets=lgb_eval,\n",
    "#     early_stopping_rounds=5)\n",
    "print('Save model...')\n",
    "# save model to file\n",
    "model_lgb.save_model('C:/Users/Crow/Desktop/human_data/model.txt')\n",
    "print('Start predicting...')\n",
    "# predict\n",
    "y_pred = model_lgb.predict(x_test, num_iteration=model_lgb.best_iteration)\n",
    "# eval\n",
    "print(y_pred)\n",
    "print('The roc of prediction is:', roc_auc_score(y_test, y_pred) )\n",
    "\n"
   ]
  },
  {
   "cell_type": "code",
   "execution_count": null,
   "metadata": {
    "scrolled": true
   },
   "outputs": [],
   "source": [
    "lgb_train = lgb.Dataset(x_train, y_train, free_raw_data=False)\n",
    "lgb_eval = lgb.Dataset(x_test, y_test, reference=lgb_train,free_raw_data=False)\n",
    "\n",
    "### 交叉验证(调参)\n",
    "print('交叉验证')\n",
    "min_merror = float('Inf')\n",
    "best_params = {}\n",
    "# 准确率\n",
    "print(\"调参1：提高准确率\")\n",
    "for num_leaves in range(20,200,5):\n",
    "    for max_depth in range(3,8,1):\n",
    "        params['num_leaves'] = num_leaves\n",
    "        params['max_depth'] = max_depth\n",
    "        cv_results = lgb.cv(\n",
    "                            params,\n",
    "                            lgb_train,\n",
    "                            #seed=2018,\n",
    "                            nfold=5,\n",
    "                            metrics=['binary_error'],\n",
    "                            early_stopping_rounds=10,\n",
    "                            verbose_eval=True\n",
    "                         )\n",
    "        mean_merror = pd.Series(cv_results['binary_error-mean']).min()\n",
    "        boost_rounds = pd.Series(cv_results['binary_error-mean']).argmin()\n",
    "        if mean_merror < min_merror:\n",
    "            min_merror = mean_merror\n",
    "            best_params['num_leaves'] = num_leaves\n",
    "            best_params['max_depth'] = max_depth\n",
    "params['num_leaves'] = best_params['num_leaves']\n",
    "params['max_depth'] = best_params['max_depth']\n",
    " "
   ]
  },
  {
   "cell_type": "code",
   "execution_count": null,
   "metadata": {},
   "outputs": [],
   "source": [
    "print(params)"
   ]
  },
  {
   "cell_type": "code",
   "execution_count": null,
   "metadata": {},
   "outputs": [],
   "source": [
    "# 过拟合\n",
    "print(\"调参2：降低过拟合\")\n",
    "for max_bin in range(1,255,5):\n",
    "    for min_data_in_leaf in range(10,200,5):\n",
    "            params['max_bin'] = max_bin\n",
    "            params['min_data_in_leaf'] = min_data_in_leaf\n",
    " \n",
    "            cv_results = lgb.cv(\n",
    "                                params,\n",
    "                                lgb_train,\n",
    "                                seed=42,\n",
    "                                nfold=5,\n",
    "                                metrics=['binary_error'],\n",
    "                                early_stopping_rounds=3,\n",
    "                                verbose_eval=True\n",
    "                                )\n",
    "\n",
    "            mean_merror = pd.Series(cv_results['binary_error-mean']).min()\n",
    "            boost_rounds = pd.Series(cv_results['binary_error-mean']).argmin()\n",
    "\n",
    "            if mean_merror < min_merror:\n",
    "                min_merror = mean_merror\n",
    "                best_params['max_bin']= max_bin\n",
    "                best_params['min_data_in_leaf'] = min_data_in_leaf\n",
    "\n",
    "params['min_data_in_leaf'] = best_params['min_data_in_leaf']\n",
    "params['max_bin'] = best_params['max_bin']\n",
    "print(best_params['min_data_in_leaf'],best_params['max_bin']) "
   ]
  },
  {
   "cell_type": "code",
   "execution_count": null,
   "metadata": {},
   "outputs": [],
   "source": [
    "# create dataset for lightgbm  \n",
    "lgb_train = lgb.Dataset(x_train, y_train)  \n",
    "lgb_eval = lgb.Dataset(x_test, y_test)  \n",
    "# specify your configurations as a dict  \n",
    "params = {  \n",
    "    'boosting_type': 'gbdt',  \n",
    "    'objective': 'binary',  \n",
    "    'metric': {'binary_logloss', 'auc'},  #二进制对数损失\n",
    "    'num_leaves': 30,  \n",
    "    'max_depth':5,  \n",
    "    #'min_data_in_leaf': 30,  \n",
    "    'learning_rate': 0.05,  \n",
    "    'feature_fraction': 0.9,  \n",
    "    'bagging_fraction': 0.8,  \n",
    "    'bagging_freq': 5,  \n",
    "    'verbose': 0\n",
    "}  \n",
    "\n",
    "# train  \n",
    "print('Start training...')  \n",
    "gbm = lgb.train(params,  \n",
    "                lgb_train,  \n",
    "                num_boost_round=2000,  \n",
    "                valid_sets=lgb_eval,  \n",
    "                early_stopping_rounds=100\n",
    "            )  \n",
    "\n",
    "print('Start predicting...')  \n",
    "\n",
    "preds = gbm.predict(x_test, num_iteration=gbm.best_iteration)  # 输出的是概率结果  \n",
    "\n",
    "# 导出结果  \n",
    "threshold = 0.5  \n",
    "for pred in preds:  \n",
    "    result = 1 if pred > threshold else 0  \n",
    "\n"
   ]
  },
  {
   "cell_type": "code",
   "execution_count": null,
   "metadata": {},
   "outputs": [],
   "source": [
    "params['learning_rate']=0.01\n",
    "lgb.train(\n",
    "          params,                     # 参数字典\n",
    "          lgb_train,                  # 训练集\n",
    "          valid_sets=lgb_eval,        # 验证集\n",
    "          num_boost_round=2000,       # 迭代次数\n",
    "          early_stopping_rounds=50    # 早停次数\n",
    "          )\n",
    "\n"
   ]
  },
  {
   "cell_type": "code",
   "execution_count": null,
   "metadata": {},
   "outputs": [],
   "source": [
    "### 线下预测\n",
    "print (\"线下预测\")\n",
    "preds_offline = lgb.predict(testdata, num_iteration=lgb.best_iteration) # 输出概率\n",
    "offline=offline_test[['instance_id','is_trade']]\n",
    "offline['preds']=preds_offline\n",
    "offline.is_trade = offline['is_trade'].astype(np.float64)\n",
    "print('log_loss', metrics.log_loss(offline.is_trade, offline.preds))\n"
   ]
  },
  {
   "cell_type": "code",
   "execution_count": null,
   "metadata": {},
   "outputs": [],
   "source": [
    "print('Start training...')\n",
    "# 创建模型，训练模型\n",
    "gbm = lgb.LGBMRegressor(objective='regression',num_leaves=31,learning_rate=0.05,n_estimators=200,bagging_fraction=1.0)\n",
    "gbm.fit(x_train, y_train,eval_set=[(x_test, y_test)],eval_metric='l1',early_stopping_rounds=20)\n",
    "\n",
    "print('Start predicting...')\n",
    "# 测试机预测\n",
    "y_pred = gbm.predict(x_test, num_iteration=gbm.best_iteration_)\n",
    "# 模型评估\n",
    "print('The rmse of prediction is:', mean_squared_error(y_test, y_pred) ** 0.5)\n",
    "\n",
    "# feature importances\n",
    "print('Feature importances:', list(gbm.feature_importances_))\n",
    "\n",
    "# 网格搜索，参数优化\n",
    "estimator = lgb.LGBMRegressor(num_leaves=31)\n",
    "\n",
    "param_grid = {\n",
    "    'learning_rate': [0.01, 0.1, 1],\n",
    "    'n_estimators': [100, 400]\n",
    "}\n",
    "\n",
    "gbm = GridSearchCV(estimator, param_grid)\n",
    "\n",
    "gbm.fit(x_train, y_train)\n",
    "\n",
    "print('Best parameters found by grid search are:', gbm.best_params_)\n"
   ]
  },
  {
   "cell_type": "code",
   "execution_count": null,
   "metadata": {},
   "outputs": [],
   "source": [
    "\n",
    "from sklearn.model_selection import train_test_split\n",
    "\n",
    "train_X, valid_X, train_Y, valid_Y = train_test_split(\n",
    "        x_train, y_train, test_size=0.2, random_state=2)  # 将训练集分为训练集+验证集\n",
    "lgb_train = lgb.Dataset(train_X, label=train_Y)\n",
    "lgb_eval = lgb.Dataset(valid_X, label=valid_Y, reference=lgb_train)\n",
    "print(\"Training...\")\n",
    "bst = lgb.train(\n",
    "        params,\n",
    "        lgb_train,\n",
    "        valid_sets=[lgb_eval],\n",
    "        num_boost_round=500,\n",
    "        early_stopping_rounds=200\n",
    ")\n",
    "print(\"Saving Model...\")\n",
    "bst.save_model('./model.txt')  # 保存模型\n",
    "print(\"Predicting...\")\n",
    "predict_result = bst.predict(x_test)  # 预测的结果在0-1之间，值越大代表预测用户购买的可能性越大\n",
    "\n"
   ]
  },
  {
   "cell_type": "code",
   "execution_count": null,
   "metadata": {},
   "outputs": [],
   "source": [
    "print('The roc of prediction is:', roc_auc_score(y_test, predict_result) )\n"
   ]
  },
  {
   "cell_type": "code",
   "execution_count": null,
   "metadata": {},
   "outputs": [],
   "source": []
  },
  {
   "cell_type": "code",
   "execution_count": 34,
   "metadata": {},
   "outputs": [
    {
     "name": "stdout",
     "output_type": "stream",
     "text": [
      "The roc of prediction is: 0.7890026879567921\n"
     ]
    }
   ],
   "source": [
    "# 最优参数结果\n",
    "\n",
    "gbm = lgb.LGBMClassifier(boosting_type='gbdt',\n",
    "                         objective = 'binary',\n",
    "                         metric = 'auc',\n",
    "                         max_depth = 10,\n",
    "                         num_leaves =  270,\n",
    "                         feature_fraction=0.7,\n",
    "                         bagging_fraction= 0.65,\n",
    "                         bagging_freq= 2,\n",
    "                         learning_rate = 0.011,\n",
    "                         \n",
    "                         cat_smooth = 0,\n",
    "                         min_data_in_leaf=52,\n",
    "                         n_estimators=1000,\n",
    "                         \n",
    "                         lambda_l1= 0.2,\n",
    "                         lambda_l2= 0,\n",
    "                         min_split_gain = 0,\n",
    "                         is_unbalance=True,\n",
    "                         verbose = 1\n",
    "                         \n",
    ")\n",
    "\n",
    "gbm.fit(x_train, y_train)\n",
    "pred = gbm.predict_proba(x_test)\n",
    "print('The roc of prediction is:', roc_auc_score(y_test, pred[:,1]))\n",
    "\n"
   ]
  },
  {
   "cell_type": "code",
   "execution_count": 35,
   "metadata": {},
   "outputs": [
    {
     "name": "stdout",
     "output_type": "stream",
     "text": [
      "ACC:  0.904300 \n",
      "Sn: 0.996411\n",
      "Sp: 0.895121\n",
      "MCC: 0.658186 \n",
      "AUC: 0.993034\n"
     ]
    },
    {
     "data": {
      "image/png": "[encoded data removed]",
      "text/plain": [
       "<Figure size 432x288 with 1 Axes>"
      ]
     },
     "metadata": {
      "needs_background": "light"
     },
     "output_type": "display_data"
    }
   ],
   "source": [
    "p_label = gbm.predict(x_train)\n",
    "pred = gbm.predict_proba(x_train)\n",
    "fpr, tpr, thresholds = roc_curve(y_train,pred[:,1],pos_label=1)\n",
    "\n",
    "precision,recall,SN,SP,GM,TP,TN,FP,FN = performance(y_train,p_label)\n",
    "\n",
    "print(\"ACC:  %f \"  %accuracy_score(y_train,p_label))\n",
    "print(\"Sn: %f\" %SN)\n",
    "print(\"Sp: %f\" %SP)\n",
    "print(\"MCC: %f \" %matthews_corrcoef(y_train,p_label))\n",
    "print(\"AUC: %f\" % auc(fpr, tpr))\n",
    "\n",
    "draw_ROC_curve(y_train,pred[:,1],'human')\n",
    "write_score('C:/Users/Crow/Desktop/human_data_12.12/Train_LightGBM_result.txt',p_label,y_train)"
   ]
  },
  {
   "cell_type": "code",
   "execution_count": 36,
   "metadata": {},
   "outputs": [
    {
     "name": "stdout",
     "output_type": "stream",
     "text": [
      "ACC:  0.818409 \n",
      "Sn: 0.491571\n",
      "Sp: 0.847791\n",
      "MCC: 0.242893 \n",
      "AUC: 0.789003\n"
     ]
    },
    {
     "data": {
      "image/png": "[encoded data removed]",
      "text/plain": [
       "<Figure size 432x288 with 1 Axes>"
      ]
     },
     "metadata": {
      "needs_background": "light"
     },
     "output_type": "display_data"
    }
   ],
   "source": [
    "p_label = gbm.predict(x_test)\n",
    "pred = gbm.predict_proba(x_test)\n",
    "fpr, tpr, thresholds = roc_curve(y_test,pred[:,1],pos_label=1)\n",
    "\n",
    "precision,recall,SN,SP,GM,TP,TN,FP,FN = performance(y_test,p_label)\n",
    "\n",
    "print(\"ACC:  %f \"  %accuracy_score(y_test,p_label))\n",
    "print(\"Sn: %f\" %SN)\n",
    "print(\"Sp: %f\" %SP)\n",
    "print(\"MCC: %f \" %matthews_corrcoef(y_test,p_label))\n",
    "print(\"AUC: %f\" % auc(fpr, tpr))\n",
    "\n",
    "draw_ROC_curve(y_test,pred[:,1],'human')\n",
    "write_score('C:/Users/Crow/Desktop/human_data_12.12/Test_LightGBM_result.txt',p_label,y_test)"
   ]
  }
 ],
 "metadata": {
  "kernelspec": {
   "display_name": "Python 3",
   "language": "python",
   "name": "python3"
  },
  "language_info": {
   "codemirror_mode": {
    "name": "ipython",
    "version": 3
   },
   "file_extension": ".py",
   "mimetype": "text/x-python",
   "name": "python",
   "nbconvert_exporter": "python",
   "pygments_lexer": "ipython3",
   "version": "3.6.7"
  }
 },
 "nbformat": 4,
 "nbformat_minor": 2
}
