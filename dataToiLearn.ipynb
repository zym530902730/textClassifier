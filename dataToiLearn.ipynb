{
 "cells": [
  {
   "cell_type": "code",
   "execution_count": 2,
   "metadata": {},
   "outputs": [],
   "source": [
    "import pandas as pd\n",
    "import numpy as np\n",
    "import os,sys,re\n",
    "\n",
    "#显示所有列\n",
    "pd.set_option('display.max_columns', None)\n",
    "#显示所有行\n",
    "pd.set_option('display.max_rows', None)\n",
    "#设置value的显示长度为100，默认为50\n",
    "pd.set_option('max_colwidth',200)"
   ]
  },
  {
   "cell_type": "code",
   "execution_count": 5,
   "metadata": {
    "collapsed": true
   },
   "outputs": [],
   "source": [
    "train_path = 'C:/Users/Crow/Desktop/human_data/Step_11_CV/Train_1_8.txt'\n",
    "\n",
    "test_path = 'C:/Users/Crow/Desktop/human_data/Step_11_IND/Test_1_8.txt'"
   ]
  },
  {
   "cell_type": "code",
   "execution_count": 9,
   "metadata": {
    "collapsed": true
   },
   "outputs": [],
   "source": [
    "q = pd.read_table(test_path,names=['seq','protein','site','label'])"
   ]
  },
  {
   "cell_type": "code",
   "execution_count": 6,
   "metadata": {},
   "outputs": [
    {
     "name": "stdout",
     "output_type": "stream",
     "text": [
      "                                                   seq protein  site  label\n",
      "0  EDELVPVFEAVGRIYELRLMMDFDGKNRGYAFVMYCHKHEAKRAVRELNNY  A0AV96   109      1\n",
      "1  HAMNNLNGTELEGSCLEVTLAKPVDKEQYSRYQKAARGGGAAEAAQQPSYV  A0AV96   321      1\n",
      "2  APGPRGSYLGGYSAGRGIYSRYHEGKGKQQEKGYELVPNLEIPTVNPVAIK  A0AV96   415      1\n",
      "3  EEVNKVKQEKTVLNSEVLEQRKVLEKCNRVSMLAVEEYEEMQVNLELEKDL  A0MZ66   202      1\n",
      "4  TLHKEIHNLKQQLELLEEDKKELELKYQNSEEKARNLKHSVDELQKRVNQS  A0MZ66   323      1\n",
      "5  KLVEGLQGQTWAPDWVEELREADRQKEQTFREKAAMPVAQHLNPVQVLQLV  A1L0T0   429      1\n",
      "6  TCERNDQLCLCYDLLECLPERGYGDKTEATTKLHDMVDQLEQILSVSELLE  A2RRP1  1026      1\n",
      "7  GIEELKNCIRKSLDEQANQENDALHKKQLLNLWISDTMSSTEPPSKHAVTT  A4D1E9   356      1\n",
      "8  FQRIYNHPPHPTMSVDEVLEMLQRFKDSTIKREREVFNCMLRNLFEEYRFF  A5YKK6   877      1\n",
      "9  FFVGQSARMISKPADSQDVHELVLSKEDFEKKEKNKEAIYSGYIRNRKPSD  A6NHR9   269      1\n"
     ]
    }
   ],
   "source": [
    "train_data = pd.read_table(train_path,names=['seq','protein','site','label'])\n",
    "print(train_data[0:10])\n",
    "train_data_n = train_data[train_data['label']==0].copy()\n"
   ]
  },
  {
   "cell_type": "code",
   "execution_count": 7,
   "metadata": {
    "collapsed": true
   },
   "outputs": [],
   "source": [
    "\n",
    "train_data_n['is_use2'] = np.random.uniform(0, 1, len(train_data_n)) <= .80\n",
    "\n",
    "negative_data_train = train_data_n[train_data_n['is_use2']==True]\n",
    "\n",
    "negative_data_train = negative_data_train.drop('is_use2', axis=1)"
   ]
  },
  {
   "cell_type": "code",
   "execution_count": 11,
   "metadata": {
    "collapsed": true
   },
   "outputs": [],
   "source": [
    "train_data_p= train_data[train_data['label']==1].copy()\n",
    "train_data_p['is_use3'] = np.random.uniform(0, 1, len(train_data_p)) <= .80\n",
    "\n",
    "positive_data_train = train_data_p[train_data_p['is_use3']==True]\n",
    "positive_data_train = positive_data_train.drop('is_use3', axis=1)"
   ]
  },
  {
   "cell_type": "code",
   "execution_count": 12,
   "metadata": {
    "collapsed": true
   },
   "outputs": [],
   "source": [
    "train_data_new = positive_data_train.append(negative_data_train)"
   ]
  },
  {
   "cell_type": "code",
   "execution_count": 8,
   "metadata": {
    "collapsed": true
   },
   "outputs": [],
   "source": [
    "train_data_new = train_data[train_data['label']==1].append(negative_data_train)\n"
   ]
  },
  {
   "cell_type": "code",
   "execution_count": 13,
   "metadata": {
    "collapsed": true
   },
   "outputs": [],
   "source": [
    "train_data_new.index = range(len(train_data_new))\n",
    "\n",
    "train_data_new.to_csv('C:/Users/Crow/Desktop/human_data/Step_11_CV/Train_1_8_cv.txt',sep='\\t',header=False)"
   ]
  },
  {
   "cell_type": "code",
   "execution_count": 45,
   "metadata": {
    "collapsed": true
   },
   "outputs": [],
   "source": [
    "for i in range(0,len(train_data_37)):\n",
    "    seq = train_data_37['seq'][i]\n",
    "    train_data_37.loc[i,'seq'] = seq[7:44]"
   ]
  },
  {
   "cell_type": "code",
   "execution_count": 4,
   "metadata": {},
   "outputs": [],
   "source": [
    "def split_data(path1,path2,gap):\n",
    "    train_data = pd.read_table(path1,names=['seq','protein','site','label'])\n",
    "    for i in range(0,len(train_data)):\n",
    "        seq = train_data.loc[i,'seq']\n",
    "        train_data.loc[i,'seq'] = seq[gap:(len(seq)-gap)]\n",
    "    train_data.to_csv(path2,sep='\\t',header=False)\n",
    "    "
   ]
  },
  {
   "cell_type": "code",
   "execution_count": 5,
   "metadata": {},
   "outputs": [],
   "source": [
    "def data_fasta(path1,path2,label):\n",
    "    data = pd.read_table(path1,names=['seq','protein','site','label'])\n",
    "    fw = open(path2,'w')\n",
    "    for i in range(0,len(data)):\n",
    "        fw.write('>' +data.loc[i,'protein'] + '_'+ str(data.loc[i,'site']) + '|' + str(data.loc[i,'label'])  +'|'+ label)\n",
    "        fw.write('\\n')\n",
    "        fw.write(data.loc[i,'seq'])\n",
    "        fw.write('\\n')\n",
    "    fw.close()\n",
    "    "
   ]
  },
  {
   "cell_type": "code",
   "execution_count": 19,
   "metadata": {
    "collapsed": true
   },
   "outputs": [],
   "source": [
    "# train data to Ilearn\n",
    "'C:/Users/Crow/Desktop/human_data/Step_11_CV/Train_1_8_cv.txt'"
   ]
  },
  {
   "cell_type": "code",
   "execution_count": 14,
   "metadata": {
    "collapsed": true
   },
   "outputs": [],
   "source": [
    "split_data('C:/Users/Crow/Desktop/human_data/Step_11_CV/Train_1_8_cv.txt','C:/Users/Crow/Desktop/human_data/Step_11_CV/Train_29_cv.txt',gap=11)\n",
    "data_fasta('C:/Users/Crow/Desktop/human_data/Step_11_CV/Train_29_cv.txt','C:/Users/Crow/Desktop/human_data/Step_11_CV/Train_29_cv.fasta','training')"
   ]
  },
  {
   "cell_type": "code",
   "execution_count": null,
   "metadata": {
    "collapsed": true
   },
   "outputs": [],
   "source": [
    "split_data(train_path,'C:/Users/Crow/Desktop/human_data/Step_11_CV/Train_31.txt',gap=10)\n",
    "data_fasta('C:/Users/Crow/Desktop/human_data/Step_11_CV/Train_31.txt','C:/Users/Crow/Desktop/human_data/Step_11_CV/Train_31.fasta','training')"
   ]
  },
  {
   "cell_type": "code",
   "execution_count": null,
   "metadata": {
    "collapsed": true
   },
   "outputs": [],
   "source": [
    "split_data(train_path,'C:/Users/Crow/Desktop/human_data/Step_11_CV/Train_35.txt',gap=8)\n",
    "data_fasta('C:/Users/Crow/Desktop/human_data/Step_11_CV/Train_35.txt','C:/Users/Crow/Desktop/human_data/Step_11_CV/Train_35.fasta','training')"
   ]
  },
  {
   "cell_type": "code",
   "execution_count": null,
   "metadata": {
    "collapsed": true
   },
   "outputs": [],
   "source": [
    "split_data(train_path,'C:/Users/Crow/Desktop/human_data/Step_11_CV/Train_29.txt',gap=11)\n",
    "data_fasta('C:/Users/Crow/Desktop/human_data/Step_11_CV/Train_29.txt','C:/Users/Crow/Desktop/human_data/Step_11_CV/Train_29.fasta','training')"
   ]
  },
  {
   "cell_type": "code",
   "execution_count": null,
   "metadata": {
    "collapsed": true
   },
   "outputs": [],
   "source": [
    "split_data(train_path,'C:/Users/Crow/Desktop/human_data/Step_11_CV/Train_27.txt',gap=12)\n",
    "data_fasta('C:/Users/Crow/Desktop/human_data/Step_11_CV/Train_27.txt','C:/Users/Crow/Desktop/human_data/Step_11_CV/Train_27.fasta','training')"
   ]
  },
  {
   "cell_type": "code",
   "execution_count": null,
   "metadata": {
    "collapsed": true
   },
   "outputs": [],
   "source": [
    "split_data(train_path,'C:/Users/Crow/Desktop/human_data/Step_11_CV/Train_25.txt',gap=13)\n",
    "data_fasta('C:/Users/Crow/Desktop/human_data/Step_11_CV/Train_25.txt','C:/Users/Crow/Desktop/human_data/Step_11_CV/Train_25.fasta','training')"
   ]
  },
  {
   "cell_type": "code",
   "execution_count": null,
   "metadata": {
    "collapsed": true
   },
   "outputs": [],
   "source": [
    "split_data(train_path,'C:/Users/Crow/Desktop/human_data/Step_11_CV/Train_23.txt',gap=14)\n",
    "data_fasta('C:/Users/Crow/Desktop/human_data/Step_11_CV/Train_23.txt','C:/Users/Crow/Desktop/human_data/Step_11_CV/Train_23.fasta','training')"
   ]
  },
  {
   "cell_type": "code",
   "execution_count": null,
   "metadata": {
    "collapsed": true
   },
   "outputs": [],
   "source": [
    "split_data(train_path,'C:/Users/Crow/Desktop/human_data/Step_11_CV/Train_21.txt',gap=15)\n",
    "data_fasta('C:/Users/Crow/Desktop/human_data/Step_11_CV/Train_21.txt','C:/Users/Crow/Desktop/human_data/Step_11_CV/Train_21.fasta','training')"
   ]
  },
  {
   "cell_type": "code",
   "execution_count": null,
   "metadata": {
    "collapsed": true
   },
   "outputs": [],
   "source": [
    "# test data to Ilearn"
   ]
  },
  {
   "cell_type": "code",
   "execution_count": null,
   "metadata": {
    "collapsed": true
   },
   "outputs": [],
   "source": [
    "split_data(test_path,'C:/Users/Crow/Desktop/human_data/Step_11_IND/Test_37.txt',gap=7)\n",
    "data_fasta('C:/Users/Crow/Desktop/human_data/Step_11_IND/Test_37.txt','C:/Users/Crow/Desktop/human_data/Step_11_IND/Test_37.fasta','testing')"
   ]
  },
  {
   "cell_type": "code",
   "execution_count": null,
   "metadata": {
    "collapsed": true
   },
   "outputs": [],
   "source": [
    "split_data(test_path,'C:/Users/Crow/Desktop/human_data/Step_11_IND/Test_35.txt',gap=8)\n",
    "data_fasta('C:/Users/Crow/Desktop/human_data/Step_11_IND/Test_35.txt','C:/Users/Crow/Desktop/human_data/Step_11_IND/Test_35.fasta','testing')"
   ]
  },
  {
   "cell_type": "code",
   "execution_count": null,
   "metadata": {
    "collapsed": true
   },
   "outputs": [],
   "source": [
    "split_data(test_path,'C:/Users/Crow/Desktop/human_data/Step_11_IND/Test_29.txt',gap=11)\n",
    "data_fasta('C:/Users/Crow/Desktop/human_data/Step_11_IND/Test_29.txt','C:/Users/Crow/Desktop/human_data/Step_11_IND/Test_29.fasta','testing')"
   ]
  },
  {
   "cell_type": "code",
   "execution_count": null,
   "metadata": {
    "collapsed": true
   },
   "outputs": [],
   "source": [
    "split_data(test_path,'C:/Users/Crow/Desktop/human_data/Step_11_IND/Test_27.txt',gap=12)\n",
    "data_fasta('C:/Users/Crow/Desktop/human_data/Step_11_IND/Test_27.txt','C:/Users/Crow/Desktop/human_data/Step_11_IND/Test_27.fasta','testing')"
   ]
  },
  {
   "cell_type": "code",
   "execution_count": null,
   "metadata": {
    "collapsed": true
   },
   "outputs": [],
   "source": [
    "split_data(test_path,'C:/Users/Crow/Desktop/human_data/Step_11_IND/Test_25.txt',gap=13)\n",
    "data_fasta('C:/Users/Crow/Desktop/human_data/Step_11_IND/Test_25.txt','C:/Users/Crow/Desktop/human_data/Step_11_IND/Test_25.fasta','testing')"
   ]
  },
  {
   "cell_type": "code",
   "execution_count": null,
   "metadata": {
    "collapsed": true
   },
   "outputs": [],
   "source": [
    "split_data(test_path,'C:/Users/Crow/Desktop/human_data/Step_11_IND/Test_23.txt',gap=14)\n",
    "data_fasta('C:/Users/Crow/Desktop/human_data/Step_11_IND/Test_23.txt','C:/Users/Crow/Desktop/human_data/Step_11_IND/Test_23.fasta','testing')"
   ]
  },
  {
   "cell_type": "code",
   "execution_count": 42,
   "metadata": {
    "collapsed": true
   },
   "outputs": [],
   "source": [
    "split_data(test_path,'C:/Users/Crow/Desktop/human_data/Step_11_IND/Test_21.txt',gap=15)\n",
    "data_fasta('C:/Users/Crow/Desktop/human_data/Step_11_IND/Test_21.txt','C:/Users/Crow/Desktop/human_data/Step_11_IND/Test_21.fasta','testing')"
   ]
  },
  {
   "cell_type": "code",
   "execution_count": 1,
   "metadata": {},
   "outputs": [],
   "source": [
    "# plant data\n",
    "train_path = 'C:/Users/Crow/Desktop/plant_data_12.12/Train.txt'\n",
    "test_path = 'C:/Users/Crow/Desktop/plant_data_12.12/Independent.txt'"
   ]
  },
  {
   "cell_type": "code",
   "execution_count": 8,
   "metadata": {},
   "outputs": [],
   "source": [
    "# 分割seq数据，并写入文本\n",
    "train_path = 'C:/Users/Crow/Desktop/human_data_12.12/Train.txt'\n",
    "\n",
    "test_path = 'C:/Users/Crow/Desktop/human_data_12.12/Independent.txt'\n",
    "size = [21,23,25,27,29,31,35,37]\n",
    "for i in size:\n",
    "    # train\n",
    "    gap1 = (51-i)//2\n",
    "    split_data(train_path,'C:/Users/Crow/Desktop/human_data_12.12/Step_11_CV/Train_'+str(i)+ '.txt',gap=gap1)\n",
    "    data_fasta('C:/Users/Crow/Desktop/human_data_12.12/Step_11_CV/Train_'+str(i)+'.txt','C:/Users/Crow/Desktop/human_data_12.12/Step_11_CV/Train_'+ str(i) +'.fasta','training')\n",
    "    # test\n",
    "    split_data(test_path,'C:/Users/Crow/Desktop/human_data_12.12/Step_11_IND/Test_'+str(i)+'.txt',gap=gap1)\n",
    "    data_fasta('C:/Users/Crow/Desktop/human_data_12.12/Step_11_IND/Test_'+ str(i)+'.txt','C:/Users/Crow/Desktop/human_data_12.12/Step_11_IND/Test_'+str(i)+'.fasta','testing')"
   ]
  },
  {
   "cell_type": "code",
   "execution_count": 9,
   "metadata": {},
   "outputs": [],
   "source": [
    "# 分割seq数据，并写入文本\n",
    "# plant data\n",
    "train_path = 'C:/Users/Crow/Desktop/plant_data_12.12/Train.txt'\n",
    "test_path = 'C:/Users/Crow/Desktop/plant_data_12.12/Independent.txt'\n",
    "size = [21,23,25,27,29,31,35,37]\n",
    "for i in size:\n",
    "    # train\n",
    "    gap1 = (51-i)//2\n",
    "    split_data(train_path,'C:/Users/Crow/Desktop/plant_data_12.12/Step_11_CV/Train_'+str(i)+ '.txt',gap=gap1)\n",
    "    data_fasta('C:/Users/Crow/Desktop/plant_data_12.12/Step_11_CV/Train_'+str(i)+'.txt','C:/Users/Crow/Desktop/plant_data_12.12/Step_11_CV/Train_'+ str(i) +'.fasta','training')\n",
    "    # test\n",
    "    split_data(test_path,'C:/Users/Crow/Desktop/plant_data_12.12/Step_11_IND/Test_'+str(i)+'.txt',gap=gap1)\n",
    "    data_fasta('C:/Users/Crow/Desktop/plant_data_12.12/Step_11_IND/Test_'+ str(i)+'.txt','C:/Users/Crow/Desktop/plant_data_12.12/Step_11_IND/Test_'+str(i)+'.fasta','testing')"
   ]
  }
 ],
 "metadata": {
  "kernelspec": {
   "display_name": "Python 3",
   "language": "python",
   "name": "python3"
  },
  "language_info": {
   "codemirror_mode": {
    "name": "ipython",
    "version": 3
   },
   "file_extension": ".py",
   "mimetype": "text/x-python",
   "name": "python",
   "nbconvert_exporter": "python",
   "pygments_lexer": "ipython3",
   "version": "3.6.7"
  }
 },
 "nbformat": 4,
 "nbformat_minor": 2
}
