{
 "cells": [
  {
   "cell_type": "code",
   "execution_count": 1,
   "metadata": {},
   "outputs": [],
   "source": [
    "from itertools import cycle\n",
    "from sklearn.metrics import roc_curve, auc\n",
    "import matplotlib.pyplot as plt\n",
    "\n"
   ]
  },
  {
   "cell_type": "code",
   "execution_count": 2,
   "metadata": {},
   "outputs": [],
   "source": [
    "def plot_roc(y_pred, y_true, classes=None, title=None, savefile=None):\n",
    "    \"\"\"This function plot the ROC curve and return the AUC\"\"\"\n",
    "    if len(y_pred.shape)==1:\n",
    "        y_pred = y_pred.reshape(y_pred.shape+(1,))\n",
    "        y_true = y_true.reshape(y_true.shape+(1,))\n",
    "   \n",
    "    n_classes = y_pred.shape[1]\n",
    "    fpr = dict()\n",
    "    tpr = dict()\n",
    "    roc_auc = dict()\n",
    "    \n",
    "    if classes is None:\n",
    "        legends = ['class'+str(j+1) for j in range(n_classes)]\n",
    "    elif len(classes) == n_classes:\n",
    "        legends = classes\n",
    "    else:\n",
    "        raise ValueError(\"Number of classes doesn't match labels\")    \n",
    "    \n",
    "    for i in range(n_classes):\n",
    "        fpr[i], tpr[i], _ = roc_curve(y_true[:, i], y_pred[:, i])\n",
    "        roc_auc[i] = auc(fpr[i], tpr[i])\n",
    "        \n",
    "    colors = cycle(['darkorange', 'cornflowerblue', 'navy', 'aqua'])    \n",
    "\n",
    "    for i, color in zip(range(n_classes), colors):\n",
    "        plt.plot(fpr[i], tpr[i], color=color,\n",
    "                 label='ROC curve of {0} (area = {1:0.4f})'\n",
    "                 ''.format(legends[i], roc_auc[i]))\n",
    "    plt.plot([0, 1], [0, 1], 'k--')\n",
    "    plt.xlim([0.0, 1.0])\n",
    "    plt.ylim([0.0, 1.05])\n",
    "    plt.xlabel('False Positive Rate')\n",
    "    plt.ylabel('True Positive Rate')\n",
    "    if title:\n",
    "        plt.title(title)\n",
    "    else:\n",
    "        plt.title('ROC curves for all classes')\n",
    "    plt.legend(loc=\"lower right\")\n",
    "    if savefile:\n",
    "        plt.savefig(savefile, dpi=300)\n",
    "    return roc_auc"
   ]
  },
  {
   "cell_type": "code",
   "execution_count": null,
   "metadata": {},
   "outputs": [],
   "source": []
  }
 ],
 "metadata": {
  "kernelspec": {
   "display_name": "Python 3",
   "language": "python",
   "name": "python3"
  },
  "language_info": {
   "codemirror_mode": {
    "name": "ipython",
    "version": 3
   },
   "file_extension": ".py",
   "mimetype": "text/x-python",
   "name": "python",
   "nbconvert_exporter": "python",
   "pygments_lexer": "ipython3",
   "version": "3.6.7"
  }
 },
 "nbformat": 4,
 "nbformat_minor": 2
}
