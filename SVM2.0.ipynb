{
 "cells": [
  {
   "cell_type": "code",
   "execution_count": 1,
   "metadata": {},
   "outputs": [],
   "source": [
    "import matplotlib as mpl\n",
    "import numpy as np\n",
    "import pandas as pd\n",
    "from sklearn.metrics import classification_report\n",
    "from sklearn.metrics import roc_curve,auc,accuracy_score,matthews_corrcoef\n",
    "import matplotlib.pyplot as plt \n",
    "\n",
    "\n",
    "from sklearn.model_selection import cross_val_score\n",
    "from sklearn.ensemble import RandomForestClassifier\n",
    "from sklearn.model_selection import KFold\n",
    "from sklearn.model_selection import StratifiedKFold\n",
    "from sklearn import cluster\n",
    "from sklearn.model_selection import train_test_split,GridSearchCV\n",
    "# LibSVM调用\n",
    "import sys,math\n",
    "path = 'C:/Users/Crow/Desktop/libsvm-3.23/python'\n",
    "sys.path.append(path)\n",
    "from svmutil import *\n",
    "\n",
    "\n",
    "#显示所有列\n",
    "pd.set_option('display.max_columns', None)\n",
    "#显示所有行\n",
    "pd.set_option('display.max_rows', None)\n",
    "#设置value的显示长度为100，默认为50\n",
    "pd.set_option('max_colwidth',200)"
   ]
  },
  {
   "cell_type": "code",
   "execution_count": 2,
   "metadata": {},
   "outputs": [],
   "source": [
    "path_train = 'C:/Users/Crow/Desktop/human_data/Step_11_CV/Train_29_EGAAC_cv.txt'\n",
    "path_test =  'C:/Users/Crow/Desktop/human_data/Step_11_IND/Test_29_EGAAC_gap4.txt'"
   ]
  },
  {
   "cell_type": "code",
   "execution_count": 3,
   "metadata": {},
   "outputs": [],
   "source": [
    "path_train = 'C:/Users/Crow/Desktop/human_data_12.12/Step_11_CV/AAC/Train_29_AAC.txt'\n",
    "path_test =  'C:/Users/Crow/Desktop/human_data_12.12/Step_11_IND/AAC/Test_29_AAC.txt'"
   ]
  },
  {
   "cell_type": "code",
   "execution_count": 4,
   "metadata": {},
   "outputs": [],
   "source": [
    "def draw_ROC_curve(y_test,y_predict,savepath):\n",
    "    '''\n",
    "    画ROC曲线\n",
    "    '''\n",
    "    false_positive_rate,true_positive_rate,thresholds=roc_curve(y_test, y_predict)\n",
    "    roc_auc=auc(false_positive_rate, true_positive_rate)\n",
    "    plt.title('ROC')\n",
    "    plt.plot(false_positive_rate, true_positive_rate,'b',label='AUC = %0.2f'% roc_auc)\n",
    "    plt.legend(loc='lower right')\n",
    "    plt.plot([0,1],[0,1],'r--')\n",
    "    plt.ylabel('TPR')\n",
    "    plt.xlabel('FPR')\n",
    "    plt.savefig(savepath)\n",
    "    plt.close(0)\n"
   ]
  },
  {
   "cell_type": "code",
   "execution_count": 5,
   "metadata": {},
   "outputs": [],
   "source": [
    "def performance(labelArr, predictArr):\n",
    "    #labelArr[i] is actual value,predictArr[i] is predict value\n",
    "    TP = 0.; TN = 0.; FP = 0.; FN = 0.\n",
    "    for i in range(len(labelArr)):\n",
    "        if labelArr[i] == 1 and predictArr[i] == 1:\n",
    "            TP += 1.\n",
    "        if labelArr[i] == 1 and predictArr[i] == 0:\n",
    "            FN += 1.\n",
    "        if labelArr[i] == 0 and predictArr[i] == 1:\n",
    "            FP += 1.\n",
    "        if labelArr[i] == 0 and predictArr[i] == 0:\n",
    "            TN += 1.\n",
    "    if (TP + FN)==0:\n",
    "        SN=0\n",
    "    else:\n",
    "        SN = TP/(TP + FN) #Sensitivity = TP/P  and P = TP + FN\n",
    "    if (FP+TN)==0:\n",
    "        SP=0\n",
    "    else:\n",
    "        SP = TN/(FP + TN) #Specificity = TN/N  and N = TN + FP\n",
    "    if (TP+FP)==0:\n",
    "        precision=0\n",
    "    else:\n",
    "        precision=TP/(TP+FP)\n",
    "    if (TP+FN)==0:\n",
    "        recall=0\n",
    "    else:\n",
    "        recall=TP/(TP+FN)\n",
    "    GM=math.sqrt(recall*SP)\n",
    "    #MCC = (TP*TN-FP*FN)/math.sqrt((TP+FP)*(TP+FN)*(TN+FP)*(TN+FN))\n",
    "    return precision,recall,SN,SP,GM,TP,TN,FP,FN"
   ]
  },
  {
   "cell_type": "code",
   "execution_count": 6,
   "metadata": {},
   "outputs": [],
   "source": [
    "def write_score(path,pre,label):\n",
    "    fw = open(path, 'w')\n",
    "\n",
    "    for i in range(0,len(pre)):\n",
    "        fw.write(str(pre[i]).replace('[','').replace(']',''))\n",
    "        fw.write('\\t')\n",
    "        fw.write(str(label[i]))\n",
    "        fw.write('\\n')\n",
    "\n",
    "    fw.close()"
   ]
  },
  {
   "cell_type": "code",
   "execution_count": 7,
   "metadata": {},
   "outputs": [],
   "source": [
    "\n",
    "y_train,x_train = svm_read_problem(path_train)\n",
    "y_test,x_test = svm_read_problem(path_test)"
   ]
  },
  {
   "cell_type": "code",
   "execution_count": 10,
   "metadata": {},
   "outputs": [
    {
     "data": {
      "text/plain": [
       "73793"
      ]
     },
     "execution_count": 10,
     "metadata": {},
     "output_type": "execute_result"
    }
   ],
   "source": [
    "len(x_train)"
   ]
  },
  {
   "cell_type": "code",
   "execution_count": 14,
   "metadata": {},
   "outputs": [],
   "source": [
    "\n",
    "\n",
    "model = svm_train(y_train,x_train,'-t 2 -c 4 -g 8 -b 1')\n",
    "#model = svm_train(y_test,x_test,'-t 2 -c 4 -g 8 -b 1')\n",
    "\n",
    "\n",
    "\n",
    "\n",
    "#print(p_label,p_acc,p_val)"
   ]
  },
  {
   "cell_type": "code",
   "execution_count": 15,
   "metadata": {},
   "outputs": [
    {
     "name": "stdout",
     "output_type": "stream",
     "text": [
      "Model supports probability estimates, but disabled in predicton.\n",
      "Accuracy = 90.9382% (67106/73793) (classification)\n"
     ]
    }
   ],
   "source": [
    "# p_label,p_acc,p_val = svm_predict(y_test,x_test,model)\n",
    "p_label,p_acc,p_val = svm_predict(y_train,x_train,model)\n",
    "\n",
    "    \n",
    "fpr, tpr, thresholds = roc_curve(y_train,p_val,pos_label=1)\n",
    "precision,recall,SN,SP,GM,TP,TN,FP,FN = performance(y_test,p_label)"
   ]
  },
  {
   "cell_type": "code",
   "execution_count": 16,
   "metadata": {},
   "outputs": [
    {
     "name": "stdout",
     "output_type": "stream",
     "text": [
      "ACC:  0.909382 \n",
      "Sn: 0.000000\n",
      "Sp: 1.000000\n",
      "MCC: 0.000000 \n",
      "AUC: 0.864583\n"
     ]
    }
   ],
   "source": [
    "print(\"ACC:  %f \"  %accuracy_score(y_train,p_label))\n",
    "print(\"Sn: %f\" %SN)\n",
    "print(\"Sp: %f\" %SP)\n",
    "print(\"MCC: %f \" %matthews_corrcoef(y_train,p_label))\n",
    "print(\"AUC: %f\" % auc(fpr, tpr))"
   ]
  },
  {
   "cell_type": "code",
   "execution_count": null,
   "metadata": {},
   "outputs": [],
   "source": [
    "print(\"ACC:  %f \"  %accuracy_score(y_test,p_label))\n",
    "print(\"Sn: %f\" %SN)\n",
    "print(\"Sp: %f\" %SP)\n",
    "print(\"MCC: %f \" %matthews_corrcoef(y_test,p_label))\n",
    "print(\"AUC: %f\" % auc(fpr, tpr))"
   ]
  },
  {
   "cell_type": "code",
   "execution_count": null,
   "metadata": {},
   "outputs": [],
   "source": [
    "\n",
    "precision,recall,SN,SP,GM,TP,TN,FP,FN = performance(y_test,p_label)\n",
    "\n",
    "print(\"ACC:  %f \"  %accuracy_score(y_test,p_label))\n",
    "print(\"Sn: %f\" %SN)\n",
    "print(\"Sp: %f\" %SP)\n",
    "print(\"MCC: %f \" %matthews_corrcoef(y_test,p_label))\n",
    "print(\"AUC: %f\" % auc(fpr, tpr))\n",
    "\n",
    "draw_ROC_curve(y_test,p_val,'human')\n",
    "write_score('C:/Users/Crow/Desktop/human_data_12.12/Test_SVM_result.txt',p_label,y_test)\n"
   ]
  },
  {
   "cell_type": "code",
   "execution_count": null,
   "metadata": {},
   "outputs": [],
   "source": [
    "p_label,p_acc,p_val = svm_predict(y_test,x_test,model)"
   ]
  },
  {
   "cell_type": "code",
   "execution_count": null,
   "metadata": {},
   "outputs": [],
   "source": [
    "svm_save_model('C:/Users/Crow/Desktop/human_data/SVM_12.11.model', model)"
   ]
  },
  {
   "cell_type": "code",
   "execution_count": null,
   "metadata": {},
   "outputs": [],
   "source": [
    "ACC, MSE, SCC = evaluations(y_test, p_label)\n",
    "print(ACC, MSE, SCC)"
   ]
  },
  {
   "cell_type": "code",
   "execution_count": null,
   "metadata": {
    "scrolled": true
   },
   "outputs": [],
   "source": [
    "#p_label,p_acc,p_val = svm_predict(y_test,x_test,model,'-b 1')\n",
    "print(p_val)\n"
   ]
  },
  {
   "cell_type": "code",
   "execution_count": null,
   "metadata": {
    "scrolled": true
   },
   "outputs": [],
   "source": [
    "# TPR = TP/P\n",
    "# FPR = FP/N\n",
    "\n",
    "#print(p_val)\n",
    "#test_pred_proba = clf.predict_proba(test_data)[:, 1]\n",
    " \n",
    "fpr, tpr, thresholds = roc_curve(y_test,p_val,pos_label=1)\n",
    "print(auc(fpr, tpr))\n",
    "\n",
    "draw_ROC_curve(y_test,p_val,savepath='C:/Users/Crow/Desktop/human_data/EGAAC_29_gap4_11.22.png')\n",
    "#feature_weight=clf.feature_importances_\n"
   ]
  },
  {
   "cell_type": "code",
   "execution_count": null,
   "metadata": {},
   "outputs": [],
   "source": [
    "p_label,p_acc,p_val = svm_predict([1,0],[[1,0],[0,1]],model,'-b 1')\n",
    "print(p_val)"
   ]
  },
  {
   "cell_type": "code",
   "execution_count": null,
   "metadata": {},
   "outputs": [],
   "source": [
    "kf = StratifiedKFold(n_splits = 10)\n",
    "\n",
    "for train_index, test_index in kf.split(x_train, y_train):\n",
    "\n",
    "    x_train3, x_test3 = x_train[train_index], x_train[test_index]\n",
    "    y_train3, y_test3 = y_train[train_index], y_train[test_index]\n",
    "    \n",
    "    \n",
    "    "
   ]
  }
 ],
 "metadata": {
  "kernelspec": {
   "display_name": "Python 3",
   "language": "python",
   "name": "python3"
  },
  "language_info": {
   "codemirror_mode": {
    "name": "ipython",
    "version": 3
   },
   "file_extension": ".py",
   "mimetype": "text/x-python",
   "name": "python",
   "nbconvert_exporter": "python",
   "pygments_lexer": "ipython3",
   "version": "3.6.7"
  }
 },
 "nbformat": 4,
 "nbformat_minor": 2
}
