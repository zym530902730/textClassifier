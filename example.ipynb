{
 "cells": [
  {
   "cell_type": "code",
   "execution_count": 2,
   "metadata": {},
   "outputs": [
    {
     "name": "stdout",
     "output_type": "stream",
     "text": [
      "        Control    FBS 1%    FBS 3%\n",
      "Index                              \n",
      "0      0.494348  1.196539  0.921887\n",
      "1      0.556027  0.940206  1.153515\n",
      "2      0.445540       NaN  1.108820\n",
      "3      0.464731  0.931461  0.956742\n",
      "4      0.393526  0.894547  1.073090\n",
      "5      0.479290       NaN  1.099829\n",
      "6      0.683442  0.936075       NaN\n",
      "7      0.667166       NaN       NaN\n",
      "8      0.526530       NaN       NaN\n",
      "9      0.499731       NaN       NaN\n",
      "pvalue annotation legend:\n",
      "ns: 5.00e-02 < p <= 1.00e+00\n",
      "*: 1.00e-02 < p <= 5.00e-02\n",
      "**: 1.00e-03 < p <= 1.00e-02\n",
      "***: 1.00e-04 < p <= 1.00e-03\n",
      "****: p <= 1.00e-04\n",
      "\n"
     ]
    },
    {
     "data": {
      "text/plain": [
       "<matplotlib.axes._subplots.AxesSubplot at 0x24087d7c780>"
      ]
     },
     "execution_count": 2,
     "metadata": {},
     "output_type": "execute_result"
    },
    {
     "data": {
      "image/png": "[encoded data removed]",
      "text/plain": [
       "<Figure size 432x288 with 1 Axes>"
      ]
     },
     "metadata": {
      "needs_background": "light"
     },
     "output_type": "display_data"
    }
   ],
   "source": [
    "%matplotlib inline\n",
    "import matplotlib.pyplot as plt\n",
    "import seaborn as sns\n",
    "import pandas as pd\n",
    "import numpy as np\n",
    "from statannot import add_stat_annotation\n",
    "from pandas.compat import StringIO\n",
    "\n",
    "dfstring = \"\"\"Index    Control    \"FBS 1%\"    \"FBS 3%\"\n",
    "0  0.494348  1.196539  0.921887\n",
    "1  0.556027  0.940206  1.153515\n",
    "2  0.445540       NaN  1.108820\n",
    "3  0.464731  0.931461  0.956742\n",
    "4  0.393526  0.894547  1.073090\n",
    "5  0.479290       NaN  1.099829\n",
    "6  0.683442  0.936075       NaN\n",
    "7  0.667166       NaN       NaN\n",
    "8  0.526530       NaN       NaN\n",
    "9  0.499731       NaN       NaN\"\"\"\n",
    "data = pd.read_csv(StringIO(dfstring), delim_whitespace=True, index_col=0)\n",
    "print(data)\n",
    "\n",
    "ax = sns.boxplot(data=data)\n",
    "fig = plt.gcf()\n",
    "add_stat_annotation(ax, data, boxPairList=[('Control','FBS 1%'), ('Control','FBS 3%'), ('FBS 1%','FBS 3%')],\n",
    "                    test='t-test_ind', textFormat='star', loc='outside', verbose=1)"
   ]
  },
  {
   "cell_type": "code",
   "execution_count": 1,
   "metadata": {},
   "outputs": [],
   "source": [
    "%matplotlib inline\n",
    "import matplotlib.pyplot as plt\n",
    "import seaborn as sns\n",
    "import pandas as pd\n",
    "import numpy as np\n",
    "from statannot import add_stat_annotation\n",
    "from pandas.compat import StringIO"
   ]
  },
  {
   "cell_type": "markdown",
   "metadata": {},
   "source": [
    "### Boxplot non-hue"
   ]
  },
  {
   "cell_type": "code",
   "execution_count": 2,
   "metadata": {},
   "outputs": [],
   "source": [
    "sns.set(style=\"whitegrid\")\n",
    "df = sns.load_dataset(\"tips\")"
   ]
  },
  {
   "cell_type": "code",
   "execution_count": 4,
   "metadata": {
    "scrolled": true
   },
   "outputs": [],
   "source": [
    "BINARY = [0.723361,0.71563,0.711014,0.748953,0.738242,0.704521,0.735801,0.743376,0.729422,0.717307]\n",
    "BINARY_01 = [0.0139995,0.0195967,0.015495,0.0191304,0.0192827,0.0153877,0.0177918,0.0167652,0.0181078,0.0150561]\n",
    "\n",
    "CKSAAP_gap4 = [0.708074,0.68444,0.711581,0.716382,0.71162,0.696588,0.704422,0.723463,0.730921,0.687607]\n",
    "CKSAAP_gap4_01 = [0.0168178,0.0147625,0.0179792,0.0162938,0.0162046,0.0166559,0.0171903,0.0186685,0.0183134,0.014746]\n",
    "\n",
    "AAC = [0.690762,0.668639,0.696056,0.692778,0.680706,0.672314,0.685876,0.699649,0.695781,0.658347]\n",
    "AAC_01 = [0.0130995,0.012225,0.0153707,0.0125776,0.0135578,0.0125106,0.0142182,0.0141296,0.0132737,0.0130869]\n",
    "\n",
    "EAAC_gap5 = [0.781925,0.778667,0.785795,0.799003,0.797184,0.770403,0.79413,0.795108,0.792157,0.763667]\n",
    "EAAC_gap5_01 = [0.022627,0.0243358,0.0223781,0.0227487,0.0237099,0.0200422,0.0224273,0.0218883,0.022433,0.0206807]\n",
    "\n",
    "EGAAC_gap4 = [0.783741,0.789916,0.793433,0.802873,0.796848,0.780132,0.799697,0.781684,0.807662,0.775109]\n",
    "EGAAC_gap4_01 = [0.0208239,0.0223318,0.0229944,0.0223309,0.0243657,0.021223,0.0230216,0.0197138,0.023986,0.02083]\n",
    "\n",
    "AUC_data ={\n",
    "    'BINARY':BINARY,\n",
    "    'CKSAAP_gap4':CKSAAP_gap4,\n",
    "    'AAC':AAC,\n",
    "    'EAAC_gap5':EAAC_gap5,\n",
    "    'EGAAC_gap4':EGAAC_gap4\n",
    "} \n",
    "\n",
    "df = pd.DataFrame(AUC_data )\n",
    "\n",
    "\n",
    "\n",
    "columns=['BINARY','CKSAAP_gap4','AAC','EAAC_gap5','EGAAC_gap4']"
   ]
  },
  {
   "cell_type": "code",
   "execution_count": 5,
   "metadata": {},
   "outputs": [
    {
     "data": {
      "text/html": [
       "<div>\n",
       "<style scoped>\n",
       "    .dataframe tbody tr th:only-of-type {\n",
       "        vertical-align: middle;\n",
       "    }\n",
       "\n",
       "    .dataframe tbody tr th {\n",
       "        vertical-align: top;\n",
       "    }\n",
       "\n",
       "    .dataframe thead th {\n",
       "        text-align: right;\n",
       "    }\n",
       "</style>\n",
       "<table border=\"1\" class=\"dataframe\">\n",
       "  <thead>\n",
       "    <tr style=\"text-align: right;\">\n",
       "      <th></th>\n",
       "      <th>BINARY</th>\n",
       "      <th>CKSAAP_gap4</th>\n",
       "      <th>AAC</th>\n",
       "      <th>EAAC_gap5</th>\n",
       "      <th>EGAAC_gap4</th>\n",
       "    </tr>\n",
       "  </thead>\n",
       "  <tbody>\n",
       "    <tr>\n",
       "      <th>0</th>\n",
       "      <td>0.723361</td>\n",
       "      <td>0.708074</td>\n",
       "      <td>0.690762</td>\n",
       "      <td>0.781925</td>\n",
       "      <td>0.783741</td>\n",
       "    </tr>\n",
       "    <tr>\n",
       "      <th>1</th>\n",
       "      <td>0.715630</td>\n",
       "      <td>0.684440</td>\n",
       "      <td>0.668639</td>\n",
       "      <td>0.778667</td>\n",
       "      <td>0.789916</td>\n",
       "    </tr>\n",
       "    <tr>\n",
       "      <th>2</th>\n",
       "      <td>0.711014</td>\n",
       "      <td>0.711581</td>\n",
       "      <td>0.696056</td>\n",
       "      <td>0.785795</td>\n",
       "      <td>0.793433</td>\n",
       "    </tr>\n",
       "    <tr>\n",
       "      <th>3</th>\n",
       "      <td>0.748953</td>\n",
       "      <td>0.716382</td>\n",
       "      <td>0.692778</td>\n",
       "      <td>0.799003</td>\n",
       "      <td>0.802873</td>\n",
       "    </tr>\n",
       "    <tr>\n",
       "      <th>4</th>\n",
       "      <td>0.738242</td>\n",
       "      <td>0.711620</td>\n",
       "      <td>0.680706</td>\n",
       "      <td>0.797184</td>\n",
       "      <td>0.796848</td>\n",
       "    </tr>\n",
       "    <tr>\n",
       "      <th>5</th>\n",
       "      <td>0.704521</td>\n",
       "      <td>0.696588</td>\n",
       "      <td>0.672314</td>\n",
       "      <td>0.770403</td>\n",
       "      <td>0.780132</td>\n",
       "    </tr>\n",
       "    <tr>\n",
       "      <th>6</th>\n",
       "      <td>0.735801</td>\n",
       "      <td>0.704422</td>\n",
       "      <td>0.685876</td>\n",
       "      <td>0.794130</td>\n",
       "      <td>0.799697</td>\n",
       "    </tr>\n",
       "    <tr>\n",
       "      <th>7</th>\n",
       "      <td>0.743376</td>\n",
       "      <td>0.723463</td>\n",
       "      <td>0.699649</td>\n",
       "      <td>0.795108</td>\n",
       "      <td>0.781684</td>\n",
       "    </tr>\n",
       "    <tr>\n",
       "      <th>8</th>\n",
       "      <td>0.729422</td>\n",
       "      <td>0.730921</td>\n",
       "      <td>0.695781</td>\n",
       "      <td>0.792157</td>\n",
       "      <td>0.807662</td>\n",
       "    </tr>\n",
       "    <tr>\n",
       "      <th>9</th>\n",
       "      <td>0.717307</td>\n",
       "      <td>0.687607</td>\n",
       "      <td>0.658347</td>\n",
       "      <td>0.763667</td>\n",
       "      <td>0.775109</td>\n",
       "    </tr>\n",
       "  </tbody>\n",
       "</table>\n",
       "</div>"
      ],
      "text/plain": [
       "     BINARY  CKSAAP_gap4       AAC  EAAC_gap5  EGAAC_gap4\n",
       "0  0.723361     0.708074  0.690762   0.781925    0.783741\n",
       "1  0.715630     0.684440  0.668639   0.778667    0.789916\n",
       "2  0.711014     0.711581  0.696056   0.785795    0.793433\n",
       "3  0.748953     0.716382  0.692778   0.799003    0.802873\n",
       "4  0.738242     0.711620  0.680706   0.797184    0.796848\n",
       "5  0.704521     0.696588  0.672314   0.770403    0.780132\n",
       "6  0.735801     0.704422  0.685876   0.794130    0.799697\n",
       "7  0.743376     0.723463  0.699649   0.795108    0.781684\n",
       "8  0.729422     0.730921  0.695781   0.792157    0.807662\n",
       "9  0.717307     0.687607  0.658347   0.763667    0.775109"
      ]
     },
     "execution_count": 5,
     "metadata": {},
     "output_type": "execute_result"
    }
   ],
   "source": [
    "df"
   ]
  },
  {
   "cell_type": "code",
   "execution_count": 7,
   "metadata": {
    "scrolled": false
   },
   "outputs": [
    {
     "name": "stdout",
     "output_type": "stream",
     "text": [
      "BINARY v.s. CKSAAP_gap4: t-test paired samples, P_val=1.349e-03 stat=4.569e+00\n",
      "CKSAAP_gap4 v.s. AAC: t-test paired samples, P_val=1.644e-06 stat=1.097e+01\n",
      "AAC v.s. EAAC_gap5: t-test paired samples, P_val=4.303e-11 stat=-3.650e+01\n",
      "EAAC_gap5 v.s. EGAAC_gap4: t-test paired samples, P_val=6.986e-02 stat=-2.057e+00\n"
     ]
    },
    {
     "data": {
      "image/png": "[encoded data removed]",
      "text/plain": [
       "<Figure size 432x288 with 1 Axes>"
      ]
     },
     "metadata": {},
     "output_type": "display_data"
    }
   ],
   "source": [
    "\n",
    "order = columns\n",
    "ax = sns.boxplot(data=df,  order=order)\n",
    "plt.ylabel(\"AUC\")\n",
    "add_stat_annotation(ax, data=df, order=order,\n",
    "                    boxPairList=[(\"BINARY\", \"CKSAAP_gap4\"), (\"CKSAAP_gap4\", \"AAC\"), (\"AAC\", \"EAAC_gap5\"),(\"EAAC_gap5\",\"EGAAC_gap4\")],\n",
    "                    test='t-test_paired', textFormat='full', loc='outside', verbose=2)\n",
    "plt.savefig('example1.png', dpi=300, bbox_inches='tight')"
   ]
  },
  {
   "cell_type": "markdown",
   "metadata": {},
   "source": [
    "### Boxplot with hue"
   ]
  },
  {
   "cell_type": "code",
   "execution_count": 4,
   "metadata": {},
   "outputs": [
    {
     "name": "stdout",
     "output_type": "stream",
     "text": [
      "Thur_No v.s. Fri_No: t-test independent samples, P_val=7.425e-01 stat=-3.305e-01\n",
      "Sat_Yes v.s. Sat_No: t-test independent samples, P_val=4.304e-01 stat=7.922e-01\n",
      "Sun_No v.s. Thur_Yes: t-test independent samples, P_val=5.623e-01 stat=5.822e-01\n"
     ]
    },
    {
     "data": {
      "image/png": "[encoded data removed]",
      "text/plain": [
       "<Figure size 432x288 with 1 Axes>"
      ]
     },
     "metadata": {},
     "output_type": "display_data"
    }
   ],
   "source": [
    "x = \"day\"\n",
    "y = \"total_bill\"\n",
    "hue = \"smoker\"\n",
    "ax = sns.boxplot(data=df, x=x, y=y, hue=hue)\n",
    "add_stat_annotation(ax, data=df, x=x, y=y, hue=hue,\n",
    "                    boxPairList=[((\"Thur\", \"No\"), (\"Fri\", \"No\")),\n",
    "                                 ((\"Sat\", \"Yes\"), (\"Sat\", \"No\")),\n",
    "                                 ((\"Sun\", \"No\"), (\"Thur\", \"Yes\"))\n",
    "                                ],\n",
    "                    test='t-test_ind', textFormat='full', loc='inside', verbose=2)\n",
    "plt.legend(loc='upper left', bbox_to_anchor=(1.03, 1))\n",
    "plt.savefig('example2.png', dpi=300, bbox_inches='tight')"
   ]
  },
  {
   "cell_type": "markdown",
   "metadata": {},
   "source": [
    "### Boxplot with bucketed categories"
   ]
  },
  {
   "cell_type": "code",
   "execution_count": 5,
   "metadata": {},
   "outputs": [
    {
     "data": {
      "text/html": [
       "<div>\n",
       "<style scoped>\n",
       "    .dataframe tbody tr th:only-of-type {\n",
       "        vertical-align: middle;\n",
       "    }\n",
       "\n",
       "    .dataframe tbody tr th {\n",
       "        vertical-align: top;\n",
       "    }\n",
       "\n",
       "    .dataframe thead th {\n",
       "        text-align: right;\n",
       "    }\n",
       "</style>\n",
       "<table border=\"1\" class=\"dataframe\">\n",
       "  <thead>\n",
       "    <tr style=\"text-align: right;\">\n",
       "      <th></th>\n",
       "      <th>total_bill</th>\n",
       "      <th>tip</th>\n",
       "      <th>sex</th>\n",
       "      <th>smoker</th>\n",
       "      <th>day</th>\n",
       "      <th>time</th>\n",
       "      <th>size</th>\n",
       "      <th>tip_bucket</th>\n",
       "    </tr>\n",
       "  </thead>\n",
       "  <tbody>\n",
       "    <tr>\n",
       "      <th>0</th>\n",
       "      <td>16.99</td>\n",
       "      <td>1.01</td>\n",
       "      <td>Female</td>\n",
       "      <td>No</td>\n",
       "      <td>Sun</td>\n",
       "      <td>Dinner</td>\n",
       "      <td>2</td>\n",
       "      <td>(0.991, 4.0]</td>\n",
       "    </tr>\n",
       "    <tr>\n",
       "      <th>1</th>\n",
       "      <td>10.34</td>\n",
       "      <td>1.66</td>\n",
       "      <td>Male</td>\n",
       "      <td>No</td>\n",
       "      <td>Sun</td>\n",
       "      <td>Dinner</td>\n",
       "      <td>3</td>\n",
       "      <td>(0.991, 4.0]</td>\n",
       "    </tr>\n",
       "    <tr>\n",
       "      <th>2</th>\n",
       "      <td>21.01</td>\n",
       "      <td>3.50</td>\n",
       "      <td>Male</td>\n",
       "      <td>No</td>\n",
       "      <td>Sun</td>\n",
       "      <td>Dinner</td>\n",
       "      <td>3</td>\n",
       "      <td>(0.991, 4.0]</td>\n",
       "    </tr>\n",
       "    <tr>\n",
       "      <th>3</th>\n",
       "      <td>23.68</td>\n",
       "      <td>3.31</td>\n",
       "      <td>Male</td>\n",
       "      <td>No</td>\n",
       "      <td>Sun</td>\n",
       "      <td>Dinner</td>\n",
       "      <td>2</td>\n",
       "      <td>(0.991, 4.0]</td>\n",
       "    </tr>\n",
       "    <tr>\n",
       "      <th>4</th>\n",
       "      <td>24.59</td>\n",
       "      <td>3.61</td>\n",
       "      <td>Female</td>\n",
       "      <td>No</td>\n",
       "      <td>Sun</td>\n",
       "      <td>Dinner</td>\n",
       "      <td>4</td>\n",
       "      <td>(0.991, 4.0]</td>\n",
       "    </tr>\n",
       "  </tbody>\n",
       "</table>\n",
       "</div>"
      ],
      "text/plain": [
       "   total_bill   tip     sex smoker  day    time  size    tip_bucket\n",
       "0       16.99  1.01  Female     No  Sun  Dinner     2  (0.991, 4.0]\n",
       "1       10.34  1.66    Male     No  Sun  Dinner     3  (0.991, 4.0]\n",
       "2       21.01  3.50    Male     No  Sun  Dinner     3  (0.991, 4.0]\n",
       "3       23.68  3.31    Male     No  Sun  Dinner     2  (0.991, 4.0]\n",
       "4       24.59  3.61  Female     No  Sun  Dinner     4  (0.991, 4.0]"
      ]
     },
     "execution_count": 5,
     "metadata": {},
     "output_type": "execute_result"
    }
   ],
   "source": [
    "df['tip_bucket'] = pd.cut(df['tip'], 3)\n",
    "df.head()"
   ]
  },
  {
   "cell_type": "code",
   "execution_count": 6,
   "metadata": {},
   "outputs": [
    {
     "data": {
      "text/plain": [
       "[(0.991, 4.0], (4.0, 7.0], (7.0, 10.0]]\n",
       "Categories (3, interval[float64]): [(0.991, 4.0] < (4.0, 7.0] < (7.0, 10.0]]"
      ]
     },
     "execution_count": 6,
     "metadata": {},
     "output_type": "execute_result"
    }
   ],
   "source": [
    "tip_bucket_list = df['tip_bucket'].unique()\n",
    "tip_bucket_list"
   ]
  },
  {
   "cell_type": "code",
   "execution_count": 7,
   "metadata": {},
   "outputs": [
    {
     "name": "stdout",
     "output_type": "stream",
     "text": [
      "pvalue annotation legend:\n",
      "ns: 5.00e-02 < p <= 1.00e+00\n",
      "*: 1.00e-02 < p <= 5.00e-02\n",
      "**: 1.00e-03 < p <= 1.00e-02\n",
      "***: 1.00e-04 < p <= 1.00e-03\n",
      "****: p <= 1.00e-04\n",
      "\n",
      "Sat_(7.0, 10.0] v.s. Fri_(0.991, 4.0]: t-test independent samples, P_val=6.176e-07 stat=7.490e+00\n"
     ]
    },
    {
     "data": {
      "text/plain": [
       "<matplotlib.legend.Legend at 0x7f0df5ea9c18>"
      ]
     },
     "execution_count": 7,
     "metadata": {},
     "output_type": "execute_result"
    },
    {
     "data": {
      "image/png": "[encoded data removed]",
      "text/plain": [
       "<Figure size 432x288 with 1 Axes>"
      ]
     },
     "metadata": {},
     "output_type": "display_data"
    }
   ],
   "source": [
    "x = \"day\"\n",
    "y = \"total_bill\"\n",
    "hue = \"tip_bucket\"\n",
    "data = df\n",
    "ax = sns.boxplot(data=df, x=x, y=y, hue=hue)\n",
    "boxPlotter = sns.categorical._BoxPlotter(x, y, hue, data, order, hue_order=None,\n",
    "                                         orient=None, width=.8, color=None, palette=None, saturation=.75,\n",
    "                                         dodge=True, fliersize=5, linewidth=None)\n",
    "add_stat_annotation(ax, data=df, x=x, y=y, hue=hue,\n",
    "                    boxPairList=[((\"Sat\", tip_bucket_list[2]), (\"Fri\", tip_bucket_list[0]))],\n",
    "                    test='t-test_ind', loc='inside', verbose=2)\n",
    "plt.legend(loc='upper left', bbox_to_anchor=(1.03, 1))"
   ]
  },
  {
   "cell_type": "markdown",
   "metadata": {},
   "source": [
    "### Tuning y offsets"
   ]
  },
  {
   "cell_type": "code",
   "execution_count": 15,
   "metadata": {},
   "outputs": [
    {
     "name": "stdout",
     "output_type": "stream",
     "text": [
      "Thur_No v.s. Fri_No: t-test independent samples, P_val=7.425e-01 stat=-3.305e-01\n",
      "Sat_Yes v.s. Sat_No: t-test independent samples, P_val=4.304e-01 stat=7.922e-01\n",
      "Sun_No v.s. Thur_Yes: t-test independent samples, P_val=5.623e-01 stat=5.822e-01\n"
     ]
    },
    {
     "data": {
      "text/plain": [
       "<matplotlib.legend.Legend at 0x7f0df57ba860>"
      ]
     },
     "execution_count": 15,
     "metadata": {},
     "output_type": "execute_result"
    },
    {
     "data": {
      "image/png": "[encoded data removed]",
      "text/plain": [
       "<Figure size 432x288 with 1 Axes>"
      ]
     },
     "metadata": {},
     "output_type": "display_data"
    }
   ],
   "source": [
    "x = \"day\"\n",
    "y = \"total_bill\"\n",
    "hue = \"smoker\"\n",
    "ax = sns.boxplot(data=df, x=x, y=y, hue=hue)\n",
    "add_stat_annotation(ax, data=df, x=x, y=y, hue=hue,\n",
    "                    boxPairList=[((\"Thur\", \"No\"), (\"Fri\", \"No\")),\n",
    "                                 ((\"Sat\", \"Yes\"), (\"Sat\", \"No\")),\n",
    "                                 ((\"Sun\", \"No\"), (\"Thur\", \"Yes\"))\n",
    "                                ],\n",
    "                    test='t-test_ind', textFormat='full', loc='inside',\n",
    "                    lineYOffsetToBoxAxesCoord=0.2, lineYOffsetAxesCoord=0.02,\n",
    "                    lineHeightAxesCoord=0.02, textYOffsetPoints=2,\n",
    "                    verbose=2)\n",
    "plt.legend(loc='upper left', bbox_to_anchor=(1.03, 1))"
   ]
  }
 ],
 "metadata": {
  "kernelspec": {
   "display_name": "Python 3",
   "language": "python",
   "name": "python3"
  },
  "language_info": {
   "codemirror_mode": {
    "name": "ipython",
    "version": 3
   },
   "file_extension": ".py",
   "mimetype": "text/x-python",
   "name": "python",
   "nbconvert_exporter": "python",
   "pygments_lexer": "ipython3",
   "version": "3.6.7"
  },
  "toc": {
   "base_numbering": 1,
   "nav_menu": {},
   "number_sections": true,
   "sideBar": true,
   "skip_h1_title": false,
   "title_cell": "Table of Contents",
   "title_sidebar": "Contents",
   "toc_cell": false,
   "toc_position": {},
   "toc_section_display": true,
   "toc_window_display": false
  }
 },
 "nbformat": 4,
 "nbformat_minor": 2
}
