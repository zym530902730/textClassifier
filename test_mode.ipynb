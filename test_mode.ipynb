{
 "cells": [
  {
   "cell_type": "code",
   "execution_count": 2,
   "metadata": {
    "collapsed": true
   },
   "outputs": [],
   "source": [
    "import os\n",
    "import sys\n",
    "\n",
    "import matplotlib as mpl\n",
    "import numpy as np\n",
    "import tensorflow as tf\n",
    "from keras.callbacks import ModelCheckpoint, EarlyStopping\n",
    "from keras.layers import Dense, Dropout, Embedding, LSTM, Conv1D, MaxPooling1D, Flatten, Bidirectional, Merge, GRU\n",
    "from keras.models import Sequential, load_model, save_model\n",
    "from keras.optimizers import Adam\n",
    "from sklearn import cluster\n",
    "from sklearn import preprocessing as prep\n",
    "from sklearn.model_selection import StratifiedKFold\n",
    "\n",
    "mpl.use('Agg')\n",
    "import matplotlib.pyplot as plt\n",
    "\n"
   ]
  },
  {
   "cell_type": "code",
   "execution_count": 3,
   "metadata": {
    "collapsed": true
   },
   "outputs": [],
   "source": [
    "def pep1(path, seq_len):\n",
    "\tresult = []\n",
    "\tresultLabel = []\n",
    "\tdata = open(path).readlines()\n",
    "\tfor i in range(len(data)):\n",
    "\t\tcut = (len(data[i].split()[0]) - 1 - seq_len) // 2\n",
    "\t\ttrainData = data[i].split()[0][cut:-cut]\n",
    "\t\ttrainLabel = int(data[i].split()[-1])\n",
    "\t\ttrainDataArray = []\n",
    "\t\tfor j in range(len(trainData)):\n",
    "\t\t\tif trainData[j] == 'A':\n",
    "\t\t\t\ttrainDataArray.append([1, 0, 0, 0])\n",
    "\t\t\telif trainData[j] == 'C':\n",
    "\t\t\t\ttrainDataArray.append([0, 1, 0, 0])\n",
    "\t\t\telif trainData[j] == 'G':\n",
    "\t\t\t\ttrainDataArray.append([0, 0, 1, 0])\n",
    "\t\t\telif trainData[j] == 'U':\n",
    "\t\t\t\ttrainDataArray.append([0, 0, 0, 1])\n",
    "\t\t\telse:\n",
    "\t\t\t\ttrainDataArray.append([0, 0, 0, 0])\n",
    "\t\tresult.append(trainDataArray)\n",
    "\t\tresultLabel.append(trainLabel)\n",
    "\tresult = np.array(result)\n",
    "\tresultLabel = np.array(resultLabel)\n",
    "\tresult = result.reshape((result.shape[0], -1, 1))\n",
    "\treturn result, resultLabel\n"
   ]
  },
  {
   "cell_type": "code",
   "execution_count": 20,
   "metadata": {},
   "outputs": [
    {
     "name": "stdout",
     "output_type": "stream",
     "text": [
      "[[[0]\n",
      "  [0]\n",
      "  [1]\n",
      "  [0]\n",
      "  [1]\n",
      "  [0]\n",
      "  [0]\n",
      "  [0]\n",
      "  [0]\n",
      "  [1]\n",
      "  [0]\n",
      "  [0]]\n",
      "\n",
      " [[0]\n",
      "  [0]\n",
      "  [1]\n",
      "  [0]\n",
      "  [1]\n",
      "  [0]\n",
      "  [0]\n",
      "  [0]\n",
      "  [0]\n",
      "  [1]\n",
      "  [0]\n",
      "  [0]]\n",
      "\n",
      " [[1]\n",
      "  [0]\n",
      "  [0]\n",
      "  [0]\n",
      "  [1]\n",
      "  [0]\n",
      "  [0]\n",
      "  [0]\n",
      "  [0]\n",
      "  [1]\n",
      "  [0]\n",
      "  [0]]] [1 1 1]\n"
     ]
    }
   ],
   "source": [
    "result = []\n",
    "resultLabel = []\n",
    "data = open(\"C:/Users/Crow/Desktop/keras_chemical/finalresult_CV.txt\").readlines()\n",
    "seq_len = 2\n",
    "#data = \"GGGCGGGGUAGCUUUGUAAAUGUUUUUCUGAUUAACAAUGUCUUCUCUUUUUUAGCUAUUACAGGGAGGAGUGUUGAGACCAGAUGUCAUCUACUGUCUCUUGGGUCAGCAGCACGCAUGACAGGACCAAGGAAUGGCAGCAACACGCAGAAUCUUAGCUAGCGCUCUCCAGCAGUCUUCUCUAUUAGGGAAUGUCUAAUUGGCAUGAGAUGUUCAAAUCAGACCUGGGAUUGGACAACUGUAAAGUAUGACUGGAUCGUCAGGGCGUCGCUUGGACUCUGUAAUCUAAUGUUUAGGGCAUAUUGAAGUUGAGGUGCUGCCUUCCAGAACUUAAACAUGUAGCUCACUUUCCCCCAUCUUUUUGACAAAUGACCAGUAGUUAAUUUCUAAGGUUUUUCUUAUCAAGAGAAGAAUACUUAAAAACUCUUCCUUGUUUGCAAAAGAAACUUCUGAGGACUGAGUCUUAACUAUGCACACAAUGUCACCAGACAUCUUGAAACU ENSMUST00000000001 37026 1\"\n",
    "for i in range(len(data)):\n",
    "\tcut = (len(data[i].split()[0]) - 1 - seq_len) // 2\n",
    "\ttrainData = data[i].split()[0][cut:-cut]\n",
    "\ttrainLabel = int(data[i].split()[-1])\n",
    "\ttrainDataArray = []\n",
    "\tfor j in range(len(trainData)):\n",
    "\t\tif trainData[j] == 'A':\n",
    "\t\t\ttrainDataArray.append([1, 0, 0, 0])\n",
    "\t\telif trainData[j] == 'C':\n",
    "\t\t\ttrainDataArray.append([0, 1, 0, 0])\n",
    "\t\telif trainData[j] == 'G':\n",
    "\t\t\ttrainDataArray.append([0, 0, 1, 0])\n",
    "\t\telif trainData[j] == 'U':\n",
    "\t\t\ttrainDataArray.append([0, 0, 0, 1])\n",
    "\t\telse:\n",
    "\t\t\ttrainDataArray.append([0, 0, 0, 0])\n",
    "\tresult.append(trainDataArray)\n",
    "\tresultLabel.append(trainLabel)\n",
    "result = np.array(result)\n",
    "resultLabel = np.array(resultLabel)\n",
    "result = result.reshape((result.shape[0], -1, 1))\n",
    "print(result[0:3], resultLabel[0:3])"
   ]
  },
  {
   "cell_type": "code",
   "execution_count": 4,
   "metadata": {
    "collapsed": true
   },
   "outputs": [],
   "source": [
    "def plot(result, out):\n",
    "\tplt.figure(1)\n",
    "\tplt.subplot(211)\n",
    "\tplt.plot(result.epoch, result.history['acc'], label=\"acc\")\n",
    "\tplt.plot(result.epoch, result.history['val_acc'], label=\"val_acc\")\n",
    "\t# plt.scatter(result.epoch, result.history['val_acc'])\n",
    "\tplt.legend(loc='lower right')\n",
    "\tplt.subplot(212)\n",
    "\tplt.plot(result.epoch, result.history['loss'], label=\"loss\")\n",
    "\tplt.plot(result.epoch, result.history['val_loss'], label=\"val_loss\")\n",
    "\t# plt.scatter(result.epoch, result.history['val_loss'], marker='*')\n",
    "\tplt.legend(loc='upper right')\n",
    "\tplt.savefig(out, dpi=300)\n",
    "\tplt.close()"
   ]
  },
  {
   "cell_type": "code",
   "execution_count": 5,
   "metadata": {
    "collapsed": true
   },
   "outputs": [],
   "source": [
    "def DLM(input_dim, neurons=(160, 100)):\n",
    "\tmodel = Sequential()\n",
    "\tmodel.add(Dense(neurons[0], input_dim=input_dim, activation='relu'))\n",
    "\tmodel.add(Dropout(0.5))\n",
    "\t# model.add(Dense(neurons[1], activation='relu'))\n",
    "\t# model.add(Dropout(0.8))\n",
    "\tmodel.add(Dense(1, activation='sigmoid'))\n",
    "\toptimizer = Adam(lr=1e-4)\n",
    "\t# mean_squared_error, categorical_crossentropy\n",
    "\tmodel.compile(optimizer=optimizer, loss='binary_crossentropy', metrics=['accuracy'])\n",
    "\treturn model\n"
   ]
  },
  {
   "cell_type": "code",
   "execution_count": 6,
   "metadata": {
    "collapsed": true
   },
   "outputs": [],
   "source": [
    "def CNN(neurons, input_shape, dropout=0.2, window=2):\n",
    "\tmodel = Sequential()\n",
    "\tmodel.add(Conv1D(neurons, window, activation='relu', padding='same', input_shape=input_shape))\n",
    "\tmodel.add(MaxPooling1D(2))\n",
    "\tmodel.add(Dropout(dropout))\n",
    "\tmodel.add(Conv1D(neurons, window, activation='relu', padding='same'))\n",
    "\tmodel.add(MaxPooling1D(2))\n",
    "\tmodel.add(Dropout(dropout))\n",
    "\tmodel.add(Conv1D(neurons, window, activation='relu', padding='same'))\n",
    "\tmodel.add(MaxPooling1D(2))\n",
    "\tmodel.add(Dropout(dropout))\n",
    "\tmodel.add(Conv1D(neurons, window, activation='relu', padding='same'))\n",
    "\tmodel.add(MaxPooling1D(2))\n",
    "\tmodel.add(Dropout(dropout))\n",
    "\tmodel.add(Flatten())\n",
    "\tmodel.add(Dense(neurons, activation='relu'))\n",
    "\tmodel.add(Dropout(dropout))\n",
    "\tmodel.add(Dense(1, activation='sigmoid'))\n",
    "\tmodel.compile(optimizer=Adam(), loss='binary_crossentropy', metrics=['accuracy'])\n",
    "\treturn model"
   ]
  },
  {
   "cell_type": "code",
   "execution_count": 7,
   "metadata": {
    "collapsed": true
   },
   "outputs": [],
   "source": [
    "def RNN(embed_input_dim, embed_output_dim, lstm_dim, input_length, dropout=0.2, weights=None):\n",
    "\tmodel = Sequential()\n",
    "\tmodel.add(Embedding(embed_input_dim, embed_output_dim, input_length=input_length, weights=weights, trainable=True))\n",
    "\n",
    "\t# model.add(GRU(lstm_dim, implementation=2, return_sequences=True))\n",
    "\t# model.add(Dropout(dropout))\n",
    "\n",
    "\tmodel.add(GRU(lstm_dim, implementation=2))\n",
    "\tmodel.add(Dropout(dropout))\n",
    "\n",
    "\tmodel.add(Dense(1024, activation='relu'))\n",
    "\tmodel.add(Dropout(dropout))\n",
    "\tmodel.add(Dense(1, activation='sigmoid'))\n",
    "\tmodel.compile(optimizer=Adam(), loss='binary_crossentropy', metrics=['accuracy'])\n",
    "\treturn model"
   ]
  },
  {
   "cell_type": "code",
   "execution_count": 8,
   "metadata": {
    "collapsed": true
   },
   "outputs": [],
   "source": [
    "def BRNN(lstm_dim, input_shape, dropout=0.2, weights=None):\n",
    "\tmodel = Sequential()\n",
    "\t# model.add(Embedding(embed_input_dim, embed_output_dim, input_length=input_length, weights=weights, trainable=True))\n",
    "\t# model.add(Bidirectional(GRU(lstm_dim, implementation=2, return_sequences=True)))\n",
    "\t# model.add(Dropout(dropout))\n",
    "\tmodel.add(Dense(lstm_dim, input_shape=input_shape))\n",
    "\n",
    "\tmodel.add(Bidirectional(GRU(lstm_dim, implementation=2)))\n",
    "\tmodel.add(Dropout(dropout))\n",
    "\n",
    "\tmodel.add(Dense(lstm_dim, activation='relu'))\n",
    "\tmodel.add(Dropout(dropout))\n",
    "\n",
    "\tmodel.add(Dense(1, activation='sigmoid'))\n",
    "\tmodel.compile(optimizer=Adam(), loss='binary_crossentropy', metrics=['accuracy'])\n",
    "\treturn model"
   ]
  },
  {
   "cell_type": "code",
   "execution_count": 9,
   "metadata": {
    "collapsed": true
   },
   "outputs": [],
   "source": [
    "def evaluate(X, y, model, params, out, indep=None, batch_size=32, epochs=100):\n",
    "\tcvs = np.zeros((len(y), 2))\n",
    "\tfolds = StratifiedKFold(5).split(X, y)\n",
    "\tif indep:\n",
    "\t\tinds = np.zeros((len(indep[1]), 2))\n",
    "\tfor i, (trained, valided) in enumerate(folds):\n",
    "\t\tX_train, y_train = X[trained], y[trained]\n",
    "\t\tX_valid, y_valid = X[valided], y[valided]\n",
    "\t\tinstance = model(*params)\n",
    "\t\tif not os.path.exists('%s.%d.h5' % (out, i)):\n",
    "\t\t\tbest_saving = ModelCheckpoint(filepath='%s.%d.h5' % (out, i), monitor='val_loss',\n",
    "\t\t\t\t\t\t\t\t\t\t  verbose=1, save_best_only=True, save_weights_only=True)\n",
    "\t\t\tearly_stopping = EarlyStopping(monitor='val_loss', patience=100)\n",
    "\t\t\tinstance.fit(X_train, y_train, epochs=epochs, validation_data=(X_valid, y_valid), verbose=2,\n",
    "\t\t\t\t\t\t callbacks=[best_saving, early_stopping], batch_size=batch_size)\n",
    "\t\tinstance.load_weights('%s.%d.h5' % (out, i))\n",
    "\t\tprint(\"Validation test:\", instance.evaluate(X_valid, y_valid, batch_size=batch_size))\n",
    "\t\tcvs[valided, 0], cvs[valided, 1] = instance.predict(X_valid, batch_size=batch_size)[:, 0], y_valid\n",
    "\t\tif indep:\n",
    "\t\t\tprint(\"Independent test:\", instance.evaluate(indep[0], indep[1], batch_size=batch_size))\n",
    "\t\t\tinds[:, 0] += instance.predict(indep[0], batch_size=batch_size)[:, 0]\n",
    "\t\t\tinds[:, 1] += indep[1]\n",
    "\tif indep:\n",
    "\t\tnp.savetxt(out + '.ind.txt', inds / 5, fmt='%f', delimiter='\\t')\n",
    "\tnp.savetxt(out + '.cv.txt', cvs, fmt='%f', delimiter='\\t')\n"
   ]
  },
  {
   "cell_type": "code",
   "execution_count": 10,
   "metadata": {
    "collapsed": true
   },
   "outputs": [],
   "source": [
    "def model_test(indep, path, out):\n",
    "\tscores = np.zeros((len(indep[1]), 2))\n",
    "\tinstance = load_model(path)\n",
    "\tscores[:, 0], scores[:, 1] = indep[1], instance.predict_proba(indep[0])[:, 0]\n",
    "\tnp.savetxt(out, scores, fmt='%f', delimiter='\\t')\n"
   ]
  },
  {
   "cell_type": "code",
   "execution_count": 11,
   "metadata": {
    "collapsed": true
   },
   "outputs": [],
   "source": [
    "def main():\n",
    "\tos.chdir('./')\n",
    "\t# word_vector()\n",
    "\tdst = sys.argv[1] if len(sys.argv) > 1 else 'finalresult'\n",
    "\tcut = 60\n",
    "\tX, y = pep1('%s_CV.txt' % dst, seq_len=cut)\n",
    "\tindep = pep1('%s_IND.txt' % dst, seq_len=cut) if os.path.exists('%s_IND.txt' % dst) else None\n",
    "\tparams = [64, X.shape[1:], 0.2]\n",
    "\tevaluate(X, y, BRNN, params, indep=indep, out='brnn_binary_%s_%d' % (dst, cut + 1), epochs=1000,\n",
    "\t\t\t batch_size=2 ** 10)"
   ]
  },
  {
   "cell_type": "code",
   "execution_count": 12,
   "metadata": {},
   "outputs": [
    {
     "ename": "FileNotFoundError",
     "evalue": "[Errno 2] No such file or directory: '-f_CV.txt'",
     "output_type": "error",
     "traceback": [
      "\u001b[1;31m---------------------------------------------------------------------------\u001b[0m",
      "\u001b[1;31mFileNotFoundError\u001b[0m                         Traceback (most recent call last)",
      "\u001b[1;32m<ipython-input-12-58ca95c5b364>\u001b[0m in \u001b[0;36m<module>\u001b[1;34m()\u001b[0m\n\u001b[1;32m----> 1\u001b[1;33m \u001b[0mmain\u001b[0m\u001b[1;33m(\u001b[0m\u001b[1;33m)\u001b[0m\u001b[1;33m\u001b[0m\u001b[0m\n\u001b[0m",
      "\u001b[1;32m<ipython-input-11-fd25fcad13ca>\u001b[0m in \u001b[0;36mmain\u001b[1;34m()\u001b[0m\n\u001b[0;32m      4\u001b[0m         \u001b[0mdst\u001b[0m \u001b[1;33m=\u001b[0m \u001b[0msys\u001b[0m\u001b[1;33m.\u001b[0m\u001b[0margv\u001b[0m\u001b[1;33m[\u001b[0m\u001b[1;36m1\u001b[0m\u001b[1;33m]\u001b[0m \u001b[1;32mif\u001b[0m \u001b[0mlen\u001b[0m\u001b[1;33m(\u001b[0m\u001b[0msys\u001b[0m\u001b[1;33m.\u001b[0m\u001b[0margv\u001b[0m\u001b[1;33m)\u001b[0m \u001b[1;33m>\u001b[0m \u001b[1;36m1\u001b[0m \u001b[1;32melse\u001b[0m \u001b[1;34m'finalresult'\u001b[0m\u001b[1;33m\u001b[0m\u001b[0m\n\u001b[0;32m      5\u001b[0m         \u001b[0mcut\u001b[0m \u001b[1;33m=\u001b[0m \u001b[1;36m60\u001b[0m\u001b[1;33m\u001b[0m\u001b[0m\n\u001b[1;32m----> 6\u001b[1;33m         \u001b[0mX\u001b[0m\u001b[1;33m,\u001b[0m \u001b[0my\u001b[0m \u001b[1;33m=\u001b[0m \u001b[0mpep1\u001b[0m\u001b[1;33m(\u001b[0m\u001b[1;34m'%s_CV.txt'\u001b[0m \u001b[1;33m%\u001b[0m \u001b[0mdst\u001b[0m\u001b[1;33m,\u001b[0m \u001b[0mseq_len\u001b[0m\u001b[1;33m=\u001b[0m\u001b[0mcut\u001b[0m\u001b[1;33m)\u001b[0m\u001b[1;33m\u001b[0m\u001b[0m\n\u001b[0m\u001b[0;32m      7\u001b[0m         \u001b[0mindep\u001b[0m \u001b[1;33m=\u001b[0m \u001b[0mpep1\u001b[0m\u001b[1;33m(\u001b[0m\u001b[1;34m'%s_IND.txt'\u001b[0m \u001b[1;33m%\u001b[0m \u001b[0mdst\u001b[0m\u001b[1;33m,\u001b[0m \u001b[0mseq_len\u001b[0m\u001b[1;33m=\u001b[0m\u001b[0mcut\u001b[0m\u001b[1;33m)\u001b[0m \u001b[1;32mif\u001b[0m \u001b[0mos\u001b[0m\u001b[1;33m.\u001b[0m\u001b[0mpath\u001b[0m\u001b[1;33m.\u001b[0m\u001b[0mexists\u001b[0m\u001b[1;33m(\u001b[0m\u001b[1;34m'%s_IND.txt'\u001b[0m \u001b[1;33m%\u001b[0m \u001b[0mdst\u001b[0m\u001b[1;33m)\u001b[0m \u001b[1;32melse\u001b[0m \u001b[1;32mNone\u001b[0m\u001b[1;33m\u001b[0m\u001b[0m\n\u001b[0;32m      8\u001b[0m         \u001b[0mparams\u001b[0m \u001b[1;33m=\u001b[0m \u001b[1;33m[\u001b[0m\u001b[1;36m64\u001b[0m\u001b[1;33m,\u001b[0m \u001b[0mX\u001b[0m\u001b[1;33m.\u001b[0m\u001b[0mshape\u001b[0m\u001b[1;33m[\u001b[0m\u001b[1;36m1\u001b[0m\u001b[1;33m:\u001b[0m\u001b[1;33m]\u001b[0m\u001b[1;33m,\u001b[0m \u001b[1;36m0.2\u001b[0m\u001b[1;33m]\u001b[0m\u001b[1;33m\u001b[0m\u001b[0m\n",
      "\u001b[1;32m<ipython-input-3-d35267d33bf7>\u001b[0m in \u001b[0;36mpep1\u001b[1;34m(path, seq_len)\u001b[0m\n\u001b[0;32m      2\u001b[0m         \u001b[0mresult\u001b[0m \u001b[1;33m=\u001b[0m \u001b[1;33m[\u001b[0m\u001b[1;33m]\u001b[0m\u001b[1;33m\u001b[0m\u001b[0m\n\u001b[0;32m      3\u001b[0m         \u001b[0mresultLabel\u001b[0m \u001b[1;33m=\u001b[0m \u001b[1;33m[\u001b[0m\u001b[1;33m]\u001b[0m\u001b[1;33m\u001b[0m\u001b[0m\n\u001b[1;32m----> 4\u001b[1;33m         \u001b[0mdata\u001b[0m \u001b[1;33m=\u001b[0m \u001b[0mopen\u001b[0m\u001b[1;33m(\u001b[0m\u001b[0mpath\u001b[0m\u001b[1;33m)\u001b[0m\u001b[1;33m.\u001b[0m\u001b[0mreadlines\u001b[0m\u001b[1;33m(\u001b[0m\u001b[1;33m)\u001b[0m\u001b[1;33m\u001b[0m\u001b[0m\n\u001b[0m\u001b[0;32m      5\u001b[0m         \u001b[1;32mfor\u001b[0m \u001b[0mi\u001b[0m \u001b[1;32min\u001b[0m \u001b[0mrange\u001b[0m\u001b[1;33m(\u001b[0m\u001b[0mlen\u001b[0m\u001b[1;33m(\u001b[0m\u001b[0mdata\u001b[0m\u001b[1;33m)\u001b[0m\u001b[1;33m)\u001b[0m\u001b[1;33m:\u001b[0m\u001b[1;33m\u001b[0m\u001b[0m\n\u001b[0;32m      6\u001b[0m                 \u001b[0mcut\u001b[0m \u001b[1;33m=\u001b[0m \u001b[1;33m(\u001b[0m\u001b[0mlen\u001b[0m\u001b[1;33m(\u001b[0m\u001b[0mdata\u001b[0m\u001b[1;33m[\u001b[0m\u001b[0mi\u001b[0m\u001b[1;33m]\u001b[0m\u001b[1;33m.\u001b[0m\u001b[0msplit\u001b[0m\u001b[1;33m(\u001b[0m\u001b[1;33m)\u001b[0m\u001b[1;33m[\u001b[0m\u001b[1;36m0\u001b[0m\u001b[1;33m]\u001b[0m\u001b[1;33m)\u001b[0m \u001b[1;33m-\u001b[0m \u001b[1;36m1\u001b[0m \u001b[1;33m-\u001b[0m \u001b[0mseq_len\u001b[0m\u001b[1;33m)\u001b[0m \u001b[1;33m//\u001b[0m \u001b[1;36m2\u001b[0m\u001b[1;33m\u001b[0m\u001b[0m\n",
      "\u001b[1;31mFileNotFoundError\u001b[0m: [Errno 2] No such file or directory: '-f_CV.txt'"
     ]
    }
   ],
   "source": [
    "main()"
   ]
  },
  {
   "cell_type": "code",
   "execution_count": null,
   "metadata": {
    "collapsed": true
   },
   "outputs": [],
   "source": []
  }
 ],
 "metadata": {
  "kernelspec": {
   "display_name": "Python 3",
   "language": "python",
   "name": "python3"
  },
  "language_info": {
   "codemirror_mode": {
    "name": "ipython",
    "version": 3
   },
   "file_extension": ".py",
   "mimetype": "text/x-python",
   "name": "python",
   "nbconvert_exporter": "python",
   "pygments_lexer": "ipython3",
   "version": "3.6.1"
  }
 },
 "nbformat": 4,
 "nbformat_minor": 2
}
