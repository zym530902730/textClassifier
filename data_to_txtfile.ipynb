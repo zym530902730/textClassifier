{
 "cells": [
  {
   "cell_type": "code",
   "execution_count": 12,
   "metadata": {},
   "outputs": [],
   "source": [
    "from sklearn import svm\n",
    "import matplotlib as mpl\n",
    "import numpy as np\n",
    "import pandas as pd"
   ]
  },
  {
   "cell_type": "code",
   "execution_count": 2,
   "metadata": {
    "collapsed": true
   },
   "outputs": [],
   "source": [
    "path1 = \"C:/Users/Crow/Desktop/rawdatafile/Protein.txt\"\n",
    "path2 = \"C:/Users/Crow/Desktop/rawdatafile/uniprot-human-filtered-reviewed%3Ayes.fasta\"\n",
    "path3 = 'C:/Users/Crow/Desktop/rawdatafile/out.fasta'\n",
    "pdata = pd.read_table(path1)\n",
    "#fastadata\n"
   ]
  },
  {
   "cell_type": "code",
   "execution_count": 3,
   "metadata": {},
   "outputs": [
    {
     "name": "stdout",
     "output_type": "stream",
     "text": [
      "      Protein accession  Position\n",
      "0                A1L0T0       429\n",
      "1                A4D1E9       356\n",
      "2                A6NHR9       269\n",
      "3                A6NHR9       538\n",
      "4                O00148       190\n",
      "5                O00159       383\n",
      "6                O00159       868\n",
      "7                O00159       882\n",
      "8                O00231       288\n",
      "9                O00231       358\n",
      "10               O00232       405\n",
      "11               O00244        38\n",
      "12               O00264       102\n",
      "13               O00264       169\n",
      "14               O00267       725\n",
      "15               O00299        95\n",
      "16               O00299       131\n",
      "17               O00541       322\n",
      "18               O00560       223\n",
      "19               O00566       203\n",
      "20               O00566       376\n",
      "21               O00566       455\n",
      "22               O00567       240\n",
      "23               O00567       375\n",
      "24               O00571       427\n",
      "25               O00622       203\n",
      "26               O00767       196\n",
      "27               O14579       293\n",
      "28               O14737        20\n",
      "29               O14818        47\n",
      "...                 ...       ...\n",
      "10672            Q9Y3E0       130\n",
      "10673            Q00341       453\n",
      "10674            Q00341       494\n",
      "10675            Q00341       711\n",
      "10676            P18206       308\n",
      "10677            P18206       731\n",
      "10678            P18206       881\n",
      "10679            P18206      1020\n",
      "10680            P18206      1115\n",
      "10681            Q9BQB6       152\n",
      "10682            Q6NSJ5       237\n",
      "10683            P38606       307\n",
      "10684            P38606       516\n",
      "10685            P21283       137\n",
      "10686            P61421       288\n",
      "10687            Q96A05        42\n",
      "10688            Q96A05        52\n",
      "10689            Q96A05        59\n",
      "10690            Q96A05        62\n",
      "10691            Q9UI12       371\n",
      "10692            Q15904       460\n",
      "10693            P61964       256\n",
      "10694            Q6ZQQ6      2072\n",
      "10695            Q7Z5K2       547\n",
      "10696            Q96KN7       943\n",
      "10697            Q86VM9       168\n",
      "10698            Q9H0M4       464\n",
      "10699            Q14966      1318\n",
      "10700            Q03938       479\n",
      "10701            O95159       121\n",
      "\n",
      "[10702 rows x 2 columns]\n"
     ]
    }
   ],
   "source": [
    "print(pdata)"
   ]
  },
  {
   "cell_type": "code",
   "execution_count": 5,
   "metadata": {
    "collapsed": true
   },
   "outputs": [],
   "source": [
    "# \n",
    "f=open(path2)\n",
    "seq={}\n",
    "for line in f:\n",
    "        if line.startswith('>'):\n",
    "                name=line.replace('>','').split()[0]\n",
    "                seq[name]=''\n",
    "        else:\n",
    "                seq[name]+=line.replace('\\n','').strip()\n",
    "f.close()\n"
   ]
  },
  {
   "cell_type": "code",
   "execution_count": 6,
   "metadata": {
    "collapsed": true
   },
   "outputs": [],
   "source": [
    "fr=open('C:/Users\\Crow/Desktop/rawdatafile/uniprot-human-filtered-reviewed%3Ayes.fasta', 'r')\n",
    "fw=open('C:/Users\\Crow/Desktop/rawdatafile/out.fasta', 'w')\n",
    "seq={}\n",
    "for line in fr:\n",
    "    if line.startswith('>'):    #判断字符串是否以‘>开始’\n",
    "        name=line.split()[0]    #以空格为分隔符，并取序列为0的项。\n",
    "        seq[name]=''\n",
    "    else:\n",
    "        seq[name]+=line.replace('\\n', '')\n",
    "fr.close()                           \n",
    "\n",
    "for i in seq.keys():\n",
    "    fw.write(i)\n",
    "    fw.write('\\n')\n",
    "    fw.write(seq[i])\n",
    "    fw.write('\\n')\n",
    "fr.close()"
   ]
  },
  {
   "cell_type": "code",
   "execution_count": 7,
   "metadata": {},
   "outputs": [
    {
     "name": "stdout",
     "output_type": "stream",
     "text": [
      ">sp|Q96HZ7|URAS1_HUMAN\n"
     ]
    }
   ],
   "source": [
    "print(name)"
   ]
  },
  {
   "cell_type": "code",
   "execution_count": 14,
   "metadata": {},
   "outputs": [
    {
     "name": "stderr",
     "output_type": "stream",
     "text": [
      "IOPub data rate exceeded.\n",
      "The notebook server will temporarily stop sending output\n",
      "to the client in order to avoid crashing it.\n",
      "To change this limit, set the config variable\n",
      "`--NotebookApp.iopub_data_rate_limit`.\n"
     ]
    }
   ],
   "source": [
    "# get_id=[]\n",
    "# for i in range(0,len(pdata)):\n",
    "#     get_id.append(pdata['Protein accession'][i])\n",
    "# for i in range(0,len(pdata)):\n",
    "#     print(pdata['Protein accession'][i])\n",
    "# #print(get_id)    \n",
    "line = 'GVVHGAIGGAGVTALLALCLCLIFFIVKTHRRKAARTAVGRNDTHPTTGSASPKHQKKSKLHGPTETSSCSGAAPTVEMDEELHYASLNFHGMNPSKDTSTEYSEVRTQ'\n",
    "#name=line.replace('>','').split()[0]\n",
    "seq[name]+=line.replace('\\n','').strip()\n",
    "print(name)\n",
    "print(seq[name])"
   ]
  },
  {
   "cell_type": "code",
   "execution_count": 21,
   "metadata": {},
   "outputs": [
    {
     "ename": "IndexError",
     "evalue": "list index out of range",
     "output_type": "error",
     "traceback": [
      "\u001b[1;31m---------------------------------------------------------------------------\u001b[0m",
      "\u001b[1;31mIndexError\u001b[0m                                Traceback (most recent call last)",
      "\u001b[1;32m<ipython-input-21-e25aec1477e2>\u001b[0m in \u001b[0;36m<module>\u001b[1;34m()\u001b[0m\n\u001b[0;32m      9\u001b[0m     \u001b[1;31m#name=ls[0]\u001b[0m\u001b[1;33m\u001b[0m\u001b[1;33m\u001b[0m\u001b[0m\n\u001b[0;32m     10\u001b[0m     \u001b[0mname\u001b[0m\u001b[1;33m=\u001b[0m\u001b[0ml\u001b[0m\u001b[1;33m.\u001b[0m\u001b[0msplit\u001b[0m\u001b[1;33m(\u001b[0m\u001b[1;33m)\u001b[0m\u001b[1;33m[\u001b[0m\u001b[1;36m0\u001b[0m\u001b[1;33m]\u001b[0m\u001b[1;33m\u001b[0m\u001b[0m\n\u001b[1;32m---> 11\u001b[1;33m     \u001b[0minfo\u001b[0m\u001b[1;33m[\u001b[0m\u001b[0mname\u001b[0m\u001b[1;33m]\u001b[0m\u001b[1;33m=\u001b[0m\u001b[0mls\u001b[0m\u001b[1;33m[\u001b[0m\u001b[1;36m1\u001b[0m\u001b[1;33m]\u001b[0m\u001b[1;33m\u001b[0m\u001b[0m\n\u001b[0m\u001b[0;32m     12\u001b[0m     \u001b[1;31m#遍历文件B中的基因名找到匹配的键\u001b[0m\u001b[1;33m\u001b[0m\u001b[1;33m\u001b[0m\u001b[0m\n\u001b[0;32m     13\u001b[0m     \u001b[1;32mfor\u001b[0m \u001b[0m_id\u001b[0m \u001b[1;32min\u001b[0m \u001b[0mget_id\u001b[0m\u001b[1;33m:\u001b[0m\u001b[1;33m\u001b[0m\u001b[0m\n",
      "\u001b[1;31mIndexError\u001b[0m: list index out of range"
     ]
    }
   ],
   "source": [
    "get_id=[]\n",
    "for i in range(0,len(pdata)):\n",
    "    get_id.append(pdata['Protein accession'][i])#文件B中只包含基因名，直接将基因名按行读取，保存在一个列表中，每一个元素为一个基因名\n",
    "#定义一个字典，键为基因名，值用于储存基因信息        \n",
    "info={}\n",
    "for l in open(path2):\n",
    "    #文件A中含有多种信息，用split()分开储存\n",
    "    ls=l.replace('\\n','').split('\\t')\n",
    "    #name=ls[0]\n",
    "    name=l.split()[0] \n",
    "    info[name]=ls[1]\n",
    "    #遍历文件B中的基因名找到匹配的键\n",
    "    for _id in get_id:\n",
    "        if _id==name:\n",
    "            print(name,'\\n',info[name])\n",
    "\n"
   ]
  },
  {
   "cell_type": "code",
   "execution_count": 25,
   "metadata": {},
   "outputs": [
    {
     "ename": "IndexError",
     "evalue": "list index out of range",
     "output_type": "error",
     "traceback": [
      "\u001b[1;31m---------------------------------------------------------------------------\u001b[0m",
      "\u001b[1;31mIndexError\u001b[0m                                Traceback (most recent call last)",
      "\u001b[1;32m<ipython-input-25-cfe5acc4661a>\u001b[0m in \u001b[0;36m<module>\u001b[1;34m()\u001b[0m\n\u001b[1;32m----> 1\u001b[1;33m \u001b[0mprint\u001b[0m\u001b[1;33m(\u001b[0m\u001b[0mls\u001b[0m\u001b[1;33m[\u001b[0m\u001b[1;36m1\u001b[0m\u001b[1;33m]\u001b[0m\u001b[1;33m)\u001b[0m\u001b[1;33m\u001b[0m\u001b[0m\n\u001b[0m",
      "\u001b[1;31mIndexError\u001b[0m: list index out of range"
     ]
    }
   ],
   "source": [
    "print(ls[1])"
   ]
  },
  {
   "cell_type": "code",
   "execution_count": 26,
   "metadata": {},
   "outputs": [
    {
     "ename": "KeyboardInterrupt",
     "evalue": "",
     "output_type": "error",
     "traceback": [
      "\u001b[1;31m---------------------------------------------------------------------------\u001b[0m",
      "\u001b[1;31mKeyboardInterrupt\u001b[0m                         Traceback (most recent call last)",
      "\u001b[1;32m<ipython-input-26-b18a94865059>\u001b[0m in \u001b[0;36m<module>\u001b[1;34m()\u001b[0m\n\u001b[0;32m     16\u001b[0m         \u001b[1;32melse\u001b[0m\u001b[1;33m:\u001b[0m\u001b[1;33m\u001b[0m\u001b[0m\n\u001b[0;32m     17\u001b[0m                 \u001b[1;31m#seq[name]+=line.replace('\\n','').strip()\u001b[0m\u001b[1;33m\u001b[0m\u001b[1;33m\u001b[0m\u001b[0m\n\u001b[1;32m---> 18\u001b[1;33m                 \u001b[0mfw\u001b[0m\u001b[1;33m.\u001b[0m\u001b[0mwrite\u001b[0m\u001b[1;33m(\u001b[0m\u001b[0mline\u001b[0m\u001b[1;33m)\u001b[0m\u001b[1;33m\u001b[0m\u001b[0m\n\u001b[0m\u001b[0;32m     19\u001b[0m \u001b[0mfr\u001b[0m\u001b[1;33m.\u001b[0m\u001b[0mclose\u001b[0m\u001b[1;33m(\u001b[0m\u001b[1;33m)\u001b[0m\u001b[1;33m\u001b[0m\u001b[0m\n\u001b[0;32m     20\u001b[0m \u001b[0mprint\u001b[0m\u001b[1;33m(\u001b[0m\u001b[1;34m'over'\u001b[0m\u001b[1;33m)\u001b[0m\u001b[1;33m\u001b[0m\u001b[0m\n",
      "\u001b[1;31mKeyboardInterrupt\u001b[0m: "
     ]
    }
   ],
   "source": [
    "fw = open('C:/Users/Crow/Desktop/rawdatafile/data_clean_P.fasta', 'w')\n",
    "fr = open(path3,'r')\n",
    "for line in fr:\n",
    "    for j in range(0,len(pdata)):\n",
    "        if line.startswith('>'):\n",
    "            fw.write('\\n')\n",
    "            name = str(line.replace('>','').split()[0])\n",
    "            if(pdata['Protein accession'][j] in name):\n",
    "                if(pdata['Protein accession'][j] == pdata['Protein accession'][j+1]):\n",
    "                    name = name + ' ' + str(pdata['Position'][j])\n",
    "                    continue\n",
    "                if(pdata['Protein accession'][j] == pdata['Protein accession'][j-1]):\n",
    "                    name = name + ' ' + str(pdata['Position'][j])\n",
    "                fw.write(name)\n",
    "                fw.write('\\n')\n",
    "        else:\n",
    "                #seq[name]+=line.replace('\\n','').strip()\n",
    "                fw.write(line)\n",
    "fr.close()\n",
    "print('over')"
   ]
  },
  {
   "cell_type": "code",
   "execution_count": 4,
   "metadata": {},
   "outputs": [
    {
     "name": "stdout",
     "output_type": "stream",
     "text": [
      "sp|A1L0T0|ILVBL_HUMAN\n",
      "3\n",
      "sp|A1L0T0|ILVBL_HUMAN 429\n",
      "4\n",
      "over\n"
     ]
    }
   ],
   "source": [
    "fr = open(path3,'r')\n",
    "fw = open('C:/Users/Crow/Desktop/rawdatafile/data_clean_P.fasta', 'w')\n",
    "\n",
    "\n",
    "for j in range(0,len(pdata)):\n",
    "    for line in fr:\n",
    "        if line.startswith('>'):\n",
    "            name = str(line.replace('>','').split()[0])\n",
    "        if(pdata['Protein accession'][j] in name):\n",
    "            print(name)\n",
    "            if line.startswith('>'):\n",
    "                if(pdata['Protein accession'][j] == pdata['Protein accession'][j+1] and not pdata['Protein accession'][j] == pdata['Protein accession'][j-1]):\n",
    "                    name += ' ' + str(pdata['Position'][j])\n",
    "                    print(1)\n",
    "                    continue\n",
    "                elif(j>0 and pdata['Protein accession'][j] == pdata['Protein accession'][j-1] and pdata['Protein accession'][j] == pdata['Protein accession'][j+1]):\n",
    "                    name += ' ' + str(pdata['Position'][j])\n",
    "                    continue  \n",
    "                    print(2)\n",
    "                    #fw.write(name)\n",
    "                    #fw.write('\\n')\n",
    "                else:\n",
    "                    name += ' ' + str(pdata['Position'][j])\n",
    "                    fw.write(name)\n",
    "                    fw.write('\\n')\n",
    "                    print(3)\n",
    "                    \n",
    "            else:\n",
    "                fw.write(line)\n",
    "                fw.write('\\n')\n",
    "                #print(line)\n",
    "                print(4)\n",
    "               \n",
    "\n",
    "\n",
    "                \n",
    "print('over')   \n",
    "fr.close()\n"
   ]
  },
  {
   "cell_type": "code",
   "execution_count": 8,
   "metadata": {},
   "outputs": [
    {
     "name": "stdout",
     "output_type": "stream",
     "text": [
      ">sp|A1L0T0|ILVBL_HUMAN\n",
      "3\n",
      ">sp|A1L0T0|ILVBL_HUMAN 429\n",
      "4\n"
     ]
    }
   ],
   "source": [
    "fr = open(path3,'r')\n",
    "fw = open('C:/Users/Crow/Desktop/rawdatafile/data_clean_P.fasta', 'w')\n",
    "\n",
    "seq={}\n",
    "# for line in fr:\n",
    "#     if line.startswith('>'):    #判断字符串是否以‘>开始’\n",
    "#         name=line.split()[0]    #以空格为分隔符，并取序列为0的项。\n",
    "#         seq[name]=''\n",
    "#     else:\n",
    "#         seq[name]+=line.replace('\\n', '')\n",
    "# fr.close()                           \n",
    "\n",
    "# for i in seq.keys():\n",
    "#     fw.write(i)\n",
    "#     fw.write('\\n')\n",
    "#     fw.write(seq[i])\n",
    "#     fw.write('\\n')\n",
    "# fr.close()\n",
    "\n",
    "for j in range(0,len(pdata)):\n",
    "    for line in fr:\n",
    "        if line.startswith('>'):\n",
    "            #name = str(line.replace('>','').split()[0])\n",
    "            name=line.split()[0]\n",
    "        if(pdata['Protein accession'][j] in name):\n",
    "            print(name)\n",
    "            if line.startswith('>'):\n",
    "                if(pdata['Protein accession'][j] == pdata['Protein accession'][j+1] and not pdata['Protein accession'][j] == pdata['Protein accession'][j-1]):\n",
    "                    name += ' ' + str(pdata['Position'][j])\n",
    "                    print(1)\n",
    "                    continue\n",
    "                elif(j>0 and pdata['Protein accession'][j] == pdata['Protein accession'][j-1] and pdata['Protein accession'][j] == pdata['Protein accession'][j+1]):\n",
    "                    name += ' ' + str(pdata['Position'][j])\n",
    "                    continue  \n",
    "                    print(2)\n",
    "                    #fw.write(name)\n",
    "                    #fw.write('\\n')\n",
    "                else:\n",
    "                    name += ' ' + str(pdata['Position'][j])\n",
    "                    #fw.write(name)\n",
    "                    #fw.write('\\n')\n",
    "                    seq[name] =''\n",
    "                    print(3)\n",
    "            else:\n",
    "                #fw.write(line)\n",
    "                #fw.write('\\n')\n",
    "                #print(line)\n",
    "                seq[name] += line.replace('\\n', '')\n",
    "                print(4)\n",
    "                \n",
    "               \n",
    "\n",
    "\n",
    "                \n",
    "#print('over')   \n",
    "#fr.close()\n"
   ]
  },
  {
   "cell_type": "code",
   "execution_count": 6,
   "metadata": {
    "collapsed": true
   },
   "outputs": [],
   "source": [
    "seq={}\n",
    "for j in range(0,len(pdata)):\n",
    "    for line in fr:\n",
    "        if line.startswith('>'):\n",
    "            #name = str(line.replace('>','').split()[0])\n",
    "            name=line.split()[0]\n",
    "        if(pdata['Protein accession'][j] in name):\n",
    "            print(name)\n",
    "            if line.startswith('>'):\n",
    "                if(pdata['Protein accession'][j] == pdata['Protein accession'][j+1] and not pdata['Protein accession'][j] == pdata['Protein accession'][j-1]):\n",
    "                    name += ' ' + str(pdata['Position'][j])\n",
    "                    print(1)\n",
    "                    continue\n",
    "                elif(j>0 and pdata['Protein accession'][j] == pdata['Protein accession'][j-1] and pdata['Protein accession'][j] == pdata['Protein accession'][j+1]):\n",
    "                    name += ' ' + str(pdata['Position'][j])\n",
    "                    continue  \n",
    "                    print(2)\n",
    "                    #fw.write(name)\n",
    "                    #fw.write('\\n')\n",
    "                else:\n",
    "                    name += ' ' + str(pdata['Position'][j])\n",
    "                    #fw.write(name)\n",
    "                    #fw.write('\\n')\n",
    "                    seq[name] =''\n",
    "                    print(3)\n",
    "                    \n",
    "            else:\n",
    "                #fw.write(line)\n",
    "                #fw.write('\\n')\n",
    "                #print(line)\n",
    "                seq[name] += line.replace('\\n', '')\n",
    "                print(4)"
   ]
  },
  {
   "cell_type": "code",
   "execution_count": 61,
   "metadata": {},
   "outputs": [
    {
     "name": "stdout",
     "output_type": "stream",
     "text": [
      "{'sp|A1L0T0|ILVBL_HUMAN 429': 'METPAAAAPAGSLFPSFLLLACGTLVAALLGAAHRLGLFYQLLHKVDKASVRHGGENVAAVLRAHGVRFIFTLVGGHISPLLVACEKLGIRVVDTRHEVTAVFAADAMARLSGTVGVAAVTAGPGLTNTVTAVKNAQMAQSPILLLGGAASTLLQNRGALQAVDQLSLFRPLCKFCVSVRRVRDIVPTLRAAMAAAQSGTPGPVFVELPVDVLYPYFMVQKEMVPAKPPKGLVGRVVSWYLENYLANLFAGAWEPQPEGPLPLDIPQASPQQVQRCVEILSRAKRPLMVLGSQALLTPTSADKLRAAVETLGVPCFLGGMARGLLGRNHPLHIRENRSAALKKADVIVLAGTVCDFRLSYGRVLSHSSKIIIVNRNREEMLLNSDIFWKPQEAVQGDVGSFVLKLVEGLQGQTWAPDWVEELREADRQKEQTFREKAAMPVAQHLNPVQVLQLVEETLPDNSILVVDGGDFVGTAAHLVQPRGPLRWLDPGAFGTLGVGAGFALGAKLCRPDAEVWCLFGDGAFGYSLIEFDTFVRHKIPVMALVGNDAGWTQISREQVPSLGSNVACGLAYTDYHKAAMGLGARGLLLSRENEDQVVKVLHDAQQQCRDGHPVVVNILIGRTDFRDGSIAV'}\n"
     ]
    }
   ],
   "source": [
    "print(seq)"
   ]
  },
  {
   "cell_type": "code",
   "execution_count": null,
   "metadata": {
    "collapsed": true
   },
   "outputs": [],
   "source": [
    "x, y = np.split(data, (4,), axis=1)\n",
    "x = x[:, :2]\n",
    "x_train, x_test, y_train, y_test = train_test_split(x, y, random_state=1, train_size=0.6)\n",
    "\n",
    "\n",
    "\n",
    "clf = svm.SVC(C=0.8, kernel='rbf', gamma=20, decision_function_shape='ovr')\n",
    "clf.fit(x_train, y_train.ravel())"
   ]
  },
  {
   "cell_type": "code",
   "execution_count": 17,
   "metadata": {
    "scrolled": true
   },
   "outputs": [
    {
     "ename": "KeyError",
     "evalue": "10702",
     "output_type": "error",
     "traceback": [
      "\u001b[1;31m---------------------------------------------------------------------------\u001b[0m",
      "\u001b[1;31mKeyError\u001b[0m                                  Traceback (most recent call last)",
      "\u001b[1;32m<ipython-input-17-34370d0ccbc7>\u001b[0m in \u001b[0;36m<module>\u001b[1;34m()\u001b[0m\n\u001b[0;32m      3\u001b[0m \u001b[0mseq\u001b[0m \u001b[1;33m=\u001b[0m \u001b[1;33m{\u001b[0m\u001b[1;33m}\u001b[0m\u001b[1;33m\u001b[0m\u001b[0m\n\u001b[0;32m      4\u001b[0m \u001b[1;32mfor\u001b[0m \u001b[0mi\u001b[0m \u001b[1;32min\u001b[0m \u001b[0mrange\u001b[0m\u001b[1;33m(\u001b[0m\u001b[1;36m0\u001b[0m\u001b[1;33m,\u001b[0m\u001b[0mlen\u001b[0m\u001b[1;33m(\u001b[0m\u001b[0mpdata\u001b[0m\u001b[1;33m)\u001b[0m\u001b[1;33m)\u001b[0m\u001b[1;33m:\u001b[0m\u001b[1;33m\u001b[0m\u001b[0m\n\u001b[1;32m----> 5\u001b[1;33m     \u001b[1;32mif\u001b[0m\u001b[1;33m(\u001b[0m\u001b[0mi\u001b[0m\u001b[1;33m<\u001b[0m\u001b[0mlen\u001b[0m\u001b[1;33m(\u001b[0m\u001b[0mpdata\u001b[0m\u001b[1;33m)\u001b[0m \u001b[1;32mand\u001b[0m \u001b[0mpdata\u001b[0m\u001b[1;33m[\u001b[0m\u001b[1;34m'Protein accession'\u001b[0m\u001b[1;33m]\u001b[0m\u001b[1;33m[\u001b[0m\u001b[0mi\u001b[0m\u001b[1;33m]\u001b[0m \u001b[1;33m==\u001b[0m \u001b[0mpdata\u001b[0m\u001b[1;33m[\u001b[0m\u001b[1;34m'Protein accession'\u001b[0m\u001b[1;33m]\u001b[0m\u001b[1;33m[\u001b[0m\u001b[0mi\u001b[0m\u001b[1;33m+\u001b[0m\u001b[1;36m1\u001b[0m\u001b[1;33m]\u001b[0m\u001b[1;33m)\u001b[0m\u001b[1;33m:\u001b[0m\u001b[1;33m\u001b[0m\u001b[0m\n\u001b[0m\u001b[0;32m      6\u001b[0m         \u001b[0msid\u001b[0m \u001b[1;33m=\u001b[0m \u001b[0mstr\u001b[0m\u001b[1;33m(\u001b[0m\u001b[0mpdata\u001b[0m\u001b[1;33m[\u001b[0m\u001b[1;34m'Position'\u001b[0m\u001b[1;33m]\u001b[0m\u001b[1;33m[\u001b[0m\u001b[0mi\u001b[0m\u001b[1;33m]\u001b[0m\u001b[1;33m)\u001b[0m \u001b[1;33m+\u001b[0m \u001b[1;34m\" \"\u001b[0m\u001b[1;33m\u001b[0m\u001b[0m\n\u001b[0;32m      7\u001b[0m         \u001b[1;31m#print('1')\u001b[0m\u001b[1;33m\u001b[0m\u001b[1;33m\u001b[0m\u001b[0m\n",
      "\u001b[1;32mC:\\ProgramData\\Anaconda3\\envs\\deeplearning\\lib\\site-packages\\pandas\\core\\series.py\u001b[0m in \u001b[0;36m__getitem__\u001b[1;34m(self, key)\u001b[0m\n\u001b[0;32m    599\u001b[0m         \u001b[0mkey\u001b[0m \u001b[1;33m=\u001b[0m \u001b[0mcom\u001b[0m\u001b[1;33m.\u001b[0m\u001b[0m_apply_if_callable\u001b[0m\u001b[1;33m(\u001b[0m\u001b[0mkey\u001b[0m\u001b[1;33m,\u001b[0m \u001b[0mself\u001b[0m\u001b[1;33m)\u001b[0m\u001b[1;33m\u001b[0m\u001b[0m\n\u001b[0;32m    600\u001b[0m         \u001b[1;32mtry\u001b[0m\u001b[1;33m:\u001b[0m\u001b[1;33m\u001b[0m\u001b[0m\n\u001b[1;32m--> 601\u001b[1;33m             \u001b[0mresult\u001b[0m \u001b[1;33m=\u001b[0m \u001b[0mself\u001b[0m\u001b[1;33m.\u001b[0m\u001b[0mindex\u001b[0m\u001b[1;33m.\u001b[0m\u001b[0mget_value\u001b[0m\u001b[1;33m(\u001b[0m\u001b[0mself\u001b[0m\u001b[1;33m,\u001b[0m \u001b[0mkey\u001b[0m\u001b[1;33m)\u001b[0m\u001b[1;33m\u001b[0m\u001b[0m\n\u001b[0m\u001b[0;32m    602\u001b[0m \u001b[1;33m\u001b[0m\u001b[0m\n\u001b[0;32m    603\u001b[0m             \u001b[1;32mif\u001b[0m \u001b[1;32mnot\u001b[0m \u001b[0mis_scalar\u001b[0m\u001b[1;33m(\u001b[0m\u001b[0mresult\u001b[0m\u001b[1;33m)\u001b[0m\u001b[1;33m:\u001b[0m\u001b[1;33m\u001b[0m\u001b[0m\n",
      "\u001b[1;32mC:\\ProgramData\\Anaconda3\\envs\\deeplearning\\lib\\site-packages\\pandas\\core\\indexes\\base.py\u001b[0m in \u001b[0;36mget_value\u001b[1;34m(self, series, key)\u001b[0m\n\u001b[0;32m   2475\u001b[0m         \u001b[1;32mtry\u001b[0m\u001b[1;33m:\u001b[0m\u001b[1;33m\u001b[0m\u001b[0m\n\u001b[0;32m   2476\u001b[0m             return self._engine.get_value(s, k,\n\u001b[1;32m-> 2477\u001b[1;33m                                           tz=getattr(series.dtype, 'tz', None))\n\u001b[0m\u001b[0;32m   2478\u001b[0m         \u001b[1;32mexcept\u001b[0m \u001b[0mKeyError\u001b[0m \u001b[1;32mas\u001b[0m \u001b[0me1\u001b[0m\u001b[1;33m:\u001b[0m\u001b[1;33m\u001b[0m\u001b[0m\n\u001b[0;32m   2479\u001b[0m             \u001b[1;32mif\u001b[0m \u001b[0mlen\u001b[0m\u001b[1;33m(\u001b[0m\u001b[0mself\u001b[0m\u001b[1;33m)\u001b[0m \u001b[1;33m>\u001b[0m \u001b[1;36m0\u001b[0m \u001b[1;32mand\u001b[0m \u001b[0mself\u001b[0m\u001b[1;33m.\u001b[0m\u001b[0minferred_type\u001b[0m \u001b[1;32min\u001b[0m \u001b[1;33m[\u001b[0m\u001b[1;34m'integer'\u001b[0m\u001b[1;33m,\u001b[0m \u001b[1;34m'boolean'\u001b[0m\u001b[1;33m]\u001b[0m\u001b[1;33m:\u001b[0m\u001b[1;33m\u001b[0m\u001b[0m\n",
      "\u001b[1;32mpandas\\_libs\\index.pyx\u001b[0m in \u001b[0;36mpandas._libs.index.IndexEngine.get_value (pandas\\_libs\\index.c:4404)\u001b[1;34m()\u001b[0m\n",
      "\u001b[1;32mpandas\\_libs\\index.pyx\u001b[0m in \u001b[0;36mpandas._libs.index.IndexEngine.get_value (pandas\\_libs\\index.c:4087)\u001b[1;34m()\u001b[0m\n",
      "\u001b[1;32mpandas\\_libs\\index.pyx\u001b[0m in \u001b[0;36mpandas._libs.index.IndexEngine.get_loc (pandas\\_libs\\index.c:5126)\u001b[1;34m()\u001b[0m\n",
      "\u001b[1;32mpandas\\_libs\\hashtable_class_helper.pxi\u001b[0m in \u001b[0;36mpandas._libs.hashtable.Int64HashTable.get_item (pandas\\_libs\\hashtable.c:14031)\u001b[1;34m()\u001b[0m\n",
      "\u001b[1;32mpandas\\_libs\\hashtable_class_helper.pxi\u001b[0m in \u001b[0;36mpandas._libs.hashtable.Int64HashTable.get_item (pandas\\_libs\\hashtable.c:13975)\u001b[1;34m()\u001b[0m\n",
      "\u001b[1;31mKeyError\u001b[0m: 10702"
     ]
    }
   ],
   "source": [
    "sid = ''\n",
    "seq = {}\n",
    "for i in range(0,len(pdata)):\n",
    "    if(i<len(pdata) and pdata['Protein accession'][i] == pdata['Protein accession'][i+1]):\n",
    "        sid = str(pdata['Position'][i]) + \" \" \n",
    "        #print('1')\n",
    "        continue\n",
    "    elif(i>0 and pdata['Protein accession'][i] == pdata['Protein accession'][i-1] and pdata['Protein accession'][i] == pdata['Protein accession'][i+1]):\n",
    "        sid += str(pdata['Position'][i]) + \" \" \n",
    "        #print('2')\n",
    "        continue\n",
    "    else:\n",
    "        sid += str(pdata['Position'][i]) + \" \"\n",
    "        seq[pdata['Protein accession'][i]] = sid\n",
    "        sid = ''\n",
    "    \n"
   ]
  },
  {
   "cell_type": "code",
   "execution_count": null,
   "metadata": {
    "collapsed": true
   },
   "outputs": [],
   "source": []
  },
  {
   "cell_type": "code",
   "execution_count": 26,
   "metadata": {
    "collapsed": true
   },
   "outputs": [],
   "source": [
    "sid = ''\n",
    "seq = {}\n",
    "for i in range(0,len(pdata)):\n",
    "    if(i>0 and pdata['Protein accession'][i] == pdata['Protein accession'][i-1]):\n",
    "        sid += str(pdata['Position'][i-1]) + \" \" + str(pdata['Position'][i]) \n",
    "        #print('1')\n",
    "        continue\n",
    "    else:\n",
    "        sid += str(pdata['Position'][i]) + \" \"\n",
    "        seq[pdata['Protein accession'][i]] = sid\n",
    "        sid = ''\n",
    "    "
   ]
  },
  {
   "cell_type": "code",
   "execution_count": 4,
   "metadata": {
    "collapsed": true
   },
   "outputs": [],
   "source": [
    "pdata2 = pdata.groupby(['Protein accession'])['Position'].apply(list)\n",
    "\n"
   ]
  },
  {
   "cell_type": "code",
   "execution_count": 8,
   "metadata": {},
   "outputs": [
    {
     "name": "stdout",
     "output_type": "stream",
     "text": [
      "Protein accession\n",
      "A0AV96                               [415, 321, 109]\n",
      "A0FGR8                          [885, 405, 400, 883]\n",
      "A0MZ66                                    [202, 323]\n",
      "A1L0T0                                         [429]\n",
      "A2RRP1                                        [1026]\n",
      "A4D1E9                                         [356]\n",
      "A5YKK6                                         [877]\n",
      "A6NDG6                                          [80]\n",
      "A6NEN9                                         [177]\n",
      "A6NHR9                                    [269, 538]\n",
      "A6PVI3                                          [73]\n",
      "A9YTQ3                                          [67]\n",
      "B1AJZ9                                         [513]\n",
      "O00116                               [454, 482, 476]\n",
      "O00148                               [190, 137, 273]\n",
      "O00151    [309, 203, 241, 246, 294, 22, 87, 198, 98]\n",
      "O00154                                         [362]\n",
      "O00159      [383, 868, 882, 709, 146, 486, 404, 281]\n",
      "O00161                                     [64, 190]\n",
      "O00170                                         [196]\n",
      "O00186                                         [309]\n",
      "O00193                                          [62]\n",
      "O00194                                          [22]\n",
      "O00203                            [512, 125, 55, 59]\n",
      "O00217                                      [49, 88]\n",
      "O00231                [288, 358, 417, 304, 372, 185]\n",
      "O00232                          [405, 448, 221, 147]\n",
      "O00233                                     [30, 117]\n",
      "O00244                                      [38, 25]\n",
      "O00258                                          [41]\n",
      "                             ...                    \n",
      "Q9Y5S2                                    [864, 542]\n",
      "Q9Y5U8                                         [105]\n",
      "Q9Y5X3                                    [365, 275]\n",
      "Q9Y606                                    [369, 147]\n",
      "Q9Y608                          [577, 662, 670, 369]\n",
      "Q9Y617                           [33, 318, 300, 311]\n",
      "Q9Y618                                         [520]\n",
      "Q9Y624                                          [63]\n",
      "Q9Y639                                         [249]\n",
      "Q9Y673                                    [202, 158]\n",
      "Q9Y676                                     [99, 112]\n",
      "Q9Y678                          [145, 116, 414, 217]\n",
      "Q9Y679                                    [371, 316]\n",
      "Q9Y696                                         [249]\n",
      "Q9Y6A4                                         [190]\n",
      "Q9Y6A5                                         [708]\n",
      "Q9Y6A9                                      [15, 76]\n",
      "Q9Y6B6                                         [166]\n",
      "Q9Y6C9                               [100, 293, 122]\n",
      "Q9Y6D6                                        [1790]\n",
      "Q9Y6D9                                    [351, 246]\n",
      "Q9Y6E0                                          [38]\n",
      "Q9Y6E2                               [192, 389, 198]\n",
      "Q9Y6G9                                      [94, 80]\n",
      "Q9Y6I3                                          [69]\n",
      "Q9Y6K9                                    [118, 285]\n",
      "Q9Y6M7                                          [34]\n",
      "Q9Y6M9                                      [55, 52]\n",
      "Q9Y6N5                [260, 409, 173, 320, 115, 180]\n",
      "Q9Y6Y8                               [931, 703, 733]\n",
      "Name: Position, Length: 2521, dtype: object\n"
     ]
    }
   ],
   "source": [
    "print(pdata2)"
   ]
  },
  {
   "cell_type": "code",
   "execution_count": 50,
   "metadata": {
    "collapsed": true
   },
   "outputs": [],
   "source": [
    "fw=open('C:/Users\\Crow/Desktop/rawdatafile/pdata2.txt', 'w')\n",
    "\n",
    "for i in range(0,len(pdata2)):\n",
    "    fw.write(pdata2.index[i])\n",
    "    fw.write('    ')\n",
    "    #fw.write(str(pdata2[i]))\n",
    "    for j in pdata2[i]:\n",
    "        fw.write(str(j))\n",
    "        fw.write('    ')\n",
    "    fw.write('\\n')"
   ]
  },
  {
   "cell_type": "code",
   "execution_count": null,
   "metadata": {
    "collapsed": true
   },
   "outputs": [],
   "source": [
    "import numpy\n",
    "import os\n",
    "#os.chdir(‘C:\\Program Files\\libsvm-3.16\\python’)\n",
    "os.chdir(\"F:\\\\wfpdm\\\\20150727_1010\\\\libsvm\\\\libsvm-3.12\\\\python\")\n",
    "import sys\n",
    "sys.path.append('F:\\\\wfpdm\\\\20150727_1010\\\\libsvm\\\\libsvm-3.12\\\\python')\n",
    "from svmutil import *\n",
    " \n",
    "#y, x = svm_read_problem('../heart_scale')\n",
    "#m = svm_train(y[:200], x[:200], '-c 10 -t 0 -p 10')\n",
    "#p_label, p_acc, p_val = svm_predict(y[200:], x[200:], m)\n",
    " \n",
    "Data_Set = []\n",
    "Data_Lab = []\n",
    "for k in range(5):\n",
    "    arr = numpy.random.random([30,45])\n",
    "    lab = [k]*30\n",
    "    for i in numpy.arange(0,30):\n",
    "        j = i%3\n",
    "        arr[i,k*9+j*3:k*9+j*3+3] = arr[i,k*9+j*3:k*9+j*3+3]+100\n",
    "    print arr.shape\n",
    "    Data_Set.append(arr)\n",
    "    Data_Lab.append(lab)\n",
    "train = Data_Set[0].tolist()\n",
    "m = svm_train(Data_Lab[0], Data_Set[0].tolist(), '-c 10 -t 0 -p 10')\n",
    "p_label, p_acc, p_val = svm_predict(Data_Lab[0], Data_Set[0].tolist(), m)\n"
   ]
  },
  {
   "cell_type": "code",
   "execution_count": null,
   "metadata": {
    "collapsed": true
   },
   "outputs": [],
   "source": [
    "import sys\n",
    "path = 'C:/Users/Crow/Desktop/libsvm-3.23/python'\n",
    "sys.path.append(path)\n",
    "from svmutil import *\n",
    "\n",
    "y,x = svm_read_problem('C:/Users/Crow/Desktop/binary_10.11.txt')\n",
    "m = svm_train(y[:20],x[:20],'-c 4')\n",
    "p_label,p_acc,p_val = svm_predict(y[:20],x[:20],m)\n",
    "print(p_label,p_acc,p_val)"
   ]
  },
  {
   "cell_type": "code",
   "execution_count": 43,
   "metadata": {},
   "outputs": [
    {
     "name": "stdout",
     "output_type": "stream",
     "text": [
      "[885, 405, 400, 883]\n"
     ]
    }
   ],
   "source": [
    "print(str(pdata2[1]))"
   ]
  },
  {
   "cell_type": "code",
   "execution_count": 11,
   "metadata": {
    "collapsed": true
   },
   "outputs": [],
   "source": [
    "fr = open(path3,'r')\n",
    "fw = open('C:/Users/Crow/Desktop/rawdatafile/data_clean_P.fasta', 'w')\n",
    "\n",
    "for line in fr:\n",
    "    for i in range(0,len(pdata2)):\n",
    "        if line.startswith('>'):\n",
    "            name = line.split()[0]\n",
    "        if pdata2.index[i] in name:\n",
    "            if line.startswith('>'):\n",
    "                fw.write('>' + pdata2.index[i])\n",
    "                fw.write('    ')\n",
    "                for j in pdata2[i]:\n",
    "                    fw.write(str(j))\n",
    "                    fw.write('    ')\n",
    "                fw.write('\\n')\n",
    "            else:\n",
    "                fw.write(line)\n",
    "                \n",
    "\n",
    "    \n",
    "    \n",
    "    \n"
   ]
  },
  {
   "cell_type": "code",
   "execution_count": 11,
   "metadata": {},
   "outputs": [
    {
     "name": "stdout",
     "output_type": "stream",
     "text": [
      "qazxsw\n",
      "0\n",
      "1\n",
      "2\n",
      "3\n",
      "4\n",
      "5\n",
      "6\n",
      "7\n",
      "8\n"
     ]
    }
   ],
   "source": [
    "str = 'qazxswedc'\n",
    "print(str[0:6])\n",
    "\n",
    "for t in range(len(str)):\n",
    "    print(t)"
   ]
  }
 ],
 "metadata": {
  "kernelspec": {
   "display_name": "Python 3",
   "language": "python",
   "name": "python3"
  },
  "language_info": {
   "codemirror_mode": {
    "name": "ipython",
    "version": 3
   },
   "file_extension": ".py",
   "mimetype": "text/x-python",
   "name": "python",
   "nbconvert_exporter": "python",
   "pygments_lexer": "ipython3",
   "version": "3.6.7"
  }
 },
 "nbformat": 4,
 "nbformat_minor": 2
}
