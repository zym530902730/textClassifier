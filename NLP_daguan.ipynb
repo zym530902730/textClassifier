{
 "cells": [
  {
   "cell_type": "code",
   "execution_count": 21,
   "metadata": {},
   "outputs": [
    {
     "name": "stdout",
     "output_type": "stream",
     "text": [
      "开始:..........\n"
     ]
    }
   ],
   "source": [
    "import pandas as pd\n",
    "from sklearn.linear_model import LogisticRegression\n",
    "from sklearn.feature_extraction.text import CountVectorizer\n",
    "from sklearn.feature_extraction.text import TfidfVectorizer\n",
    "print('开始:..........')"
   ]
  },
  {
   "cell_type": "code",
   "execution_count": 2,
   "metadata": {},
   "outputs": [],
   "source": [
    "df_train = pd.read_csv('C:/Users/Crow/Desktop/nlp_data/train_set.csv')\n"
   ]
  },
  {
   "cell_type": "code",
   "execution_count": 3,
   "metadata": {},
   "outputs": [],
   "source": [
    "df_test = pd.read_csv('C:/Users/Crow/Desktop/nlp_data/test_set.csv')\n"
   ]
  },
  {
   "cell_type": "code",
   "execution_count": 4,
   "metadata": {},
   "outputs": [],
   "source": [
    "df_train.drop(columns=['article','id'],inplace=True)\n",
    "df_test.drop(columns=['article'],inplace=True)"
   ]
  },
  {
   "cell_type": "code",
   "execution_count": 5,
   "metadata": {},
   "outputs": [
    {
     "name": "stdout",
     "output_type": "stream",
     "text": [
      "                                            word_seg  class\n",
      "0  816903 597526 520477 1179558 1033823 758724 63...     14\n",
      "1  90540 816903 441039 816903 569138 816903 10343...      3\n",
      "2  816903 1012629 957974 1033823 328210 947200 65...     12\n",
      "3  563568 1239563 680125 780219 782805 1033823 19...     13\n",
      "4  816903 816903 816903 139132 816903 312320 1103...     12\n"
     ]
    }
   ],
   "source": [
    "print(df_train[0:5])"
   ]
  },
  {
   "cell_type": "code",
   "execution_count": 32,
   "metadata": {},
   "outputs": [],
   "source": [
    "#vectorizer = CountVectorizer(ngram_range=(1,2),min_df=2,max_df=0.9,max_features=100000)\n",
    "vectorizer = TfidfVectorizer(ngram_range=(1,2),min_df=3,max_df=0.9,max_features=100000)\n",
    "vectorizer.fit(df_train['word_seg'])\n",
    "x_train = vectorizer.transform(df_train['word_seg'])   \n",
    "x_test = vectorizer.transform(df_test['word_seg'])\n",
    "y_train = df_train['class']-1"
   ]
  },
  {
   "cell_type": "code",
   "execution_count": 36,
   "metadata": {},
   "outputs": [
    {
     "data": {
      "text/plain": [
       "LogisticRegression(C=4, class_weight=None, dual=True, fit_intercept=True,\n",
       "          intercept_scaling=1, max_iter=100, multi_class='ovr', n_jobs=1,\n",
       "          penalty='l2', random_state=None, solver='liblinear', tol=0.0001,\n",
       "          verbose=0, warm_start=False)"
      ]
     },
     "execution_count": 36,
     "metadata": {},
     "output_type": "execute_result"
    }
   ],
   "source": [
    "lg = LogisticRegression(C=4,dual=True)\n",
    "# lg = LogisticRegression(C=8,dual=True)\n",
    "lg.fit(x_train,y_train)"
   ]
  },
  {
   "cell_type": "code",
   "execution_count": 37,
   "metadata": {},
   "outputs": [],
   "source": [
    "y_test = lg.predict(x_test)"
   ]
  },
  {
   "cell_type": "code",
   "execution_count": 38,
   "metadata": {},
   "outputs": [
    {
     "name": "stdout",
     "output_type": "stream",
     "text": [
      "完成.........\n"
     ]
    }
   ],
   "source": [
    "df_test['class'] = y_test.tolist()\n",
    "df_test['class'] = df_test['class'] + 1\n",
    "df_result = df_test.loc[:,['id','class']]\n",
    "df_result.to_csv('C:/Users/Crow/Desktop/nlp_data/result_5.csv',index=False)\n",
    "\n",
    "print('完成.........')"
   ]
  },
  {
   "cell_type": "code",
   "execution_count": 28,
   "metadata": {},
   "outputs": [
    {
     "name": "stdout",
     "output_type": "stream",
     "text": [
      "            id  class\n",
      "0            0      5\n",
      "1            1      4\n",
      "2            2     13\n",
      "3            3      4\n",
      "4            4      5\n",
      "5            5      5\n",
      "6            6     15\n",
      "7            7     19\n",
      "8            8      3\n",
      "9            9     12\n",
      "10          10      1\n",
      "11          11      2\n",
      "12          12      5\n",
      "13          13     13\n",
      "14          14     15\n",
      "15          15     18\n",
      "16          16      9\n",
      "17          17      9\n",
      "18          18      3\n",
      "19          19     17\n",
      "20          20      9\n",
      "21          21     12\n",
      "22          22      9\n",
      "23          23      9\n",
      "24          24      2\n",
      "25          25     15\n",
      "26          26      3\n",
      "27          27     17\n",
      "28          28      4\n",
      "29          29     19\n",
      "...        ...    ...\n",
      "102247  102247     16\n",
      "102248  102248      8\n",
      "102249  102249     10\n",
      "102250  102250      2\n",
      "102251  102251     18\n",
      "102252  102252     16\n",
      "102253  102253     18\n",
      "102254  102254      2\n",
      "102255  102255     14\n",
      "102256  102256      1\n",
      "102257  102257      6\n",
      "102258  102258     12\n",
      "102259  102259     15\n",
      "102260  102260     14\n",
      "102261  102261      6\n",
      "102262  102262      2\n",
      "102263  102263     12\n",
      "102264  102264     15\n",
      "102265  102265     14\n",
      "102266  102266      3\n",
      "102267  102267      3\n",
      "102268  102268      8\n",
      "102269  102269     14\n",
      "102270  102270      6\n",
      "102271  102271     15\n",
      "102272  102272      8\n",
      "102273  102273      7\n",
      "102274  102274      4\n",
      "102275  102275     14\n",
      "102276  102276     13\n",
      "\n",
      "[102277 rows x 2 columns]\n"
     ]
    }
   ],
   "source": [
    "print(df_result)"
   ]
  },
  {
   "cell_type": "code",
   "execution_count": 14,
   "metadata": {},
   "outputs": [
    {
     "name": "stdout",
     "output_type": "stream",
     "text": [
      "10\n",
      "ertyui\n",
      "wertyui\n",
      "0123456789\n",
      "01\n",
      "0123456789\n",
      "12345678\n"
     ]
    }
   ],
   "source": [
    "#strncat(str1,str2,n)\n",
    "str1 = '0123456789'\n",
    "str2 = 'qwertyuiop'\n",
    "n = 9\n",
    "\n",
    "lens = len(str1)\n",
    "site = 5\n",
    "ws = 3\n",
    "#str1 += str2[2:6]\n",
    "print(lens)\n",
    "print(str2[site-ws:site+ws])\n",
    "print(str2[site-ws-1:site+ws])\n",
    "str = '0123456789'\n",
    "print(str[:])\n",
    "print(str[0:2])\n",
    "print(str[0:10])\n",
    "print(str[1:9])"
   ]
  }
 ],
 "metadata": {
  "kernelspec": {
   "display_name": "Python 3",
   "language": "python",
   "name": "python3"
  },
  "language_info": {
   "codemirror_mode": {
    "name": "ipython",
    "version": 3
   },
   "file_extension": ".py",
   "mimetype": "text/x-python",
   "name": "python",
   "nbconvert_exporter": "python",
   "pygments_lexer": "ipython3",
   "version": "3.6.5"
  }
 },
 "nbformat": 4,
 "nbformat_minor": 2
}
