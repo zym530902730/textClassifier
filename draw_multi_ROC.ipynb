{
 "cells": [
  {
   "cell_type": "code",
   "execution_count": null,
   "metadata": {
    "collapsed": true
   },
   "outputs": [],
   "source": [
    "print(__doc__)\n",
    "\n",
    "import numpy as np\n",
    "from scipy import interp\n",
    "import matplotlib.pyplot as plt\n",
    "from itertools import cycle\n",
    "\n",
    "from sklearn import svm, datasets\n",
    "from sklearn.metrics import roc_curve, auc\n",
    "from sklearn.model_selection import StratifiedKFold\n",
    "\n",
    "data=pd.read_csv(\"/home01/chenhuangrong/ROC/svm_label.csv\",header=None,index_col=None)\n",
    "fpr, tpr, thresholds = roc_curve(data.values[:,0], data.values[:, 2])\n",
    "roc_auc = auc(fpr, tpr)\n",
    "# plt.plot(fpr, tpr,linestyle='--', lw=2, color='r',alpha=0.3,label='svm(ROC =%f)'%roc_auc)\n",
    "# plt.plot(fpr, tpr,linestyle='g-', lw=1,alpha=0.3,label='svm(ROC =%f)'%roc_auc)\n",
    "plt.plot(fpr, tpr,'g--',label='RFH(ROC =%f)'%roc_auc)\n",
    "\n",
    "data=pd.read_csv(\"/home01/chenhuangrong/ROC/PSTNP_label.csv\",header=None,index_col=None)\n",
    "fpr, tpr, thresholds = roc_curve(data.values[:,0], data.values[:, 2])\n",
    "roc_auc = auc(fpr, tpr)\n",
    "plt.plot(fpr, tpr,'r-',label='PSTNP(ROC =%f)'%roc_auc)\n",
    "\n",
    "data=pd.read_csv(\"/home01/chenhuangrong/ROC/PseDNC_label.csv\",header=None,index_col=None)\n",
    "fpr, tpr, thresholds = roc_curve(data.values[:,0], data.values[:, 2])\n",
    "roc_auc = auc(fpr, tpr)\n",
    "plt.plot(fpr, tpr,'b-.',label='PseDNC(ROC =%f)'%roc_auc)\n",
    "\n",
    "data=pd.read_csv(\"/home01/chenhuangrong/ROC/PCP_label.csv\",header=None,index_col=None)\n",
    "fpr, tpr, thresholds = roc_curve(data.values[:,0], data.values[:, 2])\n",
    "roc_auc = auc(fpr, tpr)\n",
    "plt.plot(fpr, tpr,'k,',label='PCP(ROC =%f)'%roc_auc)\n",
    "\n",
    "plt.xlim([-0.05, 1.05])\n",
    "plt.ylim([-0.05, 1.05])\n",
    "plt.xlabel('False Positive Rate')\n",
    "plt.ylabel('True Positive Rate')\n",
    "plt.title('Receiver operating characteristic')\n",
    "plt.legend(loc=\"lower right\")\n",
    "plt.show()"
   ]
  }
 ],
 "metadata": {
  "kernelspec": {
   "display_name": "Python 3",
   "language": "python",
   "name": "python3"
  },
  "language_info": {
   "codemirror_mode": {
    "name": "ipython",
    "version": 3
   },
   "file_extension": ".py",
   "mimetype": "text/x-python",
   "name": "python",
   "nbconvert_exporter": "python",
   "pygments_lexer": "ipython3",
   "version": "3.6.7"
  }
 },
 "nbformat": 4,
 "nbformat_minor": 1
}
